{
  "nbformat": 4,
  "nbformat_minor": 0,
  "metadata": {
    "hide_input": false,
    "kernelspec": {
      "display_name": "Python 3",
      "language": "python",
      "name": "python3"
    },
    "language_info": {
      "codemirror_mode": {
        "name": "ipython",
        "version": 3
      },
      "file_extension": ".py",
      "mimetype": "text/x-python",
      "name": "python",
      "nbconvert_exporter": "python",
      "pygments_lexer": "ipython3",
      "version": "3.7.6"
    },
    "latex_envs": {
      "LaTeX_envs_menu_present": true,
      "autoclose": false,
      "autocomplete": true,
      "bibliofile": "biblio.bib",
      "cite_by": "apalike",
      "current_citInitial": 1,
      "eqLabelWithNumbers": true,
      "eqNumInitial": 1,
      "hotkeys": {
        "equation": "Ctrl-E",
        "itemize": "Ctrl-I"
      },
      "labels_anchors": false,
      "latex_user_defs": false,
      "report_style_numbering": false,
      "user_envs_cfg": false
    },
    "nbTranslate": {
      "displayLangs": [
        "*"
      ],
      "hotkey": "alt-t",
      "langInMainMenu": true,
      "sourceLang": "en",
      "targetLang": "fr",
      "useGoogleTranslate": true
    },
    "toc": {
      "base_numbering": 1,
      "nav_menu": {},
      "number_sections": false,
      "sideBar": true,
      "skip_h1_title": true,
      "title_cell": "Table of Contents",
      "title_sidebar": "Contents",
      "toc_cell": false,
      "toc_position": {},
      "toc_section_display": true,
      "toc_window_display": false
    },
    "varInspector": {
      "cols": {
        "lenName": 16,
        "lenType": 16,
        "lenVar": 40
      },
      "kernels_config": {
        "python": {
          "delete_cmd_postfix": "",
          "delete_cmd_prefix": "del ",
          "library": "var_list.py",
          "varRefreshCmd": "print(var_dic_list())"
        },
        "r": {
          "delete_cmd_postfix": ") ",
          "delete_cmd_prefix": "rm(",
          "library": "var_list.r",
          "varRefreshCmd": "cat(var_dic_list()) "
        }
      },
      "types_to_exclude": [
        "module",
        "function",
        "builtin_function_or_method",
        "instance",
        "_Feature"
      ],
      "window_display": false
    },
    "colab": {
      "provenance": [],
      "collapsed_sections": [
        "KlA_LeBPx4kr"
      ]
    }
  },
  "cells": [
    {
      "cell_type": "markdown",
      "metadata": {
        "id": "7CatsVNZSUtt"
      },
      "source": [
        "# Перед началом работы\n",
        "\n",
        "В Colab, среде которой мы работаем, все файлы, загруженные нами, будут удалены после завершения работы. Чтобы сохранить все файлы мы сделали GitHub репозиторий и будем его каждый раз подключать заново. Для этого выполняем команду\n",
        "\n",
        "`!git clone https://github.com/neuralcomputer/ML_School.git`\n",
        "\n",
        "Все данные скачаются, загрузятся в среду в папку ML_School/\n",
        "\n",
        "Всегда будем писать такой путь к файлам.\n",
        "\n",
        "Если вы работаете на локальном компьютере, то необходимо писать путь для вашего компьютера."
      ]
    },
    {
      "cell_type": "code",
      "metadata": {
        "colab": {
          "base_uri": "https://localhost:8080/"
        },
        "id": "qOvprswWSls4",
        "outputId": "a59b4cd2-be4a-41d4-b02e-7c05f7c8cb33"
      },
      "source": [
        "!git clone https://github.com/neuralcomputer/ML_School.git"
      ],
      "execution_count": null,
      "outputs": [
        {
          "output_type": "stream",
          "name": "stdout",
          "text": [
            "Cloning into 'ML_School'...\n",
            "remote: Enumerating objects: 94, done.\u001b[K\n",
            "remote: Counting objects: 100% (15/15), done.\u001b[K\n",
            "remote: Compressing objects: 100% (15/15), done.\u001b[K\n",
            "remote: Total 94 (delta 5), reused 0 (delta 0), pack-reused 79 (from 1)\u001b[K\n",
            "Receiving objects: 100% (94/94), 33.83 MiB | 19.09 MiB/s, done.\n",
            "Resolving deltas: 100% (29/29), done.\n"
          ]
        }
      ]
    },
    {
      "cell_type": "markdown",
      "metadata": {
        "id": "JfcjVMNAx4kW"
      },
      "source": [
        "# Математика в Python\n",
        "Приветствую! Мы начинаем изучение замечательной области машинного обучения, которая позволяет обучать компьютеры решать многие задачи образом, похожим на то, как обучается человек.\n",
        "В курсе мы будем пользоваться многими библиотеками замечательного языка Python, с которым вы немного знакомы. И прежде чем начинать изучать машинное обучение мы познакомимся со способами работы и отображения данных.   \n",
        "\n",
        "Сегодня мы посмотрим, как можно выполнять математические операции в Python, посмотрим на разные типы *объектов* и переменных.\n",
        "\n",
        "Объект - это то, что действительно хранится в определенном месте памяти компьютера. Конечно, там хранятся только последовательности из 0 и 1, но мы можем по-разному *представлять* себе к чему такие последовательности относятся. В нашем представлении это могут быть числа, это могут быть строки, изображения, и все что угодно. Важно правильно хранить и правильно обращаться (или как говорят *читать*) к этим данным. Чтобы человеку-программисту было понятно с каким объектом он работает, объект имеет название или, по-другому, *имя*.\n",
        "\n",
        "По своей сути *имя* объекта для человека это название, но для компьютера это *адрес* (ссылка, номер) ячейки памяти, где хранится объект. Если объект хранится в нескольких ячейках, то имя это  адрес первой ячейки.\n",
        "\n",
        "Надо различать имя переменной и ее содержимое, т.е. тот объект, на который она ссылается. Обычно одному объекту соответствует одно имя, но может быть и по-другому. Один и тот же объект может иметь два и больше имен, это бывает удобно для программиста, если надо, а не хочется переименовать свой объект.\n",
        "\n",
        "Один из типов данных, и самый важный, это *числа*.\n",
        "\n",
        "Одно число называют *скаляр* и с ним можно выполнять разные математические операции.\n",
        "\n",
        "Набор (говорят *массив* или *тензор*) из нескольких чисел можно представить по-разному, в одномерном, двумерном, трехмерном варианте или даже больше.\n",
        "\n",
        "![img](https://drive.google.com/uc?id=13UY_qQy4w_GhJS-VXOHHg2yPFaml72Lt)\n",
        "\n",
        "Одномерный массив называется *вектор* (или строка), двумерный - *матрица*. Многомерный называют просто массивом указывая его размерность. Часто трехмерный массив называют *тензор*, хотя это неправильно, тензор может быть любой размерности.\n",
        "\n",
        "В массивах (а мы помним, что массив это набор чисел) важно не только количество элементов, но и как именно они расположены, массивы имеют *форму*. 30 чисел можно по-разному расположить:\n",
        "\n",
        "  * друг за другом в одной строке - получим одномерный массив - строку.\n",
        "  * друг под другом в одном столбце -  получим тоже одномерный массив, но уже вектор.\n",
        "  * 6 строк, в каждой по 5 элементов - получили матрицу размером 6 * 5\n",
        "  * 5 строк, в каждой по 6 элементов - получили матрицу размером 5 * 6\n",
        "  * 3 строки по 5 элементов - получим матрицу 3 * 5 и сделаем еще одну матрицу 3 * 5 - получили две матрицы одинакового размера, можем их поставить друг за другом и представить как параллелепипед - получили трехмерный массив.\n",
        "  \n",
        "  И так далее, придумайте свои варианты размещения элементов и определите форму (размерность и размеры) массива.\n",
        "  \n",
        "\n"
      ]
    },
    {
      "cell_type": "markdown",
      "metadata": {
        "id": "mYsORhlBx4kY"
      },
      "source": [
        "# 1. Математические операции со скалярами.\n",
        "Со скалярами можно выполнять разные математические операции. Многие библиотеки (модули) имеют уже готовые решения для этого, базовые операции встроены в сам Python."
      ]
    },
    {
      "cell_type": "code",
      "metadata": {
        "ExecuteTime": {
          "end_time": "2020-10-11T07:27:37.151072Z",
          "start_time": "2020-10-11T07:27:37.148072Z"
        },
        "id": "W4uffvkYx4ka"
      },
      "source": [
        "a=5     # зададим число a\n",
        "b=0.3   # зададим число b"
      ],
      "execution_count": null,
      "outputs": []
    },
    {
      "cell_type": "code",
      "source": [
        "a"
      ],
      "metadata": {
        "colab": {
          "base_uri": "https://localhost:8080/"
        },
        "id": "_pH6-LRFWDXF",
        "outputId": "48a1aa17-2cb3-4ea9-b434-be7e38c6c247"
      },
      "execution_count": null,
      "outputs": [
        {
          "output_type": "execute_result",
          "data": {
            "text/plain": [
              "5"
            ]
          },
          "metadata": {},
          "execution_count": 3
        }
      ]
    },
    {
      "cell_type": "code",
      "metadata": {
        "ExecuteTime": {
          "end_time": "2020-10-11T07:27:37.207075Z",
          "start_time": "2020-10-11T07:27:37.199075Z"
        },
        "id": "zy1wQ_bHx4ka"
      },
      "source": [
        "c=a+7 # сложение чисел"
      ],
      "execution_count": null,
      "outputs": []
    },
    {
      "cell_type": "code",
      "source": [
        "c"
      ],
      "metadata": {
        "colab": {
          "base_uri": "https://localhost:8080/"
        },
        "id": "ksoHN8g56PJO",
        "outputId": "7d4b0d16-4435-46ad-c6f6-adf93475e29b"
      },
      "execution_count": null,
      "outputs": [
        {
          "output_type": "execute_result",
          "data": {
            "text/plain": [
              "12"
            ]
          },
          "metadata": {},
          "execution_count": 5
        }
      ]
    },
    {
      "cell_type": "code",
      "metadata": {
        "ExecuteTime": {
          "end_time": "2020-10-11T07:27:37.254078Z",
          "start_time": "2020-10-11T07:27:37.251078Z"
        },
        "colab": {
          "base_uri": "https://localhost:8080/"
        },
        "id": "f-nVyje2x4kb",
        "outputId": "e6847603-9859-4205-9456-892be8dd1e47"
      },
      "source": [
        "a-b # вычитание чисел"
      ],
      "execution_count": null,
      "outputs": [
        {
          "output_type": "execute_result",
          "data": {
            "text/plain": [
              "4.7"
            ]
          },
          "metadata": {},
          "execution_count": 6
        }
      ]
    },
    {
      "cell_type": "code",
      "metadata": {
        "ExecuteTime": {
          "end_time": "2020-10-11T07:27:37.304081Z",
          "start_time": "2020-10-11T07:27:37.301081Z"
        },
        "colab": {
          "base_uri": "https://localhost:8080/"
        },
        "id": "uNuNOsZIx4kc",
        "outputId": "92a986c8-c26a-4ab3-8f41-8e325e45eaac"
      },
      "source": [
        "a*b # умножение чисел"
      ],
      "execution_count": null,
      "outputs": [
        {
          "output_type": "execute_result",
          "data": {
            "text/plain": [
              "1.5"
            ]
          },
          "metadata": {},
          "execution_count": 7
        }
      ]
    },
    {
      "cell_type": "code",
      "metadata": {
        "ExecuteTime": {
          "end_time": "2020-10-11T07:27:37.354084Z",
          "start_time": "2020-10-11T07:27:37.351083Z"
        },
        "colab": {
          "base_uri": "https://localhost:8080/"
        },
        "id": "hVFH0gnmx4kd",
        "outputId": "9b35f896-ac81-4ab9-fc51-cd1562b4abf0"
      },
      "source": [
        "a/b # деление чисел"
      ],
      "execution_count": null,
      "outputs": [
        {
          "output_type": "execute_result",
          "data": {
            "text/plain": [
              "16.666666666666668"
            ]
          },
          "metadata": {},
          "execution_count": 8
        }
      ]
    },
    {
      "cell_type": "code",
      "metadata": {
        "ExecuteTime": {
          "end_time": "2020-10-11T07:27:37.403086Z",
          "start_time": "2020-10-11T07:27:37.401086Z"
        },
        "id": "J7oGOmNgx4ke",
        "colab": {
          "base_uri": "https://localhost:8080/",
          "height": 181
        },
        "outputId": "6acb06ec-7b6e-439a-d54b-0ba4c7791e54"
      },
      "source": [
        "# Раскомментируйте две строчки ниже и попробуйте поделить на ноль.\n",
        "b=0 # а если поделим на 0?\n",
        "a/b # возникнет ошибка, на 0 делить нельзя."
      ],
      "execution_count": null,
      "outputs": [
        {
          "output_type": "error",
          "ename": "ZeroDivisionError",
          "evalue": "division by zero",
          "traceback": [
            "\u001b[0;31m---------------------------------------------------------------------------\u001b[0m",
            "\u001b[0;31mZeroDivisionError\u001b[0m                         Traceback (most recent call last)",
            "\u001b[0;32m<ipython-input-9-1a1f650e9fd4>\u001b[0m in \u001b[0;36m<cell line: 3>\u001b[0;34m()\u001b[0m\n\u001b[1;32m      1\u001b[0m \u001b[0;31m# Раскомментируйте две строчки ниже и попробуйте поделить на ноль.\u001b[0m\u001b[0;34m\u001b[0m\u001b[0;34m\u001b[0m\u001b[0m\n\u001b[1;32m      2\u001b[0m \u001b[0mb\u001b[0m\u001b[0;34m=\u001b[0m\u001b[0;36m0\u001b[0m \u001b[0;31m# а если поделим на 0?\u001b[0m\u001b[0;34m\u001b[0m\u001b[0;34m\u001b[0m\u001b[0m\n\u001b[0;32m----> 3\u001b[0;31m \u001b[0ma\u001b[0m\u001b[0;34m/\u001b[0m\u001b[0mb\u001b[0m \u001b[0;31m# возникнет ошибка, на 0 делить нельзя.\u001b[0m\u001b[0;34m\u001b[0m\u001b[0;34m\u001b[0m\u001b[0m\n\u001b[0m",
            "\u001b[0;31mZeroDivisionError\u001b[0m: division by zero"
          ]
        }
      ]
    },
    {
      "cell_type": "markdown",
      "metadata": {
        "id": "Pr0zU0rwx4ke"
      },
      "source": [
        "# 2. Модуль `math`\n",
        "Для более сложных операций рассмотрим модуль [`math`](https://pythonworld.ru/moduli/modul-math.html).\n",
        "\n",
        "Сначала его нужно подключить с помощью команды `import`."
      ]
    },
    {
      "cell_type": "code",
      "metadata": {
        "ExecuteTime": {
          "end_time": "2020-10-11T07:27:37.502092Z",
          "start_time": "2020-10-11T07:27:37.499092Z"
        },
        "id": "vUUhoRDHx4kf"
      },
      "source": [
        "import math"
      ],
      "execution_count": null,
      "outputs": []
    },
    {
      "cell_type": "code",
      "source": [
        "#math"
      ],
      "metadata": {
        "id": "Q4nDJ2wUXd-K"
      },
      "execution_count": null,
      "outputs": []
    },
    {
      "cell_type": "markdown",
      "metadata": {
        "id": "XRa5WklVx4kf"
      },
      "source": [
        "## Округление\n",
        "Попробуйте округлять разные числа *a* и ответьте, чем отличаются эти два способа `ceil` и `floor`."
      ]
    },
    {
      "cell_type": "code",
      "source": [],
      "metadata": {
        "id": "uVkRiWOit2TT"
      },
      "execution_count": null,
      "outputs": []
    },
    {
      "cell_type": "code",
      "metadata": {
        "ExecuteTime": {
          "end_time": "2020-10-11T07:27:37.601098Z",
          "start_time": "2020-10-11T07:27:37.597097Z"
        },
        "id": "QxicR5NMx4kg",
        "colab": {
          "base_uri": "https://localhost:8080/"
        },
        "outputId": "a8476c11-f114-4c7d-c6c6-52f65cb34b8a"
      },
      "source": [
        "# Округление\n",
        "a=3.2\n",
        "b=math.ceil(a) # округление к ближайшему большему целому.\n",
        "c=math.floor(a) #округление вниз\n",
        "b, c"
      ],
      "execution_count": null,
      "outputs": [
        {
          "output_type": "execute_result",
          "data": {
            "text/plain": [
              "(4, 3)"
            ]
          },
          "metadata": {},
          "execution_count": 12
        }
      ]
    },
    {
      "cell_type": "markdown",
      "metadata": {
        "id": "bNTWm6nPx4kh"
      },
      "source": [
        "## Модуль числа\n",
        "Попробуйте для положительных и отрицательных чисел."
      ]
    },
    {
      "cell_type": "code",
      "metadata": {
        "ExecuteTime": {
          "end_time": "2020-10-11T07:27:37.695103Z",
          "start_time": "2020-10-11T07:27:37.692103Z"
        },
        "id": "dcrydaQ3x4kh",
        "colab": {
          "base_uri": "https://localhost:8080/"
        },
        "outputId": "513bebed-3318-4f71-d7e6-91a254090f02"
      },
      "source": [
        "a=-7\n",
        "d=math.fabs(a)\n",
        "d"
      ],
      "execution_count": null,
      "outputs": [
        {
          "output_type": "execute_result",
          "data": {
            "text/plain": [
              "7.0"
            ]
          },
          "metadata": {},
          "execution_count": 14
        }
      ]
    },
    {
      "cell_type": "code",
      "source": [
        "print(a,d)"
      ],
      "metadata": {
        "colab": {
          "base_uri": "https://localhost:8080/"
        },
        "id": "SECmFeG6Xe67",
        "outputId": "2b4d81b7-cb2b-4e9a-8483-ebb33d0d384f"
      },
      "execution_count": null,
      "outputs": [
        {
          "output_type": "stream",
          "name": "stdout",
          "text": [
            "-7 7.0\n"
          ]
        }
      ]
    },
    {
      "cell_type": "markdown",
      "metadata": {
        "id": "XvCf2yTGx4kh"
      },
      "source": [
        "## Остаток от деления $c=mod_b(a)$\n",
        "Попробуйте для разных целых чисел __a__ и __b__ и скажите, что же это за функция `fmod`.\n",
        "\n",
        "Могут ли __a__ и __b__ быть отрицательными?\n",
        "\n",
        "Может ли __a=0__? Может ли __b=0__? Может ли __b=1__, какой будет результат в этом случае?\n",
        "\n",
        "> В отличии от того, чему нас учат в школе, в этой функции __a__ и __b__ могут быть дробными. Но мы таким пользоваться не будем."
      ]
    },
    {
      "cell_type": "code",
      "metadata": {
        "ExecuteTime": {
          "end_time": "2020-10-11T07:27:37.793109Z",
          "start_time": "2020-10-11T07:27:37.789108Z"
        },
        "id": "jhEEmVvsx4ki",
        "colab": {
          "base_uri": "https://localhost:8080/"
        },
        "outputId": "2f076245-e023-407b-850d-97fe70b348e0"
      },
      "source": [
        "a=7\n",
        "b=2\n",
        "math.fmod(a,b)"
      ],
      "execution_count": null,
      "outputs": [
        {
          "output_type": "execute_result",
          "data": {
            "text/plain": [
              "1.0"
            ]
          },
          "metadata": {},
          "execution_count": 16
        }
      ]
    },
    {
      "cell_type": "markdown",
      "metadata": {
        "id": "skh5TSHWx4ki"
      },
      "source": [
        "## Константы\n",
        "Посмотрите на результат и скажите, что за константы мы тут получили? Что вы про них знаете?"
      ]
    },
    {
      "cell_type": "code",
      "metadata": {
        "ExecuteTime": {
          "end_time": "2020-10-11T07:27:37.885114Z",
          "start_time": "2020-10-11T07:27:37.882114Z"
        },
        "id": "8aMQ2F-Nx4ki",
        "colab": {
          "base_uri": "https://localhost:8080/"
        },
        "outputId": "2c93adb8-ee80-4769-916d-63c84258d72a"
      },
      "source": [
        "math.pi"
      ],
      "execution_count": null,
      "outputs": [
        {
          "output_type": "execute_result",
          "data": {
            "text/plain": [
              "3.141592653589793"
            ]
          },
          "metadata": {},
          "execution_count": 17
        }
      ]
    },
    {
      "cell_type": "code",
      "metadata": {
        "ExecuteTime": {
          "end_time": "2020-10-11T07:27:37.935117Z",
          "start_time": "2020-10-11T07:27:37.931117Z"
        },
        "id": "ehCOx7-Gx4kj",
        "colab": {
          "base_uri": "https://localhost:8080/"
        },
        "outputId": "7e7334e7-5f35-4959-c693-1424d4dcff0f"
      },
      "source": [
        "math.e"
      ],
      "execution_count": null,
      "outputs": [
        {
          "output_type": "execute_result",
          "data": {
            "text/plain": [
              "2.718281828459045"
            ]
          },
          "metadata": {},
          "execution_count": 18
        }
      ]
    },
    {
      "cell_type": "markdown",
      "metadata": {
        "id": "6nt7DZ4mx4kk"
      },
      "source": [
        "## Возведение в степень, экспонента, логарифм.\n",
        "\n",
        "### Возведение в степень: $с=a^b$\n",
        "\n",
        "Попробуйте для разных чисел a и b.\n",
        "\n",
        "Что если a=0, а если b = 0? Может ли а или b быть отрицательным? Нецелым?\n",
        "\n",
        "Что мы получим если b=0.5? Как такую операцию назвать по-другому?\n",
        "\n",
        "А если b=0.5 и a - отрицательное?\n"
      ]
    },
    {
      "cell_type": "code",
      "metadata": {
        "ExecuteTime": {
          "end_time": "2020-10-11T07:27:38.032122Z",
          "start_time": "2020-10-11T07:27:38.028122Z"
        },
        "id": "TA3EDJDyx4kk",
        "colab": {
          "base_uri": "https://localhost:8080/"
        },
        "outputId": "803a3681-2542-4912-9c9b-6b2c4f3515d3"
      },
      "source": [
        "# Возведение в степень.\n",
        "a=3\n",
        "b=4\n",
        "math.pow(a, b)"
      ],
      "execution_count": null,
      "outputs": [
        {
          "output_type": "execute_result",
          "data": {
            "text/plain": [
              "81.0"
            ]
          },
          "metadata": {},
          "execution_count": 19
        }
      ]
    },
    {
      "cell_type": "markdown",
      "metadata": {
        "id": "a7XvSLf0x4kk"
      },
      "source": [
        "\n",
        "### Корень квадратный: $с=\\sqrt{a}$\n",
        "\n",
        "Функция `sqrt()`.\n",
        "\n",
        "Попробуйте для разных чисел __a__\n",
        "\n",
        "Что если __a=0__? Может ли __а__ быть отрицательным? Нецелым?\n",
        "\n",
        "А как извлечь корень третьей степени?\n"
      ]
    },
    {
      "cell_type": "code",
      "metadata": {
        "ExecuteTime": {
          "end_time": "2020-10-11T07:27:38.129128Z",
          "start_time": "2020-10-11T07:27:38.126128Z"
        },
        "id": "MNk66GNKx4kk",
        "colab": {
          "base_uri": "https://localhost:8080/"
        },
        "outputId": "9246dace-0199-40fe-ee99-978797a07258"
      },
      "source": [
        "# Корень квадратный.\n",
        "a=16\n",
        "math.sqrt(a)"
      ],
      "execution_count": null,
      "outputs": [
        {
          "output_type": "execute_result",
          "data": {
            "text/plain": [
              "4.0"
            ]
          },
          "metadata": {},
          "execution_count": 20
        }
      ]
    },
    {
      "cell_type": "code",
      "metadata": {
        "ExecuteTime": {
          "end_time": "2020-10-11T07:27:38.180131Z",
          "start_time": "2020-10-11T07:27:38.177131Z"
        },
        "id": "Our0orC9x4kl",
        "colab": {
          "base_uri": "https://localhost:8080/"
        },
        "outputId": "c09d9d6f-5e14-4bc0-da62-022c1a6961f5"
      },
      "source": [
        "# Корень кубический.\n",
        "a=8\n",
        "math.pow(a,1/3)"
      ],
      "execution_count": null,
      "outputs": [
        {
          "output_type": "execute_result",
          "data": {
            "text/plain": [
              "2.0"
            ]
          },
          "metadata": {},
          "execution_count": 21
        }
      ]
    },
    {
      "cell_type": "markdown",
      "metadata": {
        "id": "fKOtjwXFx4kl"
      },
      "source": [
        "### Экспонента $с=e^b$\n",
        "Очень часто в качестве основания __a__ используют экспоненту. Для этой операции сделали отдельную функцию.\n",
        "\n",
        "Попробуйте сделать тоже самое с помощью `pow()`."
      ]
    },
    {
      "cell_type": "code",
      "metadata": {
        "ExecuteTime": {
          "end_time": "2020-10-11T07:27:38.277136Z",
          "start_time": "2020-10-11T07:27:38.274136Z"
        },
        "id": "WXBtqGinx4km",
        "colab": {
          "base_uri": "https://localhost:8080/"
        },
        "outputId": "87ec0492-2803-4e99-866e-7346db24cf9e"
      },
      "source": [
        "b=10\n",
        "math.exp(b)"
      ],
      "execution_count": null,
      "outputs": [
        {
          "output_type": "execute_result",
          "data": {
            "text/plain": [
              "22026.465794806718"
            ]
          },
          "metadata": {},
          "execution_count": 22
        }
      ]
    },
    {
      "cell_type": "code",
      "metadata": {
        "ExecuteTime": {
          "end_time": "2020-10-11T07:27:38.330139Z",
          "start_time": "2020-10-11T07:27:38.326139Z"
        },
        "id": "dSK9gMnWx4km",
        "colab": {
          "base_uri": "https://localhost:8080/"
        },
        "outputId": "e4e6489e-0cfd-4f95-f669-3727882e3e09"
      },
      "source": [
        "math.pow(math.e,b)"
      ],
      "execution_count": null,
      "outputs": [
        {
          "output_type": "execute_result",
          "data": {
            "text/plain": [
              "22026.465794806703"
            ]
          },
          "metadata": {},
          "execution_count": 23
        }
      ]
    },
    {
      "cell_type": "markdown",
      "metadata": {
        "id": "hVub510_x4kn"
      },
      "source": [
        "# Логарифм $b=log_a(c)$\n",
        "Если мы знаем результат возведения в степень __c__, знаем основание __a__, а хотим узнать, какая же степень __b__ должна при этом быть, то нам на помощь придет *логарифм*, функция `log()`.\n",
        "\n",
        "Указываем сначала __c__ от которого мы ищем логарифм, а потом, необязательно, основание __a__ по которому мы ищем логарифм. Если основание не указано - используется *натуральный логарифм*.\n",
        "\n",
        "Попробуйте с разными числами.\n",
        "\n",
        "Может ли __с=0__? А меньше нуля может быть?\n",
        "\n",
        "А если __c=1__, какой будет результат? Зависит ли он от __a__?\n",
        "\n",
        "Может ли __a=0__ , __a=1__? А отрицательным __a__ может быть?  А дробным?\n",
        "\n",
        "\n",
        "\n"
      ]
    },
    {
      "cell_type": "code",
      "metadata": {
        "ExecuteTime": {
          "end_time": "2020-10-11T07:27:38.428145Z",
          "start_time": "2020-10-11T07:27:38.424145Z"
        },
        "id": "YlBM3X9Ix4kn"
      },
      "source": [
        "c=81\n",
        "a=3\n",
        "#math.log(x[, base])\n",
        "math.log(c, a)"
      ],
      "execution_count": null,
      "outputs": []
    },
    {
      "cell_type": "markdown",
      "metadata": {
        "id": "2T-EzRNAx4ko"
      },
      "source": [
        "Наиболее часто используемые основания логарифмов сделаны в отдельных функциях, так быстрей и точней считать.\n",
        "\n",
        "Двоичный логарифм, по основанию __a=2__: `log2`\n",
        "\n",
        "Десятичный логарифм, по основанию __a=10__: `log10`\n",
        "\n",
        "А как сделать *натуральный логарифм*? Какое у него основание?"
      ]
    },
    {
      "cell_type": "code",
      "metadata": {
        "ExecuteTime": {
          "end_time": "2020-10-11T07:27:38.521150Z",
          "start_time": "2020-10-11T07:27:38.518150Z"
        },
        "id": "UiP4ctQ7x4ko",
        "colab": {
          "base_uri": "https://localhost:8080/"
        },
        "outputId": "946faa7f-3247-41c0-9d15-c6c8cbc4f728"
      },
      "source": [
        "с=4\n",
        "math.log2(с)"
      ],
      "execution_count": null,
      "outputs": [
        {
          "output_type": "execute_result",
          "data": {
            "text/plain": [
              "2.0"
            ]
          },
          "metadata": {},
          "execution_count": 24
        }
      ]
    },
    {
      "cell_type": "code",
      "metadata": {
        "ExecuteTime": {
          "end_time": "2020-10-11T07:27:38.571153Z",
          "start_time": "2020-10-11T07:27:38.568153Z"
        },
        "id": "lqowEqktx4ko",
        "colab": {
          "base_uri": "https://localhost:8080/"
        },
        "outputId": "486c2ddf-e781-4d1f-a73e-74d335955af5"
      },
      "source": [
        "с=100\n",
        "math.log10(с)"
      ],
      "execution_count": null,
      "outputs": [
        {
          "output_type": "execute_result",
          "data": {
            "text/plain": [
              "2.0"
            ]
          },
          "metadata": {},
          "execution_count": 25
        }
      ]
    },
    {
      "cell_type": "code",
      "metadata": {
        "ExecuteTime": {
          "end_time": "2020-10-11T07:27:38.621156Z",
          "start_time": "2020-10-11T07:27:38.618156Z"
        },
        "id": "lOcMwrZex4ko",
        "colab": {
          "base_uri": "https://localhost:8080/"
        },
        "outputId": "e003fa99-b75e-481c-94fb-0f6336294792"
      },
      "source": [
        "с=math.e*math.e\n",
        "math.log(с)"
      ],
      "execution_count": null,
      "outputs": [
        {
          "output_type": "execute_result",
          "data": {
            "text/plain": [
              "2.0"
            ]
          },
          "metadata": {},
          "execution_count": 26
        }
      ]
    },
    {
      "cell_type": "markdown",
      "metadata": {
        "id": "qpJaUnc7x4ko"
      },
      "source": [
        "## Тригонометрические функции\n",
        "\n",
        "- синус `sin`\n",
        "\n",
        "- косинус `cos`\n",
        "\n",
        "- тангенс `tan`\n",
        "\n",
        "- арктангенс `atan` (обратная функция для тангенса) - часто используется в нейронных сетях.\n",
        "\n",
        "- гиперболический тангенс `tanh` - тоже часто используется в нейронных сетях.\n",
        "\n",
        "- и другие...\n",
        "\n",
        "Для известных углов (например, 0, pi/4, pi/2 ,2 * pi и др.) посчитайте сами и сравните с расчетом в Питоне.\n",
        "\n",
        "__Все углы указываются в радианах!__\n"
      ]
    },
    {
      "cell_type": "code",
      "metadata": {
        "ExecuteTime": {
          "end_time": "2020-10-11T07:27:38.725162Z",
          "start_time": "2020-10-11T07:27:38.722162Z"
        },
        "id": "x7GRQDJJx4ko"
      },
      "source": [
        "x = math.pi/4 # зададим угол"
      ],
      "execution_count": null,
      "outputs": []
    },
    {
      "cell_type": "code",
      "metadata": {
        "ExecuteTime": {
          "end_time": "2020-10-11T07:27:38.776165Z",
          "start_time": "2020-10-11T07:27:38.772165Z"
        },
        "id": "bvs6S8s-x4kp",
        "colab": {
          "base_uri": "https://localhost:8080/"
        },
        "outputId": "cc8f4d58-157f-44d9-a87f-5c878942508a"
      },
      "source": [
        "math.cos(x)"
      ],
      "execution_count": null,
      "outputs": [
        {
          "output_type": "execute_result",
          "data": {
            "text/plain": [
              "0.7071067811865476"
            ]
          },
          "metadata": {},
          "execution_count": 28
        }
      ]
    },
    {
      "cell_type": "code",
      "metadata": {
        "ExecuteTime": {
          "end_time": "2020-10-11T07:27:38.826168Z",
          "start_time": "2020-10-11T07:27:38.822168Z"
        },
        "id": "1W7SmLayx4kp",
        "colab": {
          "base_uri": "https://localhost:8080/"
        },
        "outputId": "89f8b161-a1d3-45ef-fc77-c2edfb3ab604"
      },
      "source": [
        "math.sin(x)\n",
        "\n"
      ],
      "execution_count": null,
      "outputs": [
        {
          "output_type": "execute_result",
          "data": {
            "text/plain": [
              "0.7071067811865475"
            ]
          },
          "metadata": {},
          "execution_count": 29
        }
      ]
    },
    {
      "cell_type": "code",
      "metadata": {
        "ExecuteTime": {
          "end_time": "2020-10-11T07:27:38.877171Z",
          "start_time": "2020-10-11T07:27:38.874170Z"
        },
        "id": "yeHVtw-ex4kq"
      },
      "source": [
        "#x = math.pi/2 #\n",
        "math.tan(x) # а если x=math.pi/2?\n",
        "\n",
        "\n"
      ],
      "execution_count": null,
      "outputs": []
    },
    {
      "cell_type": "markdown",
      "metadata": {
        "id": "Q0Bz-bPQx4kq"
      },
      "source": [
        "Арктангенс `atan(x)` - обратная функция для тангенса.\n",
        "\n",
        "Позволяет узнать для какого угла тангенс равен x.\n",
        "\n",
        "Поделим на Pi чтобы узнать этот угол.\n",
        "\n",
        "Узнали?\n"
      ]
    },
    {
      "cell_type": "code",
      "metadata": {
        "ExecuteTime": {
          "end_time": "2020-10-11T07:27:38.973176Z",
          "start_time": "2020-10-11T07:27:38.969176Z"
        },
        "id": "bOudwGP_x4kq",
        "colab": {
          "base_uri": "https://localhost:8080/"
        },
        "outputId": "5d961ed6-a6fc-4140-bd97-4f76d1fd680e"
      },
      "source": [
        "# арктангенс - обратная функция для тангенса\n",
        "x=1\n",
        "math.atan(x)/math.pi"
      ],
      "execution_count": null,
      "outputs": [
        {
          "output_type": "execute_result",
          "data": {
            "text/plain": [
              "0.25"
            ]
          },
          "metadata": {},
          "execution_count": 30
        }
      ]
    },
    {
      "cell_type": "markdown",
      "metadata": {
        "id": "opeVcWr6x4kq"
      },
      "source": [
        "Гиперболический тангенс `tanh(x)` - довольно сложная функция, но по форме похожа на арктангенс.\n",
        "\n",
        "> Формула для сведения, можете не запоминать сейчас:\n",
        "> ![picture](https://drive.google.com/uc?id=1X1r5toeJ8xVW7aOvM18TL0OBVKHiT7ww)\n",
        "\n",
        "\n"
      ]
    },
    {
      "cell_type": "code",
      "metadata": {
        "ExecuteTime": {
          "end_time": "2020-10-11T07:27:39.070182Z",
          "start_time": "2020-10-11T07:27:39.067182Z"
        },
        "id": "wKosl0URx4kr",
        "colab": {
          "base_uri": "https://localhost:8080/"
        },
        "outputId": "c0e21241-7d5d-42bd-d814-1f76e1a5cf8d"
      },
      "source": [
        "# гипертангенс\n",
        "x=1000000000000\n",
        "math.tanh(x)"
      ],
      "execution_count": null,
      "outputs": [
        {
          "output_type": "execute_result",
          "data": {
            "text/plain": [
              "1.0"
            ]
          },
          "metadata": {},
          "execution_count": 31
        }
      ]
    },
    {
      "cell_type": "markdown",
      "metadata": {
        "id": "EH1eEk3Kx4kr"
      },
      "source": [
        "## Факториал\n",
        "\n",
        "Функция `factorial()`.\n",
        "\n",
        "Находит факториал целого числа, произведение всех целых чисел начиная с единицы до заданного __a__.\n",
        "\n",
        "Обозначается как \"!\"\n",
        "\n",
        "Например 5! = 1 * 2 * 3 * 4 * 5 =120\n",
        "\n",
        "Часто возникает в задачах с комбинациями различных событий.\n",
        "\n",
        "Попробуйте для разных чисел __a__.\n",
        "\n",
        "Может ли __a__ быть отрицательным? Дробным?\n",
        "\n",
        "Чему равен факториал нуля?\n",
        "\n"
      ]
    },
    {
      "cell_type": "code",
      "metadata": {
        "ExecuteTime": {
          "end_time": "2020-10-11T07:27:39.166187Z",
          "start_time": "2020-10-11T07:27:39.162187Z"
        },
        "id": "ZVCJ6pcGx4kr",
        "colab": {
          "base_uri": "https://localhost:8080/"
        },
        "outputId": "bc6ab530-d732-42ab-eb47-89325f6c1674"
      },
      "source": [
        "a=2\n",
        "math.factorial(a)"
      ],
      "execution_count": null,
      "outputs": [
        {
          "output_type": "execute_result",
          "data": {
            "text/plain": [
              "2"
            ]
          },
          "metadata": {},
          "execution_count": 32
        }
      ]
    },
    {
      "cell_type": "markdown",
      "metadata": {
        "id": "KlA_LeBPx4kr"
      },
      "source": [
        "## Домашнее задание\n",
        "Изучите документацию на модуль `math`.\n",
        "\n",
        "Посмотрите какие еще в нем есть функции.\n",
        "\n",
        "Ответьте, как сконвертировать градусы в радианы и наоборот.\n",
        "Сделайте это.\n",
        "\n",
        "\n",
        "Что делать, если надо реализовать какую-то математическую функцию, которую вы не знаете, но она нужна? Внимательно читать документацию. Искать ответ в Интернет. Так часто поступают даже профессиональные разработчики  - нельзя все помнить и знать. Но нужно уметь __искать__ информацию.\n",
        "\n",
        "Если какой-то функции нет в этом модуле - поищите в другом."
      ]
    },
    {
      "cell_type": "code",
      "source": [
        "import math\n",
        "print(math.degrees(math.pi)) # перевод в градусы"
      ],
      "metadata": {
        "colab": {
          "base_uri": "https://localhost:8080/"
        },
        "id": "wIKLcpbN4WWi",
        "outputId": "874dd885-4c5d-4443-be9c-bab50f0b815a"
      },
      "execution_count": 3,
      "outputs": [
        {
          "output_type": "stream",
          "name": "stdout",
          "text": [
            "180.0\n"
          ]
        }
      ]
    },
    {
      "cell_type": "markdown",
      "metadata": {
        "id": "NaFkL1XOx4kr"
      },
      "source": [
        "# 3. Модуль `numpy`\n",
        "\n",
        "Библиотека `numpy` предназначена для работы с массивами. Для нас это самая любимая и часто используемая библиотека. Ее документацию можно посмотреть здесь: https://numpy.org/\n",
        "\n",
        "Numpy создает и обрабатывает массивы как объекты своего собственного класса (типа): [`ndarray`](https://numpy.org/doc/1.18/reference/generated/numpy.ndarray.html#numpy.ndarray)\n",
        "\n",
        "Основные его атрибуты это `shape` - форма массива и `dtype` - тип данных.  \n",
        "\n",
        "Подключим библиотеку с помощью `import`и назовем коротко: `np`\n"
      ]
    },
    {
      "cell_type": "code",
      "metadata": {
        "ExecuteTime": {
          "end_time": "2020-10-11T07:27:39.471205Z",
          "start_time": "2020-10-11T07:27:39.308195Z"
        },
        "id": "FpIBe6Bpx4ks"
      },
      "source": [
        "import numpy as np"
      ],
      "execution_count": null,
      "outputs": []
    },
    {
      "cell_type": "markdown",
      "metadata": {
        "id": "YUSa1g24x4ks"
      },
      "source": [
        "## Создание массивов\n",
        "\n",
        "Для создания массивов используем функцию [`numpy.array()`](https://numpy.org/doc/1.18/reference/generated/numpy.array.html#numpy.array)\n",
        "\n",
        "В ней мы указываем какой массив хотим создать.\n",
        "\n",
        "Создадим массив, отобразим его и посмотрим, как называется его тип. Тип можно узнать с помощью команды `type()` .\n",
        "\n",
        "\n"
      ]
    },
    {
      "cell_type": "code",
      "metadata": {
        "ExecuteTime": {
          "end_time": "2020-10-11T07:27:39.475205Z",
          "start_time": "2020-10-11T07:27:39.473205Z"
        },
        "id": "WfvtOJvUx4ks"
      },
      "source": [
        "a = np.array([1, 2, 3])"
      ],
      "execution_count": null,
      "outputs": []
    },
    {
      "cell_type": "code",
      "metadata": {
        "ExecuteTime": {
          "end_time": "2020-10-11T07:27:39.541209Z",
          "start_time": "2020-10-11T07:27:39.536208Z"
        },
        "id": "9PLGizaUx4kt",
        "colab": {
          "base_uri": "https://localhost:8080/"
        },
        "outputId": "cadd5b88-8eae-453b-cbff-23ac456d5022"
      },
      "source": [
        "type(a)"
      ],
      "execution_count": null,
      "outputs": [
        {
          "output_type": "execute_result",
          "data": {
            "text/plain": [
              "numpy.ndarray"
            ]
          },
          "metadata": {},
          "execution_count": 35
        }
      ]
    },
    {
      "cell_type": "code",
      "source": [
        "a.shape"
      ],
      "metadata": {
        "id": "vrvA-iQ_B9_S",
        "colab": {
          "base_uri": "https://localhost:8080/"
        },
        "outputId": "ce618ce3-c6fb-4cb8-b148-dc92d56967dc"
      },
      "execution_count": null,
      "outputs": [
        {
          "output_type": "execute_result",
          "data": {
            "text/plain": [
              "(3,)"
            ]
          },
          "metadata": {},
          "execution_count": 36
        }
      ]
    },
    {
      "cell_type": "markdown",
      "metadata": {
        "id": "YzuFgdIrx4ku"
      },
      "source": [
        "Видим, что тип - `numpy.ndarray` .\n",
        "\n",
        "Это одномерный массив.\n",
        "\n",
        "Теперь создадим двумерный массив (матрицу)"
      ]
    },
    {
      "cell_type": "code",
      "metadata": {
        "ExecuteTime": {
          "end_time": "2020-10-11T07:27:39.635214Z",
          "start_time": "2020-10-11T07:27:39.633214Z"
        },
        "id": "l9JeAsWix4ku"
      },
      "source": [
        "b = np.array([[1.5, 2, 3], [4, 5, 6]])"
      ],
      "execution_count": null,
      "outputs": []
    },
    {
      "cell_type": "code",
      "metadata": {
        "ExecuteTime": {
          "end_time": "2020-10-11T07:27:39.688217Z",
          "start_time": "2020-10-11T07:27:39.682217Z"
        },
        "id": "gSaD7yjjx4ku",
        "colab": {
          "base_uri": "https://localhost:8080/"
        },
        "outputId": "05b23979-ddfa-4754-daac-83587f7a8fbe"
      },
      "source": [
        "b"
      ],
      "execution_count": null,
      "outputs": [
        {
          "output_type": "execute_result",
          "data": {
            "text/plain": [
              "array([[1.5, 2. , 3. ],\n",
              "       [4. , 5. , 6. ]])"
            ]
          },
          "metadata": {},
          "execution_count": 38
        }
      ]
    },
    {
      "cell_type": "code",
      "metadata": {
        "ExecuteTime": {
          "end_time": "2020-10-11T07:27:39.735220Z",
          "start_time": "2020-10-11T07:27:39.732220Z"
        },
        "id": "DZS3olzgx4ku",
        "colab": {
          "base_uri": "https://localhost:8080/"
        },
        "outputId": "ba774e8b-4675-44c2-ec63-9c5efde5108b"
      },
      "source": [
        "b.shape"
      ],
      "execution_count": null,
      "outputs": [
        {
          "output_type": "execute_result",
          "data": {
            "text/plain": [
              "(2, 3)"
            ]
          },
          "metadata": {},
          "execution_count": 39
        }
      ]
    },
    {
      "cell_type": "code",
      "source": [],
      "metadata": {
        "id": "Jf24dj6BOQBz"
      },
      "execution_count": null,
      "outputs": []
    },
    {
      "cell_type": "code",
      "source": [],
      "metadata": {
        "id": "-XjTrA6BSlxy"
      },
      "execution_count": null,
      "outputs": []
    },
    {
      "cell_type": "markdown",
      "metadata": {
        "id": "8nEFSRUjx4ku"
      },
      "source": [
        "Это двумерный массив. Атрибут `shape` показывает нам его форму, он имеет размер 2 на 3: 2 строки, 3 столбца.\n",
        "\n",
        "\n",
        "Чтобы создавать массивы, заполненные какими-то числами, можно воспользоваться специальными функциями.\n",
        "\n",
        "Например\n",
        "\n",
        "`numpy.zeros(...)`  делает массив заданной формы, заполненный нулями\n",
        "   \n",
        "`numpy.ones(...)`  делает массив заданной формы, заполненный единицами\n",
        "\n",
        "Мы указываем число элементов по каждой оси массива - разумеется это натуральные числа."
      ]
    },
    {
      "cell_type": "code",
      "metadata": {
        "ExecuteTime": {
          "end_time": "2020-10-11T07:27:39.830225Z",
          "start_time": "2020-10-11T07:27:39.827225Z"
        },
        "id": "p56Y8MEmx4kv",
        "colab": {
          "base_uri": "https://localhost:8080/"
        },
        "outputId": "94ed5ed2-0dd1-43c5-a76f-c763c9d3a975"
      },
      "source": [
        "a=np.zeros((3, 5)) # двумерный массив из нулей, размером 3 на 5\n",
        "a"
      ],
      "execution_count": null,
      "outputs": [
        {
          "output_type": "execute_result",
          "data": {
            "text/plain": [
              "array([[0., 0., 0., 0., 0.],\n",
              "       [0., 0., 0., 0., 0.],\n",
              "       [0., 0., 0., 0., 0.]])"
            ]
          },
          "metadata": {},
          "execution_count": 41
        }
      ]
    },
    {
      "cell_type": "code",
      "metadata": {
        "ExecuteTime": {
          "end_time": "2020-10-11T07:27:39.881228Z",
          "start_time": "2020-10-11T07:27:39.877228Z"
        },
        "id": "ipO2AUIhx4kv",
        "colab": {
          "base_uri": "https://localhost:8080/"
        },
        "outputId": "c4b2815c-a735-41f2-d231-3efb0d294d20"
      },
      "source": [
        "np.ones((2, 3, 4)) # трехмерный массив из единиц размером 2 на 3 на 4"
      ],
      "execution_count": null,
      "outputs": [
        {
          "output_type": "execute_result",
          "data": {
            "text/plain": [
              "array([[[1., 1., 1., 1.],\n",
              "        [1., 1., 1., 1.],\n",
              "        [1., 1., 1., 1.]],\n",
              "\n",
              "       [[1., 1., 1., 1.],\n",
              "        [1., 1., 1., 1.],\n",
              "        [1., 1., 1., 1.]]])"
            ]
          },
          "metadata": {},
          "execution_count": 42
        }
      ]
    },
    {
      "cell_type": "markdown",
      "metadata": {
        "id": "mM1yKAMAx4kv"
      },
      "source": [
        "Создадим любимую для линейной алгебры единичную матрицу с помощью команды `eye()`. Она квадратная, поэтому только один аргумент указываем - число строк. Если очень надо сделать по-другому, например не главную диагональ заполнить, то смотри документацию.   "
      ]
    },
    {
      "cell_type": "code",
      "metadata": {
        "ExecuteTime": {
          "end_time": "2020-10-11T07:27:39.978234Z",
          "start_time": "2020-10-11T07:27:39.973233Z"
        },
        "id": "w_p1ues0x4kv",
        "colab": {
          "base_uri": "https://localhost:8080/"
        },
        "outputId": "23cca54b-8b9b-49b4-8b19-7ef096030749"
      },
      "source": [
        "np.eye(5) # создаем единичную матрицу"
      ],
      "execution_count": null,
      "outputs": [
        {
          "output_type": "execute_result",
          "data": {
            "text/plain": [
              "array([[1., 0., 0., 0., 0.],\n",
              "       [0., 1., 0., 0., 0.],\n",
              "       [0., 0., 1., 0., 0.],\n",
              "       [0., 0., 0., 1., 0.],\n",
              "       [0., 0., 0., 0., 1.]])"
            ]
          },
          "metadata": {},
          "execution_count": 43
        }
      ]
    },
    {
      "cell_type": "markdown",
      "metadata": {
        "id": "L2Gzx556x4kv"
      },
      "source": [
        "Создать массив, но ничем его не заполнять можно с помощью функции `numpy.empty()`.\n",
        "\n",
        "Заполнен он будет мусором, который остался в памяти, где создается такой массив.\n",
        "Это гораздо быстрее, чем создать и заполнять массив нулями. Но нужно быть осторожным и потом все-таки заполнить массив, потому что мусор может быть любой.  "
      ]
    },
    {
      "cell_type": "code",
      "metadata": {
        "ExecuteTime": {
          "end_time": "2020-10-11T07:27:40.076239Z",
          "start_time": "2020-10-11T07:27:40.073239Z"
        },
        "id": "-BvWjn9Zx4kw",
        "colab": {
          "base_uri": "https://localhost:8080/"
        },
        "outputId": "9deff015-2391-4c7d-80ff-d0b0e80ac1b2"
      },
      "source": [
        "np.empty((3, 3))"
      ],
      "execution_count": null,
      "outputs": [
        {
          "output_type": "execute_result",
          "data": {
            "text/plain": [
              "array([[4.91082776e-310, 0.00000000e+000, 0.00000000e+000],\n",
              "       [0.00000000e+000, 0.00000000e+000, 0.00000000e+000],\n",
              "       [0.00000000e+000, 0.00000000e+000, 0.00000000e+000]])"
            ]
          },
          "metadata": {},
          "execution_count": 44
        }
      ]
    },
    {
      "cell_type": "code",
      "metadata": {
        "ExecuteTime": {
          "end_time": "2020-10-11T07:27:40.125242Z",
          "start_time": "2020-10-11T07:27:40.121242Z"
        },
        "id": "tWgwXKAmx4kw",
        "colab": {
          "base_uri": "https://localhost:8080/"
        },
        "outputId": "d86ec50f-9be8-45e3-a74f-a8931c29b7df"
      },
      "source": [
        "np.empty((3, 2))"
      ],
      "execution_count": null,
      "outputs": [
        {
          "output_type": "execute_result",
          "data": {
            "text/plain": [
              "array([[1.5, 2. ],\n",
              "       [3. , 4. ],\n",
              "       [5. , 6. ]])"
            ]
          },
          "metadata": {},
          "execution_count": 45
        }
      ]
    },
    {
      "cell_type": "markdown",
      "metadata": {
        "id": "69HM38Sqx4kx"
      },
      "source": [
        "Для создания последовательностей чисел, в NumPy имеется функция `numpy.arange(начало, конец, шаг)`, аналогичная встроенной в Python `range()`, только вместо списков она возвращает массивы, и принимает не только целые значения. Мы указываем __начало__ (необязательно, по умолчанию 0), __конец__ и __шаг__ (тоже не обязательно, по умолчанию 1) нашей последовательности. Конец не входит в последовательность. Шаг может быть отрицательным (но в этом случае конец должен быть меньше начала, иначе вернется пустой массив).\n",
        "\n",
        "Попробуйте сами создать разные последовательности. Что получится если начало и конец совпадают?  А если шаг=0?"
      ]
    },
    {
      "cell_type": "code",
      "metadata": {
        "ExecuteTime": {
          "end_time": "2020-10-11T07:27:40.218247Z",
          "start_time": "2020-10-11T07:27:40.214247Z"
        },
        "id": "ccZ5Xarjx4kx",
        "colab": {
          "base_uri": "https://localhost:8080/"
        },
        "outputId": "5991c085-16d9-4b0c-953b-696ff96e46e2"
      },
      "source": [
        "\n",
        "a=np.arange(20, 30, 5)\n",
        "a"
      ],
      "execution_count": null,
      "outputs": [
        {
          "output_type": "execute_result",
          "data": {
            "text/plain": [
              "array([20, 25])"
            ]
          },
          "metadata": {},
          "execution_count": 48
        }
      ]
    },
    {
      "cell_type": "code",
      "metadata": {
        "ExecuteTime": {
          "end_time": "2020-10-11T07:27:40.271250Z",
          "start_time": "2020-10-11T07:27:40.267250Z"
        },
        "id": "nOj0_YEyx4kx",
        "colab": {
          "base_uri": "https://localhost:8080/"
        },
        "outputId": "4b762a42-db2a-480e-ef96-0080a87d3276"
      },
      "source": [
        "import numpy as np\n",
        "a=np.arange(1, 0, -0.1)\n",
        "print(a)"
      ],
      "execution_count": 5,
      "outputs": [
        {
          "output_type": "stream",
          "name": "stdout",
          "text": [
            "[1.  0.9 0.8 0.7 0.6 0.5 0.4 0.3 0.2 0.1]\n"
          ]
        }
      ]
    },
    {
      "cell_type": "markdown",
      "metadata": {
        "id": "0_KimeSJx4kx"
      },
      "source": [
        "Вывести на экран массив можно командой `print()`."
      ]
    },
    {
      "cell_type": "code",
      "metadata": {
        "ExecuteTime": {
          "end_time": "2020-10-11T07:27:40.368256Z",
          "start_time": "2020-10-11T07:27:40.362256Z"
        },
        "id": "49x7ZEalx4ky",
        "colab": {
          "base_uri": "https://localhost:8080/"
        },
        "outputId": "ccee835f-6c9b-427a-b823-c40b60c94681"
      },
      "source": [
        "a=np.arange(1,10,0.001)\n",
        "print(a)"
      ],
      "execution_count": null,
      "outputs": [
        {
          "output_type": "stream",
          "name": "stdout",
          "text": [
            "[1.    1.001 1.002 ... 9.997 9.998 9.999]\n"
          ]
        }
      ]
    },
    {
      "cell_type": "markdown",
      "metadata": {
        "id": "04ZH7Pvyx4ky"
      },
      "source": [
        "Видим, что выводится не весь массив. Это сделано для экономии места.\n",
        "\n",
        "Если хотим задать сколько знаков после запятой выводить в числах, сколько чисел выводить на экран и др. надо задать опции вывода `set_printoptions`:\n",
        "\n",
        "* параметр `treshold`: сколько чисел на экран выводить\n",
        "* параметр `precision`: сколько знаков после запятой выводить в числах\n",
        "\n",
        "Это влияет только на вывод, не на сами значения. Эти свойства будут применяться для всех выводов, не только для текущего, поэтому осторожно.\n"
      ]
    },
    {
      "cell_type": "code",
      "metadata": {
        "ExecuteTime": {
          "end_time": "2020-10-11T07:27:40.464261Z",
          "start_time": "2020-10-11T07:27:40.461261Z"
        },
        "id": "PAnWjCL_x4kz"
      },
      "source": [
        "np.set_printoptions(threshold=10000, precision=2) # будем выводить до 10 десяти тысяч чисел, два знака после запятой."
      ],
      "execution_count": null,
      "outputs": []
    },
    {
      "cell_type": "code",
      "metadata": {
        "ExecuteTime": {
          "end_time": "2020-10-11T07:27:40.573268Z",
          "start_time": "2020-10-11T07:27:40.511264Z"
        },
        "id": "zsMDJtLYx4kz",
        "colab": {
          "base_uri": "https://localhost:8080/"
        },
        "outputId": "7c5e3c8e-080e-4fe0-ec55-0bfeae4fe9f1"
      },
      "source": [
        "print(a)"
      ],
      "execution_count": null,
      "outputs": [
        {
          "output_type": "stream",
          "name": "stdout",
          "text": [
            "[ 1.    1.    1.    1.    1.    1.    1.01  1.01  1.01  1.01  1.01  1.01\n",
            "  1.01  1.01  1.01  1.01  1.02  1.02  1.02  1.02  1.02  1.02  1.02  1.02\n",
            "  1.02  1.02  1.03  1.03  1.03  1.03  1.03  1.03  1.03  1.03  1.03  1.03\n",
            "  1.04  1.04  1.04  1.04  1.04  1.04  1.04  1.04  1.04  1.04  1.05  1.05\n",
            "  1.05  1.05  1.05  1.05  1.05  1.05  1.05  1.05  1.06  1.06  1.06  1.06\n",
            "  1.06  1.06  1.06  1.06  1.06  1.06  1.07  1.07  1.07  1.07  1.07  1.07\n",
            "  1.07  1.07  1.07  1.07  1.08  1.08  1.08  1.08  1.08  1.08  1.08  1.08\n",
            "  1.08  1.08  1.09  1.09  1.09  1.09  1.09  1.09  1.09  1.09  1.09  1.09\n",
            "  1.1   1.1   1.1   1.1   1.1   1.1   1.1   1.1   1.1   1.1   1.11  1.11\n",
            "  1.11  1.11  1.11  1.11  1.11  1.11  1.11  1.11  1.12  1.12  1.12  1.12\n",
            "  1.12  1.12  1.12  1.12  1.12  1.12  1.13  1.13  1.13  1.13  1.13  1.13\n",
            "  1.13  1.13  1.13  1.13  1.14  1.14  1.14  1.14  1.14  1.14  1.14  1.14\n",
            "  1.14  1.14  1.15  1.15  1.15  1.15  1.15  1.15  1.15  1.15  1.15  1.15\n",
            "  1.16  1.16  1.16  1.16  1.16  1.16  1.16  1.16  1.16  1.16  1.17  1.17\n",
            "  1.17  1.17  1.17  1.17  1.17  1.17  1.17  1.17  1.18  1.18  1.18  1.18\n",
            "  1.18  1.18  1.18  1.18  1.18  1.18  1.19  1.19  1.19  1.19  1.19  1.19\n",
            "  1.19  1.19  1.19  1.19  1.2   1.2   1.2   1.2   1.2   1.2   1.2   1.2\n",
            "  1.2   1.2   1.21  1.21  1.21  1.21  1.21  1.21  1.21  1.21  1.21  1.21\n",
            "  1.22  1.22  1.22  1.22  1.22  1.22  1.22  1.22  1.22  1.22  1.23  1.23\n",
            "  1.23  1.23  1.23  1.23  1.23  1.23  1.23  1.23  1.24  1.24  1.24  1.24\n",
            "  1.24  1.24  1.24  1.24  1.24  1.24  1.25  1.25  1.25  1.25  1.25  1.25\n",
            "  1.25  1.25  1.25  1.25  1.26  1.26  1.26  1.26  1.26  1.26  1.26  1.26\n",
            "  1.26  1.26  1.27  1.27  1.27  1.27  1.27  1.27  1.27  1.27  1.27  1.27\n",
            "  1.28  1.28  1.28  1.28  1.28  1.28  1.28  1.28  1.28  1.28  1.29  1.29\n",
            "  1.29  1.29  1.29  1.29  1.29  1.29  1.29  1.29  1.3   1.3   1.3   1.3\n",
            "  1.3   1.3   1.3   1.3   1.3   1.3   1.31  1.31  1.31  1.31  1.31  1.31\n",
            "  1.31  1.31  1.31  1.31  1.32  1.32  1.32  1.32  1.32  1.32  1.32  1.32\n",
            "  1.32  1.32  1.33  1.33  1.33  1.33  1.33  1.33  1.33  1.33  1.33  1.33\n",
            "  1.34  1.34  1.34  1.34  1.34  1.34  1.34  1.34  1.34  1.34  1.35  1.35\n",
            "  1.35  1.35  1.35  1.35  1.35  1.35  1.35  1.35  1.36  1.36  1.36  1.36\n",
            "  1.36  1.36  1.36  1.36  1.36  1.36  1.37  1.37  1.37  1.37  1.37  1.37\n",
            "  1.37  1.37  1.37  1.37  1.38  1.38  1.38  1.38  1.38  1.38  1.38  1.38\n",
            "  1.38  1.38  1.39  1.39  1.39  1.39  1.39  1.39  1.39  1.39  1.39  1.39\n",
            "  1.4   1.4   1.4   1.4   1.4   1.4   1.4   1.4   1.4   1.4   1.41  1.41\n",
            "  1.41  1.41  1.41  1.41  1.41  1.41  1.41  1.41  1.42  1.42  1.42  1.42\n",
            "  1.42  1.42  1.42  1.42  1.42  1.42  1.43  1.43  1.43  1.43  1.43  1.43\n",
            "  1.43  1.43  1.43  1.43  1.44  1.44  1.44  1.44  1.44  1.44  1.44  1.44\n",
            "  1.44  1.44  1.45  1.45  1.45  1.45  1.45  1.45  1.45  1.45  1.45  1.45\n",
            "  1.46  1.46  1.46  1.46  1.46  1.46  1.46  1.46  1.46  1.46  1.47  1.47\n",
            "  1.47  1.47  1.47  1.47  1.47  1.47  1.47  1.47  1.48  1.48  1.48  1.48\n",
            "  1.48  1.48  1.48  1.48  1.48  1.48  1.49  1.49  1.49  1.49  1.49  1.49\n",
            "  1.49  1.49  1.49  1.49  1.5   1.5   1.5   1.5   1.5   1.5   1.5   1.5\n",
            "  1.5   1.5   1.51  1.51  1.51  1.51  1.51  1.51  1.51  1.51  1.51  1.51\n",
            "  1.52  1.52  1.52  1.52  1.52  1.52  1.52  1.52  1.52  1.52  1.53  1.53\n",
            "  1.53  1.53  1.53  1.53  1.53  1.53  1.53  1.53  1.54  1.54  1.54  1.54\n",
            "  1.54  1.54  1.54  1.54  1.54  1.54  1.55  1.55  1.55  1.55  1.55  1.55\n",
            "  1.55  1.55  1.55  1.55  1.56  1.56  1.56  1.56  1.56  1.56  1.56  1.56\n",
            "  1.56  1.56  1.57  1.57  1.57  1.57  1.57  1.57  1.57  1.57  1.57  1.57\n",
            "  1.58  1.58  1.58  1.58  1.58  1.58  1.58  1.58  1.58  1.58  1.59  1.59\n",
            "  1.59  1.59  1.59  1.59  1.59  1.59  1.59  1.59  1.6   1.6   1.6   1.6\n",
            "  1.6   1.6   1.6   1.6   1.6   1.6   1.61  1.61  1.61  1.61  1.61  1.61\n",
            "  1.61  1.61  1.61  1.61  1.62  1.62  1.62  1.62  1.62  1.62  1.62  1.62\n",
            "  1.62  1.62  1.63  1.63  1.63  1.63  1.63  1.63  1.63  1.63  1.63  1.63\n",
            "  1.64  1.64  1.64  1.64  1.64  1.64  1.64  1.64  1.64  1.64  1.65  1.65\n",
            "  1.65  1.65  1.65  1.65  1.65  1.65  1.65  1.65  1.66  1.66  1.66  1.66\n",
            "  1.66  1.66  1.66  1.66  1.66  1.66  1.67  1.67  1.67  1.67  1.67  1.67\n",
            "  1.67  1.67  1.67  1.67  1.68  1.68  1.68  1.68  1.68  1.68  1.68  1.68\n",
            "  1.68  1.68  1.69  1.69  1.69  1.69  1.69  1.69  1.69  1.69  1.69  1.69\n",
            "  1.7   1.7   1.7   1.7   1.7   1.7   1.7   1.7   1.7   1.7   1.71  1.71\n",
            "  1.71  1.71  1.71  1.71  1.71  1.71  1.71  1.71  1.72  1.72  1.72  1.72\n",
            "  1.72  1.72  1.72  1.72  1.72  1.72  1.73  1.73  1.73  1.73  1.73  1.73\n",
            "  1.73  1.73  1.73  1.73  1.74  1.74  1.74  1.74  1.74  1.74  1.74  1.74\n",
            "  1.74  1.74  1.75  1.75  1.75  1.75  1.75  1.75  1.75  1.75  1.75  1.75\n",
            "  1.76  1.76  1.76  1.76  1.76  1.76  1.76  1.76  1.76  1.76  1.77  1.77\n",
            "  1.77  1.77  1.77  1.77  1.77  1.77  1.77  1.77  1.78  1.78  1.78  1.78\n",
            "  1.78  1.78  1.78  1.78  1.78  1.78  1.79  1.79  1.79  1.79  1.79  1.79\n",
            "  1.79  1.79  1.79  1.79  1.8   1.8   1.8   1.8   1.8   1.8   1.8   1.8\n",
            "  1.8   1.8   1.81  1.81  1.81  1.81  1.81  1.81  1.81  1.81  1.81  1.81\n",
            "  1.82  1.82  1.82  1.82  1.82  1.82  1.82  1.82  1.82  1.82  1.83  1.83\n",
            "  1.83  1.83  1.83  1.83  1.83  1.83  1.83  1.83  1.84  1.84  1.84  1.84\n",
            "  1.84  1.84  1.84  1.84  1.84  1.84  1.85  1.85  1.85  1.85  1.85  1.85\n",
            "  1.85  1.85  1.85  1.85  1.86  1.86  1.86  1.86  1.86  1.86  1.86  1.86\n",
            "  1.86  1.86  1.87  1.87  1.87  1.87  1.87  1.87  1.87  1.87  1.87  1.87\n",
            "  1.88  1.88  1.88  1.88  1.88  1.88  1.88  1.88  1.88  1.88  1.89  1.89\n",
            "  1.89  1.89  1.89  1.89  1.89  1.89  1.89  1.89  1.9   1.9   1.9   1.9\n",
            "  1.9   1.9   1.9   1.9   1.9   1.9   1.91  1.91  1.91  1.91  1.91  1.91\n",
            "  1.91  1.91  1.91  1.91  1.92  1.92  1.92  1.92  1.92  1.92  1.92  1.92\n",
            "  1.92  1.92  1.93  1.93  1.93  1.93  1.93  1.93  1.93  1.93  1.93  1.93\n",
            "  1.94  1.94  1.94  1.94  1.94  1.94  1.94  1.94  1.94  1.94  1.95  1.95\n",
            "  1.95  1.95  1.95  1.95  1.95  1.95  1.95  1.95  1.96  1.96  1.96  1.96\n",
            "  1.96  1.96  1.96  1.96  1.96  1.96  1.97  1.97  1.97  1.97  1.97  1.97\n",
            "  1.97  1.97  1.97  1.97  1.98  1.98  1.98  1.98  1.98  1.98  1.98  1.98\n",
            "  1.98  1.98  1.99  1.99  1.99  1.99  1.99  1.99  1.99  1.99  1.99  1.99\n",
            "  2.    2.    2.    2.    2.    2.    2.    2.    2.    2.    2.01  2.01\n",
            "  2.01  2.01  2.01  2.01  2.01  2.01  2.01  2.01  2.02  2.02  2.02  2.02\n",
            "  2.02  2.02  2.02  2.02  2.02  2.02  2.03  2.03  2.03  2.03  2.03  2.03\n",
            "  2.03  2.03  2.03  2.03  2.04  2.04  2.04  2.04  2.04  2.04  2.04  2.04\n",
            "  2.04  2.04  2.05  2.05  2.05  2.05  2.05  2.05  2.05  2.05  2.05  2.05\n",
            "  2.06  2.06  2.06  2.06  2.06  2.06  2.06  2.06  2.06  2.06  2.07  2.07\n",
            "  2.07  2.07  2.07  2.07  2.07  2.07  2.07  2.07  2.08  2.08  2.08  2.08\n",
            "  2.08  2.08  2.08  2.08  2.08  2.08  2.09  2.09  2.09  2.09  2.09  2.09\n",
            "  2.09  2.09  2.09  2.09  2.1   2.1   2.1   2.1   2.1   2.1   2.1   2.1\n",
            "  2.1   2.1   2.11  2.11  2.11  2.11  2.11  2.11  2.11  2.11  2.11  2.11\n",
            "  2.12  2.12  2.12  2.12  2.12  2.12  2.12  2.12  2.12  2.12  2.13  2.13\n",
            "  2.13  2.13  2.13  2.13  2.13  2.13  2.13  2.13  2.14  2.14  2.14  2.14\n",
            "  2.14  2.14  2.14  2.14  2.14  2.14  2.15  2.15  2.15  2.15  2.15  2.15\n",
            "  2.15  2.15  2.15  2.15  2.16  2.16  2.16  2.16  2.16  2.16  2.16  2.16\n",
            "  2.16  2.16  2.17  2.17  2.17  2.17  2.17  2.17  2.17  2.17  2.17  2.17\n",
            "  2.18  2.18  2.18  2.18  2.18  2.18  2.18  2.18  2.18  2.18  2.19  2.19\n",
            "  2.19  2.19  2.19  2.19  2.19  2.19  2.19  2.19  2.2   2.2   2.2   2.2\n",
            "  2.2   2.2   2.2   2.2   2.2   2.2   2.21  2.21  2.21  2.21  2.21  2.21\n",
            "  2.21  2.21  2.21  2.21  2.22  2.22  2.22  2.22  2.22  2.22  2.22  2.22\n",
            "  2.22  2.22  2.23  2.23  2.23  2.23  2.23  2.23  2.23  2.23  2.23  2.23\n",
            "  2.24  2.24  2.24  2.24  2.24  2.24  2.24  2.24  2.24  2.24  2.25  2.25\n",
            "  2.25  2.25  2.25  2.25  2.25  2.25  2.25  2.25  2.26  2.26  2.26  2.26\n",
            "  2.26  2.26  2.26  2.26  2.26  2.26  2.27  2.27  2.27  2.27  2.27  2.27\n",
            "  2.27  2.27  2.27  2.27  2.28  2.28  2.28  2.28  2.28  2.28  2.28  2.28\n",
            "  2.28  2.28  2.29  2.29  2.29  2.29  2.29  2.29  2.29  2.29  2.29  2.29\n",
            "  2.3   2.3   2.3   2.3   2.3   2.3   2.3   2.3   2.3   2.3   2.31  2.31\n",
            "  2.31  2.31  2.31  2.31  2.31  2.31  2.31  2.31  2.32  2.32  2.32  2.32\n",
            "  2.32  2.32  2.32  2.32  2.32  2.32  2.33  2.33  2.33  2.33  2.33  2.33\n",
            "  2.33  2.33  2.33  2.33  2.34  2.34  2.34  2.34  2.34  2.34  2.34  2.34\n",
            "  2.34  2.34  2.35  2.35  2.35  2.35  2.35  2.35  2.35  2.35  2.35  2.35\n",
            "  2.36  2.36  2.36  2.36  2.36  2.36  2.36  2.36  2.36  2.36  2.37  2.37\n",
            "  2.37  2.37  2.37  2.37  2.37  2.37  2.37  2.37  2.38  2.38  2.38  2.38\n",
            "  2.38  2.38  2.38  2.38  2.38  2.38  2.39  2.39  2.39  2.39  2.39  2.39\n",
            "  2.39  2.39  2.39  2.39  2.4   2.4   2.4   2.4   2.4   2.4   2.4   2.4\n",
            "  2.4   2.4   2.41  2.41  2.41  2.41  2.41  2.41  2.41  2.41  2.41  2.41\n",
            "  2.42  2.42  2.42  2.42  2.42  2.42  2.42  2.42  2.42  2.42  2.43  2.43\n",
            "  2.43  2.43  2.43  2.43  2.43  2.43  2.43  2.43  2.44  2.44  2.44  2.44\n",
            "  2.44  2.44  2.44  2.44  2.44  2.44  2.45  2.45  2.45  2.45  2.45  2.45\n",
            "  2.45  2.45  2.45  2.45  2.46  2.46  2.46  2.46  2.46  2.46  2.46  2.46\n",
            "  2.46  2.46  2.47  2.47  2.47  2.47  2.47  2.47  2.47  2.47  2.47  2.47\n",
            "  2.48  2.48  2.48  2.48  2.48  2.48  2.48  2.48  2.48  2.48  2.49  2.49\n",
            "  2.49  2.49  2.49  2.49  2.49  2.49  2.49  2.49  2.5   2.5   2.5   2.5\n",
            "  2.5   2.5   2.5   2.5   2.5   2.5   2.51  2.51  2.51  2.51  2.51  2.51\n",
            "  2.51  2.51  2.51  2.51  2.52  2.52  2.52  2.52  2.52  2.52  2.52  2.52\n",
            "  2.52  2.52  2.53  2.53  2.53  2.53  2.53  2.53  2.53  2.53  2.53  2.53\n",
            "  2.54  2.54  2.54  2.54  2.54  2.54  2.54  2.54  2.54  2.54  2.55  2.55\n",
            "  2.55  2.55  2.55  2.55  2.55  2.55  2.55  2.55  2.56  2.56  2.56  2.56\n",
            "  2.56  2.56  2.56  2.56  2.56  2.56  2.57  2.57  2.57  2.57  2.57  2.57\n",
            "  2.57  2.57  2.57  2.57  2.58  2.58  2.58  2.58  2.58  2.58  2.58  2.58\n",
            "  2.58  2.58  2.59  2.59  2.59  2.59  2.59  2.59  2.59  2.59  2.59  2.59\n",
            "  2.6   2.6   2.6   2.6   2.6   2.6   2.6   2.6   2.6   2.6   2.61  2.61\n",
            "  2.61  2.61  2.61  2.61  2.61  2.61  2.61  2.61  2.62  2.62  2.62  2.62\n",
            "  2.62  2.62  2.62  2.62  2.62  2.62  2.63  2.63  2.63  2.63  2.63  2.63\n",
            "  2.63  2.63  2.63  2.63  2.64  2.64  2.64  2.64  2.64  2.64  2.64  2.64\n",
            "  2.64  2.64  2.65  2.65  2.65  2.65  2.65  2.65  2.65  2.65  2.65  2.65\n",
            "  2.66  2.66  2.66  2.66  2.66  2.66  2.66  2.66  2.66  2.66  2.67  2.67\n",
            "  2.67  2.67  2.67  2.67  2.67  2.67  2.67  2.67  2.68  2.68  2.68  2.68\n",
            "  2.68  2.68  2.68  2.68  2.68  2.68  2.69  2.69  2.69  2.69  2.69  2.69\n",
            "  2.69  2.69  2.69  2.69  2.7   2.7   2.7   2.7   2.7   2.7   2.7   2.7\n",
            "  2.7   2.7   2.71  2.71  2.71  2.71  2.71  2.71  2.71  2.71  2.71  2.71\n",
            "  2.72  2.72  2.72  2.72  2.72  2.72  2.72  2.72  2.72  2.72  2.73  2.73\n",
            "  2.73  2.73  2.73  2.73  2.73  2.73  2.73  2.73  2.74  2.74  2.74  2.74\n",
            "  2.74  2.74  2.74  2.74  2.74  2.74  2.75  2.75  2.75  2.75  2.75  2.75\n",
            "  2.75  2.75  2.75  2.75  2.76  2.76  2.76  2.76  2.76  2.76  2.76  2.76\n",
            "  2.76  2.76  2.77  2.77  2.77  2.77  2.77  2.77  2.77  2.77  2.77  2.77\n",
            "  2.78  2.78  2.78  2.78  2.78  2.78  2.78  2.78  2.78  2.78  2.79  2.79\n",
            "  2.79  2.79  2.79  2.79  2.79  2.79  2.79  2.79  2.8   2.8   2.8   2.8\n",
            "  2.8   2.8   2.8   2.8   2.8   2.8   2.81  2.81  2.81  2.81  2.81  2.81\n",
            "  2.81  2.81  2.81  2.81  2.82  2.82  2.82  2.82  2.82  2.82  2.82  2.82\n",
            "  2.82  2.82  2.83  2.83  2.83  2.83  2.83  2.83  2.83  2.83  2.83  2.83\n",
            "  2.84  2.84  2.84  2.84  2.84  2.84  2.84  2.84  2.84  2.84  2.85  2.85\n",
            "  2.85  2.85  2.85  2.85  2.85  2.85  2.85  2.85  2.86  2.86  2.86  2.86\n",
            "  2.86  2.86  2.86  2.86  2.86  2.86  2.87  2.87  2.87  2.87  2.87  2.87\n",
            "  2.87  2.87  2.87  2.87  2.88  2.88  2.88  2.88  2.88  2.88  2.88  2.88\n",
            "  2.88  2.88  2.89  2.89  2.89  2.89  2.89  2.89  2.89  2.89  2.89  2.89\n",
            "  2.9   2.9   2.9   2.9   2.9   2.9   2.9   2.9   2.9   2.9   2.91  2.91\n",
            "  2.91  2.91  2.91  2.91  2.91  2.91  2.91  2.91  2.92  2.92  2.92  2.92\n",
            "  2.92  2.92  2.92  2.92  2.92  2.92  2.93  2.93  2.93  2.93  2.93  2.93\n",
            "  2.93  2.93  2.93  2.93  2.94  2.94  2.94  2.94  2.94  2.94  2.94  2.94\n",
            "  2.94  2.94  2.95  2.95  2.95  2.95  2.95  2.95  2.95  2.95  2.95  2.95\n",
            "  2.96  2.96  2.96  2.96  2.96  2.96  2.96  2.96  2.96  2.96  2.97  2.97\n",
            "  2.97  2.97  2.97  2.97  2.97  2.97  2.97  2.97  2.98  2.98  2.98  2.98\n",
            "  2.98  2.98  2.98  2.98  2.98  2.98  2.99  2.99  2.99  2.99  2.99  2.99\n",
            "  2.99  2.99  2.99  2.99  3.    3.    3.    3.    3.    3.    3.    3.\n",
            "  3.    3.    3.01  3.01  3.01  3.01  3.01  3.01  3.01  3.01  3.01  3.01\n",
            "  3.02  3.02  3.02  3.02  3.02  3.02  3.02  3.02  3.02  3.02  3.03  3.03\n",
            "  3.03  3.03  3.03  3.03  3.03  3.03  3.03  3.03  3.04  3.04  3.04  3.04\n",
            "  3.04  3.04  3.04  3.04  3.04  3.04  3.05  3.05  3.05  3.05  3.05  3.05\n",
            "  3.05  3.05  3.05  3.05  3.06  3.06  3.06  3.06  3.06  3.06  3.06  3.06\n",
            "  3.06  3.06  3.07  3.07  3.07  3.07  3.07  3.07  3.07  3.07  3.07  3.07\n",
            "  3.08  3.08  3.08  3.08  3.08  3.08  3.08  3.08  3.08  3.08  3.09  3.09\n",
            "  3.09  3.09  3.09  3.09  3.09  3.09  3.09  3.09  3.1   3.1   3.1   3.1\n",
            "  3.1   3.1   3.1   3.1   3.1   3.1   3.11  3.11  3.11  3.11  3.11  3.11\n",
            "  3.11  3.11  3.11  3.11  3.12  3.12  3.12  3.12  3.12  3.12  3.12  3.12\n",
            "  3.12  3.12  3.13  3.13  3.13  3.13  3.13  3.13  3.13  3.13  3.13  3.13\n",
            "  3.14  3.14  3.14  3.14  3.14  3.14  3.14  3.14  3.14  3.14  3.15  3.15\n",
            "  3.15  3.15  3.15  3.15  3.15  3.15  3.15  3.15  3.16  3.16  3.16  3.16\n",
            "  3.16  3.16  3.16  3.16  3.16  3.16  3.17  3.17  3.17  3.17  3.17  3.17\n",
            "  3.17  3.17  3.17  3.17  3.18  3.18  3.18  3.18  3.18  3.18  3.18  3.18\n",
            "  3.18  3.18  3.19  3.19  3.19  3.19  3.19  3.19  3.19  3.19  3.19  3.19\n",
            "  3.2   3.2   3.2   3.2   3.2   3.2   3.2   3.2   3.2   3.2   3.21  3.21\n",
            "  3.21  3.21  3.21  3.21  3.21  3.21  3.21  3.21  3.22  3.22  3.22  3.22\n",
            "  3.22  3.22  3.22  3.22  3.22  3.22  3.23  3.23  3.23  3.23  3.23  3.23\n",
            "  3.23  3.23  3.23  3.23  3.24  3.24  3.24  3.24  3.24  3.24  3.24  3.24\n",
            "  3.24  3.24  3.25  3.25  3.25  3.25  3.25  3.25  3.25  3.25  3.25  3.25\n",
            "  3.26  3.26  3.26  3.26  3.26  3.26  3.26  3.26  3.26  3.26  3.27  3.27\n",
            "  3.27  3.27  3.27  3.27  3.27  3.27  3.27  3.27  3.28  3.28  3.28  3.28\n",
            "  3.28  3.28  3.28  3.28  3.28  3.28  3.29  3.29  3.29  3.29  3.29  3.29\n",
            "  3.29  3.29  3.29  3.29  3.3   3.3   3.3   3.3   3.3   3.3   3.3   3.3\n",
            "  3.3   3.3   3.31  3.31  3.31  3.31  3.31  3.31  3.31  3.31  3.31  3.31\n",
            "  3.32  3.32  3.32  3.32  3.32  3.32  3.32  3.32  3.32  3.32  3.33  3.33\n",
            "  3.33  3.33  3.33  3.33  3.33  3.33  3.33  3.33  3.34  3.34  3.34  3.34\n",
            "  3.34  3.34  3.34  3.34  3.34  3.34  3.35  3.35  3.35  3.35  3.35  3.35\n",
            "  3.35  3.35  3.35  3.35  3.36  3.36  3.36  3.36  3.36  3.36  3.36  3.36\n",
            "  3.36  3.36  3.37  3.37  3.37  3.37  3.37  3.37  3.37  3.37  3.37  3.37\n",
            "  3.38  3.38  3.38  3.38  3.38  3.38  3.38  3.38  3.38  3.38  3.39  3.39\n",
            "  3.39  3.39  3.39  3.39  3.39  3.39  3.39  3.39  3.4   3.4   3.4   3.4\n",
            "  3.4   3.4   3.4   3.4   3.4   3.4   3.41  3.41  3.41  3.41  3.41  3.41\n",
            "  3.41  3.41  3.41  3.41  3.42  3.42  3.42  3.42  3.42  3.42  3.42  3.42\n",
            "  3.42  3.42  3.43  3.43  3.43  3.43  3.43  3.43  3.43  3.43  3.43  3.43\n",
            "  3.44  3.44  3.44  3.44  3.44  3.44  3.44  3.44  3.44  3.44  3.45  3.45\n",
            "  3.45  3.45  3.45  3.45  3.45  3.45  3.45  3.45  3.46  3.46  3.46  3.46\n",
            "  3.46  3.46  3.46  3.46  3.46  3.46  3.47  3.47  3.47  3.47  3.47  3.47\n",
            "  3.47  3.47  3.47  3.47  3.48  3.48  3.48  3.48  3.48  3.48  3.48  3.48\n",
            "  3.48  3.48  3.49  3.49  3.49  3.49  3.49  3.49  3.49  3.49  3.49  3.49\n",
            "  3.5   3.5   3.5   3.5   3.5   3.5   3.5   3.5   3.5   3.5   3.51  3.51\n",
            "  3.51  3.51  3.51  3.51  3.51  3.51  3.51  3.51  3.52  3.52  3.52  3.52\n",
            "  3.52  3.52  3.52  3.52  3.52  3.52  3.53  3.53  3.53  3.53  3.53  3.53\n",
            "  3.53  3.53  3.53  3.53  3.54  3.54  3.54  3.54  3.54  3.54  3.54  3.54\n",
            "  3.54  3.54  3.55  3.55  3.55  3.55  3.55  3.55  3.55  3.55  3.55  3.55\n",
            "  3.56  3.56  3.56  3.56  3.56  3.56  3.56  3.56  3.56  3.56  3.57  3.57\n",
            "  3.57  3.57  3.57  3.57  3.57  3.57  3.57  3.57  3.58  3.58  3.58  3.58\n",
            "  3.58  3.58  3.58  3.58  3.58  3.58  3.59  3.59  3.59  3.59  3.59  3.59\n",
            "  3.59  3.59  3.59  3.59  3.6   3.6   3.6   3.6   3.6   3.6   3.6   3.6\n",
            "  3.6   3.6   3.61  3.61  3.61  3.61  3.61  3.61  3.61  3.61  3.61  3.61\n",
            "  3.62  3.62  3.62  3.62  3.62  3.62  3.62  3.62  3.62  3.62  3.63  3.63\n",
            "  3.63  3.63  3.63  3.63  3.63  3.63  3.63  3.63  3.64  3.64  3.64  3.64\n",
            "  3.64  3.64  3.64  3.64  3.64  3.64  3.65  3.65  3.65  3.65  3.65  3.65\n",
            "  3.65  3.65  3.65  3.65  3.66  3.66  3.66  3.66  3.66  3.66  3.66  3.66\n",
            "  3.66  3.66  3.67  3.67  3.67  3.67  3.67  3.67  3.67  3.67  3.67  3.67\n",
            "  3.68  3.68  3.68  3.68  3.68  3.68  3.68  3.68  3.68  3.68  3.69  3.69\n",
            "  3.69  3.69  3.69  3.69  3.69  3.69  3.69  3.69  3.7   3.7   3.7   3.7\n",
            "  3.7   3.7   3.7   3.7   3.7   3.7   3.71  3.71  3.71  3.71  3.71  3.71\n",
            "  3.71  3.71  3.71  3.71  3.72  3.72  3.72  3.72  3.72  3.72  3.72  3.72\n",
            "  3.72  3.72  3.73  3.73  3.73  3.73  3.73  3.73  3.73  3.73  3.73  3.73\n",
            "  3.74  3.74  3.74  3.74  3.74  3.74  3.74  3.74  3.74  3.74  3.75  3.75\n",
            "  3.75  3.75  3.75  3.75  3.75  3.75  3.75  3.75  3.76  3.76  3.76  3.76\n",
            "  3.76  3.76  3.76  3.76  3.76  3.76  3.77  3.77  3.77  3.77  3.77  3.77\n",
            "  3.77  3.77  3.77  3.77  3.78  3.78  3.78  3.78  3.78  3.78  3.78  3.78\n",
            "  3.78  3.78  3.79  3.79  3.79  3.79  3.79  3.79  3.79  3.79  3.79  3.79\n",
            "  3.8   3.8   3.8   3.8   3.8   3.8   3.8   3.8   3.8   3.8   3.81  3.81\n",
            "  3.81  3.81  3.81  3.81  3.81  3.81  3.81  3.81  3.82  3.82  3.82  3.82\n",
            "  3.82  3.82  3.82  3.82  3.82  3.82  3.83  3.83  3.83  3.83  3.83  3.83\n",
            "  3.83  3.83  3.83  3.83  3.84  3.84  3.84  3.84  3.84  3.84  3.84  3.84\n",
            "  3.84  3.84  3.85  3.85  3.85  3.85  3.85  3.85  3.85  3.85  3.85  3.85\n",
            "  3.86  3.86  3.86  3.86  3.86  3.86  3.86  3.86  3.86  3.86  3.87  3.87\n",
            "  3.87  3.87  3.87  3.87  3.87  3.87  3.87  3.87  3.88  3.88  3.88  3.88\n",
            "  3.88  3.88  3.88  3.88  3.88  3.88  3.89  3.89  3.89  3.89  3.89  3.89\n",
            "  3.89  3.89  3.89  3.89  3.9   3.9   3.9   3.9   3.9   3.9   3.9   3.9\n",
            "  3.9   3.9   3.91  3.91  3.91  3.91  3.91  3.91  3.91  3.91  3.91  3.91\n",
            "  3.92  3.92  3.92  3.92  3.92  3.92  3.92  3.92  3.92  3.92  3.93  3.93\n",
            "  3.93  3.93  3.93  3.93  3.93  3.93  3.93  3.93  3.94  3.94  3.94  3.94\n",
            "  3.94  3.94  3.94  3.94  3.94  3.94  3.95  3.95  3.95  3.95  3.95  3.95\n",
            "  3.95  3.95  3.95  3.95  3.96  3.96  3.96  3.96  3.96  3.96  3.96  3.96\n",
            "  3.96  3.96  3.97  3.97  3.97  3.97  3.97  3.97  3.97  3.97  3.97  3.97\n",
            "  3.98  3.98  3.98  3.98  3.98  3.98  3.98  3.98  3.98  3.98  3.99  3.99\n",
            "  3.99  3.99  3.99  3.99  3.99  3.99  3.99  3.99  4.    4.    4.    4.\n",
            "  4.    4.    4.    4.    4.    4.    4.01  4.01  4.01  4.01  4.01  4.01\n",
            "  4.01  4.01  4.01  4.01  4.02  4.02  4.02  4.02  4.02  4.02  4.02  4.02\n",
            "  4.02  4.02  4.03  4.03  4.03  4.03  4.03  4.03  4.03  4.03  4.03  4.03\n",
            "  4.04  4.04  4.04  4.04  4.04  4.04  4.04  4.04  4.04  4.04  4.05  4.05\n",
            "  4.05  4.05  4.05  4.05  4.05  4.05  4.05  4.05  4.06  4.06  4.06  4.06\n",
            "  4.06  4.06  4.06  4.06  4.06  4.06  4.07  4.07  4.07  4.07  4.07  4.07\n",
            "  4.07  4.07  4.07  4.07  4.08  4.08  4.08  4.08  4.08  4.08  4.08  4.08\n",
            "  4.08  4.08  4.09  4.09  4.09  4.09  4.09  4.09  4.09  4.09  4.09  4.09\n",
            "  4.1   4.1   4.1   4.1   4.1   4.1   4.1   4.1   4.1   4.1   4.11  4.11\n",
            "  4.11  4.11  4.11  4.11  4.11  4.11  4.11  4.11  4.12  4.12  4.12  4.12\n",
            "  4.12  4.12  4.12  4.12  4.12  4.12  4.13  4.13  4.13  4.13  4.13  4.13\n",
            "  4.13  4.13  4.13  4.13  4.14  4.14  4.14  4.14  4.14  4.14  4.14  4.14\n",
            "  4.14  4.14  4.15  4.15  4.15  4.15  4.15  4.15  4.15  4.15  4.15  4.15\n",
            "  4.16  4.16  4.16  4.16  4.16  4.16  4.16  4.16  4.16  4.16  4.17  4.17\n",
            "  4.17  4.17  4.17  4.17  4.17  4.17  4.17  4.17  4.18  4.18  4.18  4.18\n",
            "  4.18  4.18  4.18  4.18  4.18  4.18  4.19  4.19  4.19  4.19  4.19  4.19\n",
            "  4.19  4.19  4.19  4.19  4.2   4.2   4.2   4.2   4.2   4.2   4.2   4.2\n",
            "  4.2   4.2   4.21  4.21  4.21  4.21  4.21  4.21  4.21  4.21  4.21  4.21\n",
            "  4.22  4.22  4.22  4.22  4.22  4.22  4.22  4.22  4.22  4.22  4.23  4.23\n",
            "  4.23  4.23  4.23  4.23  4.23  4.23  4.23  4.23  4.24  4.24  4.24  4.24\n",
            "  4.24  4.24  4.24  4.24  4.24  4.24  4.25  4.25  4.25  4.25  4.25  4.25\n",
            "  4.25  4.25  4.25  4.25  4.26  4.26  4.26  4.26  4.26  4.26  4.26  4.26\n",
            "  4.26  4.26  4.27  4.27  4.27  4.27  4.27  4.27  4.27  4.27  4.27  4.27\n",
            "  4.28  4.28  4.28  4.28  4.28  4.28  4.28  4.28  4.28  4.28  4.29  4.29\n",
            "  4.29  4.29  4.29  4.29  4.29  4.29  4.29  4.29  4.3   4.3   4.3   4.3\n",
            "  4.3   4.3   4.3   4.3   4.3   4.3   4.31  4.31  4.31  4.31  4.31  4.31\n",
            "  4.31  4.31  4.31  4.31  4.32  4.32  4.32  4.32  4.32  4.32  4.32  4.32\n",
            "  4.32  4.32  4.33  4.33  4.33  4.33  4.33  4.33  4.33  4.33  4.33  4.33\n",
            "  4.34  4.34  4.34  4.34  4.34  4.34  4.34  4.34  4.34  4.34  4.35  4.35\n",
            "  4.35  4.35  4.35  4.35  4.35  4.35  4.35  4.35  4.36  4.36  4.36  4.36\n",
            "  4.36  4.36  4.36  4.36  4.36  4.36  4.37  4.37  4.37  4.37  4.37  4.37\n",
            "  4.37  4.37  4.37  4.37  4.38  4.38  4.38  4.38  4.38  4.38  4.38  4.38\n",
            "  4.38  4.38  4.39  4.39  4.39  4.39  4.39  4.39  4.39  4.39  4.39  4.39\n",
            "  4.4   4.4   4.4   4.4   4.4   4.4   4.4   4.4   4.4   4.4   4.41  4.41\n",
            "  4.41  4.41  4.41  4.41  4.41  4.41  4.41  4.41  4.42  4.42  4.42  4.42\n",
            "  4.42  4.42  4.42  4.42  4.42  4.42  4.43  4.43  4.43  4.43  4.43  4.43\n",
            "  4.43  4.43  4.43  4.43  4.44  4.44  4.44  4.44  4.44  4.44  4.44  4.44\n",
            "  4.44  4.44  4.45  4.45  4.45  4.45  4.45  4.45  4.45  4.45  4.45  4.45\n",
            "  4.46  4.46  4.46  4.46  4.46  4.46  4.46  4.46  4.46  4.46  4.47  4.47\n",
            "  4.47  4.47  4.47  4.47  4.47  4.47  4.47  4.47  4.48  4.48  4.48  4.48\n",
            "  4.48  4.48  4.48  4.48  4.48  4.48  4.49  4.49  4.49  4.49  4.49  4.49\n",
            "  4.49  4.49  4.49  4.49  4.5   4.5   4.5   4.5   4.5   4.5   4.5   4.5\n",
            "  4.5   4.5   4.51  4.51  4.51  4.51  4.51  4.51  4.51  4.51  4.51  4.51\n",
            "  4.52  4.52  4.52  4.52  4.52  4.52  4.52  4.52  4.52  4.52  4.53  4.53\n",
            "  4.53  4.53  4.53  4.53  4.53  4.53  4.53  4.53  4.54  4.54  4.54  4.54\n",
            "  4.54  4.54  4.54  4.54  4.54  4.54  4.55  4.55  4.55  4.55  4.55  4.55\n",
            "  4.55  4.55  4.55  4.55  4.56  4.56  4.56  4.56  4.56  4.56  4.56  4.56\n",
            "  4.56  4.56  4.57  4.57  4.57  4.57  4.57  4.57  4.57  4.57  4.57  4.57\n",
            "  4.58  4.58  4.58  4.58  4.58  4.58  4.58  4.58  4.58  4.58  4.59  4.59\n",
            "  4.59  4.59  4.59  4.59  4.59  4.59  4.59  4.59  4.6   4.6   4.6   4.6\n",
            "  4.6   4.6   4.6   4.6   4.6   4.6   4.61  4.61  4.61  4.61  4.61  4.61\n",
            "  4.61  4.61  4.61  4.61  4.62  4.62  4.62  4.62  4.62  4.62  4.62  4.62\n",
            "  4.62  4.62  4.63  4.63  4.63  4.63  4.63  4.63  4.63  4.63  4.63  4.63\n",
            "  4.64  4.64  4.64  4.64  4.64  4.64  4.64  4.64  4.64  4.64  4.65  4.65\n",
            "  4.65  4.65  4.65  4.65  4.65  4.65  4.65  4.65  4.66  4.66  4.66  4.66\n",
            "  4.66  4.66  4.66  4.66  4.66  4.66  4.67  4.67  4.67  4.67  4.67  4.67\n",
            "  4.67  4.67  4.67  4.67  4.68  4.68  4.68  4.68  4.68  4.68  4.68  4.68\n",
            "  4.68  4.68  4.69  4.69  4.69  4.69  4.69  4.69  4.69  4.69  4.69  4.69\n",
            "  4.7   4.7   4.7   4.7   4.7   4.7   4.7   4.7   4.7   4.7   4.71  4.71\n",
            "  4.71  4.71  4.71  4.71  4.71  4.71  4.71  4.71  4.72  4.72  4.72  4.72\n",
            "  4.72  4.72  4.72  4.72  4.72  4.72  4.73  4.73  4.73  4.73  4.73  4.73\n",
            "  4.73  4.73  4.73  4.73  4.74  4.74  4.74  4.74  4.74  4.74  4.74  4.74\n",
            "  4.74  4.74  4.75  4.75  4.75  4.75  4.75  4.75  4.75  4.75  4.75  4.75\n",
            "  4.76  4.76  4.76  4.76  4.76  4.76  4.76  4.76  4.76  4.76  4.77  4.77\n",
            "  4.77  4.77  4.77  4.77  4.77  4.77  4.77  4.77  4.78  4.78  4.78  4.78\n",
            "  4.78  4.78  4.78  4.78  4.78  4.78  4.79  4.79  4.79  4.79  4.79  4.79\n",
            "  4.79  4.79  4.79  4.79  4.8   4.8   4.8   4.8   4.8   4.8   4.8   4.8\n",
            "  4.8   4.8   4.81  4.81  4.81  4.81  4.81  4.81  4.81  4.81  4.81  4.81\n",
            "  4.82  4.82  4.82  4.82  4.82  4.82  4.82  4.82  4.82  4.82  4.83  4.83\n",
            "  4.83  4.83  4.83  4.83  4.83  4.83  4.83  4.83  4.84  4.84  4.84  4.84\n",
            "  4.84  4.84  4.84  4.84  4.84  4.84  4.85  4.85  4.85  4.85  4.85  4.85\n",
            "  4.85  4.85  4.85  4.85  4.86  4.86  4.86  4.86  4.86  4.86  4.86  4.86\n",
            "  4.86  4.86  4.87  4.87  4.87  4.87  4.87  4.87  4.87  4.87  4.87  4.87\n",
            "  4.88  4.88  4.88  4.88  4.88  4.88  4.88  4.88  4.88  4.88  4.89  4.89\n",
            "  4.89  4.89  4.89  4.89  4.89  4.89  4.89  4.89  4.9   4.9   4.9   4.9\n",
            "  4.9   4.9   4.9   4.9   4.9   4.9   4.91  4.91  4.91  4.91  4.91  4.91\n",
            "  4.91  4.91  4.91  4.91  4.92  4.92  4.92  4.92  4.92  4.92  4.92  4.92\n",
            "  4.92  4.92  4.93  4.93  4.93  4.93  4.93  4.93  4.93  4.93  4.93  4.93\n",
            "  4.94  4.94  4.94  4.94  4.94  4.94  4.94  4.94  4.94  4.94  4.95  4.95\n",
            "  4.95  4.95  4.95  4.95  4.95  4.95  4.95  4.95  4.96  4.96  4.96  4.96\n",
            "  4.96  4.96  4.96  4.96  4.96  4.96  4.97  4.97  4.97  4.97  4.97  4.97\n",
            "  4.97  4.97  4.97  4.97  4.98  4.98  4.98  4.98  4.98  4.98  4.98  4.98\n",
            "  4.98  4.98  4.99  4.99  4.99  4.99  4.99  4.99  4.99  4.99  4.99  4.99\n",
            "  5.    5.    5.    5.    5.    5.    5.    5.    5.    5.    5.01  5.01\n",
            "  5.01  5.01  5.01  5.01  5.01  5.01  5.01  5.01  5.02  5.02  5.02  5.02\n",
            "  5.02  5.02  5.02  5.02  5.02  5.02  5.03  5.03  5.03  5.03  5.03  5.03\n",
            "  5.03  5.03  5.03  5.03  5.04  5.04  5.04  5.04  5.04  5.04  5.04  5.04\n",
            "  5.04  5.04  5.05  5.05  5.05  5.05  5.05  5.05  5.05  5.05  5.05  5.05\n",
            "  5.06  5.06  5.06  5.06  5.06  5.06  5.06  5.06  5.06  5.06  5.07  5.07\n",
            "  5.07  5.07  5.07  5.07  5.07  5.07  5.07  5.07  5.08  5.08  5.08  5.08\n",
            "  5.08  5.08  5.08  5.08  5.08  5.08  5.09  5.09  5.09  5.09  5.09  5.09\n",
            "  5.09  5.09  5.09  5.09  5.1   5.1   5.1   5.1   5.1   5.1   5.1   5.1\n",
            "  5.1   5.1   5.11  5.11  5.11  5.11  5.11  5.11  5.11  5.11  5.11  5.11\n",
            "  5.12  5.12  5.12  5.12  5.12  5.12  5.12  5.12  5.12  5.12  5.13  5.13\n",
            "  5.13  5.13  5.13  5.13  5.13  5.13  5.13  5.13  5.14  5.14  5.14  5.14\n",
            "  5.14  5.14  5.14  5.14  5.14  5.14  5.15  5.15  5.15  5.15  5.15  5.15\n",
            "  5.15  5.15  5.15  5.15  5.16  5.16  5.16  5.16  5.16  5.16  5.16  5.16\n",
            "  5.16  5.16  5.17  5.17  5.17  5.17  5.17  5.17  5.17  5.17  5.17  5.17\n",
            "  5.18  5.18  5.18  5.18  5.18  5.18  5.18  5.18  5.18  5.18  5.19  5.19\n",
            "  5.19  5.19  5.19  5.19  5.19  5.19  5.19  5.19  5.2   5.2   5.2   5.2\n",
            "  5.2   5.2   5.2   5.2   5.2   5.2   5.21  5.21  5.21  5.21  5.21  5.21\n",
            "  5.21  5.21  5.21  5.21  5.22  5.22  5.22  5.22  5.22  5.22  5.22  5.22\n",
            "  5.22  5.22  5.23  5.23  5.23  5.23  5.23  5.23  5.23  5.23  5.23  5.23\n",
            "  5.24  5.24  5.24  5.24  5.24  5.24  5.24  5.24  5.24  5.24  5.25  5.25\n",
            "  5.25  5.25  5.25  5.25  5.25  5.25  5.25  5.25  5.26  5.26  5.26  5.26\n",
            "  5.26  5.26  5.26  5.26  5.26  5.26  5.27  5.27  5.27  5.27  5.27  5.27\n",
            "  5.27  5.27  5.27  5.27  5.28  5.28  5.28  5.28  5.28  5.28  5.28  5.28\n",
            "  5.28  5.28  5.29  5.29  5.29  5.29  5.29  5.29  5.29  5.29  5.29  5.29\n",
            "  5.3   5.3   5.3   5.3   5.3   5.3   5.3   5.3   5.3   5.3   5.31  5.31\n",
            "  5.31  5.31  5.31  5.31  5.31  5.31  5.31  5.31  5.32  5.32  5.32  5.32\n",
            "  5.32  5.32  5.32  5.32  5.32  5.32  5.33  5.33  5.33  5.33  5.33  5.33\n",
            "  5.33  5.33  5.33  5.33  5.34  5.34  5.34  5.34  5.34  5.34  5.34  5.34\n",
            "  5.34  5.34  5.35  5.35  5.35  5.35  5.35  5.35  5.35  5.35  5.35  5.35\n",
            "  5.36  5.36  5.36  5.36  5.36  5.36  5.36  5.36  5.36  5.36  5.37  5.37\n",
            "  5.37  5.37  5.37  5.37  5.37  5.37  5.37  5.37  5.38  5.38  5.38  5.38\n",
            "  5.38  5.38  5.38  5.38  5.38  5.38  5.39  5.39  5.39  5.39  5.39  5.39\n",
            "  5.39  5.39  5.39  5.39  5.4   5.4   5.4   5.4   5.4   5.4   5.4   5.4\n",
            "  5.4   5.4   5.41  5.41  5.41  5.41  5.41  5.41  5.41  5.41  5.41  5.41\n",
            "  5.42  5.42  5.42  5.42  5.42  5.42  5.42  5.42  5.42  5.42  5.43  5.43\n",
            "  5.43  5.43  5.43  5.43  5.43  5.43  5.43  5.43  5.44  5.44  5.44  5.44\n",
            "  5.44  5.44  5.44  5.44  5.44  5.44  5.45  5.45  5.45  5.45  5.45  5.45\n",
            "  5.45  5.45  5.45  5.45  5.46  5.46  5.46  5.46  5.46  5.46  5.46  5.46\n",
            "  5.46  5.46  5.47  5.47  5.47  5.47  5.47  5.47  5.47  5.47  5.47  5.47\n",
            "  5.48  5.48  5.48  5.48  5.48  5.48  5.48  5.48  5.48  5.48  5.49  5.49\n",
            "  5.49  5.49  5.49  5.49  5.49  5.49  5.49  5.49  5.5   5.5   5.5   5.5\n",
            "  5.5   5.5   5.5   5.5   5.5   5.5   5.51  5.51  5.51  5.51  5.51  5.51\n",
            "  5.51  5.51  5.51  5.51  5.52  5.52  5.52  5.52  5.52  5.52  5.52  5.52\n",
            "  5.52  5.52  5.53  5.53  5.53  5.53  5.53  5.53  5.53  5.53  5.53  5.53\n",
            "  5.54  5.54  5.54  5.54  5.54  5.54  5.54  5.54  5.54  5.54  5.55  5.55\n",
            "  5.55  5.55  5.55  5.55  5.55  5.55  5.55  5.55  5.56  5.56  5.56  5.56\n",
            "  5.56  5.56  5.56  5.56  5.56  5.56  5.57  5.57  5.57  5.57  5.57  5.57\n",
            "  5.57  5.57  5.57  5.57  5.58  5.58  5.58  5.58  5.58  5.58  5.58  5.58\n",
            "  5.58  5.58  5.59  5.59  5.59  5.59  5.59  5.59  5.59  5.59  5.59  5.59\n",
            "  5.6   5.6   5.6   5.6   5.6   5.6   5.6   5.6   5.6   5.6   5.61  5.61\n",
            "  5.61  5.61  5.61  5.61  5.61  5.61  5.61  5.61  5.62  5.62  5.62  5.62\n",
            "  5.62  5.62  5.62  5.62  5.62  5.62  5.63  5.63  5.63  5.63  5.63  5.63\n",
            "  5.63  5.63  5.63  5.63  5.64  5.64  5.64  5.64  5.64  5.64  5.64  5.64\n",
            "  5.64  5.64  5.65  5.65  5.65  5.65  5.65  5.65  5.65  5.65  5.65  5.65\n",
            "  5.66  5.66  5.66  5.66  5.66  5.66  5.66  5.66  5.66  5.66  5.67  5.67\n",
            "  5.67  5.67  5.67  5.67  5.67  5.67  5.67  5.67  5.68  5.68  5.68  5.68\n",
            "  5.68  5.68  5.68  5.68  5.68  5.68  5.69  5.69  5.69  5.69  5.69  5.69\n",
            "  5.69  5.69  5.69  5.69  5.7   5.7   5.7   5.7   5.7   5.7   5.7   5.7\n",
            "  5.7   5.7   5.71  5.71  5.71  5.71  5.71  5.71  5.71  5.71  5.71  5.71\n",
            "  5.72  5.72  5.72  5.72  5.72  5.72  5.72  5.72  5.72  5.72  5.73  5.73\n",
            "  5.73  5.73  5.73  5.73  5.73  5.73  5.73  5.73  5.74  5.74  5.74  5.74\n",
            "  5.74  5.74  5.74  5.74  5.74  5.74  5.75  5.75  5.75  5.75  5.75  5.75\n",
            "  5.75  5.75  5.75  5.75  5.76  5.76  5.76  5.76  5.76  5.76  5.76  5.76\n",
            "  5.76  5.76  5.77  5.77  5.77  5.77  5.77  5.77  5.77  5.77  5.77  5.77\n",
            "  5.78  5.78  5.78  5.78  5.78  5.78  5.78  5.78  5.78  5.78  5.79  5.79\n",
            "  5.79  5.79  5.79  5.79  5.79  5.79  5.79  5.79  5.8   5.8   5.8   5.8\n",
            "  5.8   5.8   5.8   5.8   5.8   5.8   5.81  5.81  5.81  5.81  5.81  5.81\n",
            "  5.81  5.81  5.81  5.81  5.82  5.82  5.82  5.82  5.82  5.82  5.82  5.82\n",
            "  5.82  5.82  5.83  5.83  5.83  5.83  5.83  5.83  5.83  5.83  5.83  5.83\n",
            "  5.84  5.84  5.84  5.84  5.84  5.84  5.84  5.84  5.84  5.84  5.85  5.85\n",
            "  5.85  5.85  5.85  5.85  5.85  5.85  5.85  5.85  5.86  5.86  5.86  5.86\n",
            "  5.86  5.86  5.86  5.86  5.86  5.86  5.87  5.87  5.87  5.87  5.87  5.87\n",
            "  5.87  5.87  5.87  5.87  5.88  5.88  5.88  5.88  5.88  5.88  5.88  5.88\n",
            "  5.88  5.88  5.89  5.89  5.89  5.89  5.89  5.89  5.89  5.89  5.89  5.89\n",
            "  5.9   5.9   5.9   5.9   5.9   5.9   5.9   5.9   5.9   5.9   5.91  5.91\n",
            "  5.91  5.91  5.91  5.91  5.91  5.91  5.91  5.91  5.92  5.92  5.92  5.92\n",
            "  5.92  5.92  5.92  5.92  5.92  5.92  5.93  5.93  5.93  5.93  5.93  5.93\n",
            "  5.93  5.93  5.93  5.93  5.94  5.94  5.94  5.94  5.94  5.94  5.94  5.94\n",
            "  5.94  5.94  5.95  5.95  5.95  5.95  5.95  5.95  5.95  5.95  5.95  5.95\n",
            "  5.96  5.96  5.96  5.96  5.96  5.96  5.96  5.96  5.96  5.96  5.97  5.97\n",
            "  5.97  5.97  5.97  5.97  5.97  5.97  5.97  5.97  5.98  5.98  5.98  5.98\n",
            "  5.98  5.98  5.98  5.98  5.98  5.98  5.99  5.99  5.99  5.99  5.99  5.99\n",
            "  5.99  5.99  5.99  5.99  6.    6.    6.    6.    6.    6.    6.    6.\n",
            "  6.    6.    6.01  6.01  6.01  6.01  6.01  6.01  6.01  6.01  6.01  6.01\n",
            "  6.02  6.02  6.02  6.02  6.02  6.02  6.02  6.02  6.02  6.02  6.03  6.03\n",
            "  6.03  6.03  6.03  6.03  6.03  6.03  6.03  6.03  6.04  6.04  6.04  6.04\n",
            "  6.04  6.04  6.04  6.04  6.04  6.04  6.05  6.05  6.05  6.05  6.05  6.05\n",
            "  6.05  6.05  6.05  6.05  6.06  6.06  6.06  6.06  6.06  6.06  6.06  6.06\n",
            "  6.06  6.06  6.07  6.07  6.07  6.07  6.07  6.07  6.07  6.07  6.07  6.07\n",
            "  6.08  6.08  6.08  6.08  6.08  6.08  6.08  6.08  6.08  6.08  6.09  6.09\n",
            "  6.09  6.09  6.09  6.09  6.09  6.09  6.09  6.09  6.1   6.1   6.1   6.1\n",
            "  6.1   6.1   6.1   6.1   6.1   6.1   6.11  6.11  6.11  6.11  6.11  6.11\n",
            "  6.11  6.11  6.11  6.11  6.12  6.12  6.12  6.12  6.12  6.12  6.12  6.12\n",
            "  6.12  6.12  6.13  6.13  6.13  6.13  6.13  6.13  6.13  6.13  6.13  6.13\n",
            "  6.14  6.14  6.14  6.14  6.14  6.14  6.14  6.14  6.14  6.14  6.15  6.15\n",
            "  6.15  6.15  6.15  6.15  6.15  6.15  6.15  6.15  6.16  6.16  6.16  6.16\n",
            "  6.16  6.16  6.16  6.16  6.16  6.16  6.17  6.17  6.17  6.17  6.17  6.17\n",
            "  6.17  6.17  6.17  6.17  6.18  6.18  6.18  6.18  6.18  6.18  6.18  6.18\n",
            "  6.18  6.18  6.19  6.19  6.19  6.19  6.19  6.19  6.19  6.19  6.19  6.19\n",
            "  6.2   6.2   6.2   6.2   6.2   6.2   6.2   6.2   6.2   6.2   6.21  6.21\n",
            "  6.21  6.21  6.21  6.21  6.21  6.21  6.21  6.21  6.22  6.22  6.22  6.22\n",
            "  6.22  6.22  6.22  6.22  6.22  6.22  6.23  6.23  6.23  6.23  6.23  6.23\n",
            "  6.23  6.23  6.23  6.23  6.24  6.24  6.24  6.24  6.24  6.24  6.24  6.24\n",
            "  6.24  6.24  6.25  6.25  6.25  6.25  6.25  6.25  6.25  6.25  6.25  6.25\n",
            "  6.26  6.26  6.26  6.26  6.26  6.26  6.26  6.26  6.26  6.26  6.27  6.27\n",
            "  6.27  6.27  6.27  6.27  6.27  6.27  6.27  6.27  6.28  6.28  6.28  6.28\n",
            "  6.28  6.28  6.28  6.28  6.28  6.28  6.29  6.29  6.29  6.29  6.29  6.29\n",
            "  6.29  6.29  6.29  6.29  6.3   6.3   6.3   6.3   6.3   6.3   6.3   6.3\n",
            "  6.3   6.3   6.31  6.31  6.31  6.31  6.31  6.31  6.31  6.31  6.31  6.31\n",
            "  6.32  6.32  6.32  6.32  6.32  6.32  6.32  6.32  6.32  6.32  6.33  6.33\n",
            "  6.33  6.33  6.33  6.33  6.33  6.33  6.33  6.33  6.34  6.34  6.34  6.34\n",
            "  6.34  6.34  6.34  6.34  6.34  6.34  6.35  6.35  6.35  6.35  6.35  6.35\n",
            "  6.35  6.35  6.35  6.35  6.36  6.36  6.36  6.36  6.36  6.36  6.36  6.36\n",
            "  6.36  6.36  6.37  6.37  6.37  6.37  6.37  6.37  6.37  6.37  6.37  6.37\n",
            "  6.38  6.38  6.38  6.38  6.38  6.38  6.38  6.38  6.38  6.38  6.39  6.39\n",
            "  6.39  6.39  6.39  6.39  6.39  6.39  6.39  6.39  6.4   6.4   6.4   6.4\n",
            "  6.4   6.4   6.4   6.4   6.4   6.4   6.41  6.41  6.41  6.41  6.41  6.41\n",
            "  6.41  6.41  6.41  6.41  6.42  6.42  6.42  6.42  6.42  6.42  6.42  6.42\n",
            "  6.42  6.42  6.43  6.43  6.43  6.43  6.43  6.43  6.43  6.43  6.43  6.43\n",
            "  6.44  6.44  6.44  6.44  6.44  6.44  6.44  6.44  6.44  6.44  6.45  6.45\n",
            "  6.45  6.45  6.45  6.45  6.45  6.45  6.45  6.45  6.46  6.46  6.46  6.46\n",
            "  6.46  6.46  6.46  6.46  6.46  6.46  6.47  6.47  6.47  6.47  6.47  6.47\n",
            "  6.47  6.47  6.47  6.47  6.48  6.48  6.48  6.48  6.48  6.48  6.48  6.48\n",
            "  6.48  6.48  6.49  6.49  6.49  6.49  6.49  6.49  6.49  6.49  6.49  6.49\n",
            "  6.5   6.5   6.5   6.5   6.5   6.5   6.5   6.5   6.5   6.5   6.51  6.51\n",
            "  6.51  6.51  6.51  6.51  6.51  6.51  6.51  6.51  6.52  6.52  6.52  6.52\n",
            "  6.52  6.52  6.52  6.52  6.52  6.52  6.53  6.53  6.53  6.53  6.53  6.53\n",
            "  6.53  6.53  6.53  6.53  6.54  6.54  6.54  6.54  6.54  6.54  6.54  6.54\n",
            "  6.54  6.54  6.55  6.55  6.55  6.55  6.55  6.55  6.55  6.55  6.55  6.55\n",
            "  6.56  6.56  6.56  6.56  6.56  6.56  6.56  6.56  6.56  6.56  6.57  6.57\n",
            "  6.57  6.57  6.57  6.57  6.57  6.57  6.57  6.57  6.58  6.58  6.58  6.58\n",
            "  6.58  6.58  6.58  6.58  6.58  6.58  6.59  6.59  6.59  6.59  6.59  6.59\n",
            "  6.59  6.59  6.59  6.59  6.6   6.6   6.6   6.6   6.6   6.6   6.6   6.6\n",
            "  6.6   6.6   6.61  6.61  6.61  6.61  6.61  6.61  6.61  6.61  6.61  6.61\n",
            "  6.62  6.62  6.62  6.62  6.62  6.62  6.62  6.62  6.62  6.62  6.63  6.63\n",
            "  6.63  6.63  6.63  6.63  6.63  6.63  6.63  6.63  6.64  6.64  6.64  6.64\n",
            "  6.64  6.64  6.64  6.64  6.64  6.64  6.65  6.65  6.65  6.65  6.65  6.65\n",
            "  6.65  6.65  6.65  6.65  6.66  6.66  6.66  6.66  6.66  6.66  6.66  6.66\n",
            "  6.66  6.66  6.67  6.67  6.67  6.67  6.67  6.67  6.67  6.67  6.67  6.67\n",
            "  6.68  6.68  6.68  6.68  6.68  6.68  6.68  6.68  6.68  6.68  6.69  6.69\n",
            "  6.69  6.69  6.69  6.69  6.69  6.69  6.69  6.69  6.7   6.7   6.7   6.7\n",
            "  6.7   6.7   6.7   6.7   6.7   6.7   6.71  6.71  6.71  6.71  6.71  6.71\n",
            "  6.71  6.71  6.71  6.71  6.72  6.72  6.72  6.72  6.72  6.72  6.72  6.72\n",
            "  6.72  6.72  6.73  6.73  6.73  6.73  6.73  6.73  6.73  6.73  6.73  6.73\n",
            "  6.74  6.74  6.74  6.74  6.74  6.74  6.74  6.74  6.74  6.74  6.75  6.75\n",
            "  6.75  6.75  6.75  6.75  6.75  6.75  6.75  6.75  6.76  6.76  6.76  6.76\n",
            "  6.76  6.76  6.76  6.76  6.76  6.76  6.77  6.77  6.77  6.77  6.77  6.77\n",
            "  6.77  6.77  6.77  6.77  6.78  6.78  6.78  6.78  6.78  6.78  6.78  6.78\n",
            "  6.78  6.78  6.79  6.79  6.79  6.79  6.79  6.79  6.79  6.79  6.79  6.79\n",
            "  6.8   6.8   6.8   6.8   6.8   6.8   6.8   6.8   6.8   6.8   6.81  6.81\n",
            "  6.81  6.81  6.81  6.81  6.81  6.81  6.81  6.81  6.82  6.82  6.82  6.82\n",
            "  6.82  6.82  6.82  6.82  6.82  6.82  6.83  6.83  6.83  6.83  6.83  6.83\n",
            "  6.83  6.83  6.83  6.83  6.84  6.84  6.84  6.84  6.84  6.84  6.84  6.84\n",
            "  6.84  6.84  6.85  6.85  6.85  6.85  6.85  6.85  6.85  6.85  6.85  6.85\n",
            "  6.86  6.86  6.86  6.86  6.86  6.86  6.86  6.86  6.86  6.86  6.87  6.87\n",
            "  6.87  6.87  6.87  6.87  6.87  6.87  6.87  6.87  6.88  6.88  6.88  6.88\n",
            "  6.88  6.88  6.88  6.88  6.88  6.88  6.89  6.89  6.89  6.89  6.89  6.89\n",
            "  6.89  6.89  6.89  6.89  6.9   6.9   6.9   6.9   6.9   6.9   6.9   6.9\n",
            "  6.9   6.9   6.91  6.91  6.91  6.91  6.91  6.91  6.91  6.91  6.91  6.91\n",
            "  6.92  6.92  6.92  6.92  6.92  6.92  6.92  6.92  6.92  6.92  6.93  6.93\n",
            "  6.93  6.93  6.93  6.93  6.93  6.93  6.93  6.93  6.94  6.94  6.94  6.94\n",
            "  6.94  6.94  6.94  6.94  6.94  6.94  6.95  6.95  6.95  6.95  6.95  6.95\n",
            "  6.95  6.95  6.95  6.95  6.96  6.96  6.96  6.96  6.96  6.96  6.96  6.96\n",
            "  6.96  6.96  6.97  6.97  6.97  6.97  6.97  6.97  6.97  6.97  6.97  6.97\n",
            "  6.98  6.98  6.98  6.98  6.98  6.98  6.98  6.98  6.98  6.98  6.99  6.99\n",
            "  6.99  6.99  6.99  6.99  6.99  6.99  6.99  6.99  7.    7.    7.    7.\n",
            "  7.    7.    7.    7.    7.    7.    7.01  7.01  7.01  7.01  7.01  7.01\n",
            "  7.01  7.01  7.01  7.01  7.02  7.02  7.02  7.02  7.02  7.02  7.02  7.02\n",
            "  7.02  7.02  7.03  7.03  7.03  7.03  7.03  7.03  7.03  7.03  7.03  7.03\n",
            "  7.04  7.04  7.04  7.04  7.04  7.04  7.04  7.04  7.04  7.04  7.05  7.05\n",
            "  7.05  7.05  7.05  7.05  7.05  7.05  7.05  7.05  7.06  7.06  7.06  7.06\n",
            "  7.06  7.06  7.06  7.06  7.06  7.06  7.07  7.07  7.07  7.07  7.07  7.07\n",
            "  7.07  7.07  7.07  7.07  7.08  7.08  7.08  7.08  7.08  7.08  7.08  7.08\n",
            "  7.08  7.08  7.09  7.09  7.09  7.09  7.09  7.09  7.09  7.09  7.09  7.09\n",
            "  7.1   7.1   7.1   7.1   7.1   7.1   7.1   7.1   7.1   7.1   7.11  7.11\n",
            "  7.11  7.11  7.11  7.11  7.11  7.11  7.11  7.11  7.12  7.12  7.12  7.12\n",
            "  7.12  7.12  7.12  7.12  7.12  7.12  7.13  7.13  7.13  7.13  7.13  7.13\n",
            "  7.13  7.13  7.13  7.13  7.14  7.14  7.14  7.14  7.14  7.14  7.14  7.14\n",
            "  7.14  7.14  7.15  7.15  7.15  7.15  7.15  7.15  7.15  7.15  7.15  7.15\n",
            "  7.16  7.16  7.16  7.16  7.16  7.16  7.16  7.16  7.16  7.16  7.17  7.17\n",
            "  7.17  7.17  7.17  7.17  7.17  7.17  7.17  7.17  7.18  7.18  7.18  7.18\n",
            "  7.18  7.18  7.18  7.18  7.18  7.18  7.19  7.19  7.19  7.19  7.19  7.19\n",
            "  7.19  7.19  7.19  7.19  7.2   7.2   7.2   7.2   7.2   7.2   7.2   7.2\n",
            "  7.2   7.2   7.21  7.21  7.21  7.21  7.21  7.21  7.21  7.21  7.21  7.21\n",
            "  7.22  7.22  7.22  7.22  7.22  7.22  7.22  7.22  7.22  7.22  7.23  7.23\n",
            "  7.23  7.23  7.23  7.23  7.23  7.23  7.23  7.23  7.24  7.24  7.24  7.24\n",
            "  7.24  7.24  7.24  7.24  7.24  7.24  7.25  7.25  7.25  7.25  7.25  7.25\n",
            "  7.25  7.25  7.25  7.25  7.26  7.26  7.26  7.26  7.26  7.26  7.26  7.26\n",
            "  7.26  7.26  7.27  7.27  7.27  7.27  7.27  7.27  7.27  7.27  7.27  7.27\n",
            "  7.28  7.28  7.28  7.28  7.28  7.28  7.28  7.28  7.28  7.28  7.29  7.29\n",
            "  7.29  7.29  7.29  7.29  7.29  7.29  7.29  7.29  7.3   7.3   7.3   7.3\n",
            "  7.3   7.3   7.3   7.3   7.3   7.3   7.31  7.31  7.31  7.31  7.31  7.31\n",
            "  7.31  7.31  7.31  7.31  7.32  7.32  7.32  7.32  7.32  7.32  7.32  7.32\n",
            "  7.32  7.32  7.33  7.33  7.33  7.33  7.33  7.33  7.33  7.33  7.33  7.33\n",
            "  7.34  7.34  7.34  7.34  7.34  7.34  7.34  7.34  7.34  7.34  7.35  7.35\n",
            "  7.35  7.35  7.35  7.35  7.35  7.35  7.35  7.35  7.36  7.36  7.36  7.36\n",
            "  7.36  7.36  7.36  7.36  7.36  7.36  7.37  7.37  7.37  7.37  7.37  7.37\n",
            "  7.37  7.37  7.37  7.37  7.38  7.38  7.38  7.38  7.38  7.38  7.38  7.38\n",
            "  7.38  7.38  7.39  7.39  7.39  7.39  7.39  7.39  7.39  7.39  7.39  7.39\n",
            "  7.4   7.4   7.4   7.4   7.4   7.4   7.4   7.4   7.4   7.4   7.41  7.41\n",
            "  7.41  7.41  7.41  7.41  7.41  7.41  7.41  7.41  7.42  7.42  7.42  7.42\n",
            "  7.42  7.42  7.42  7.42  7.42  7.42  7.43  7.43  7.43  7.43  7.43  7.43\n",
            "  7.43  7.43  7.43  7.43  7.44  7.44  7.44  7.44  7.44  7.44  7.44  7.44\n",
            "  7.44  7.44  7.45  7.45  7.45  7.45  7.45  7.45  7.45  7.45  7.45  7.45\n",
            "  7.46  7.46  7.46  7.46  7.46  7.46  7.46  7.46  7.46  7.46  7.47  7.47\n",
            "  7.47  7.47  7.47  7.47  7.47  7.47  7.47  7.47  7.48  7.48  7.48  7.48\n",
            "  7.48  7.48  7.48  7.48  7.48  7.48  7.49  7.49  7.49  7.49  7.49  7.49\n",
            "  7.49  7.49  7.49  7.49  7.5   7.5   7.5   7.5   7.5   7.5   7.5   7.5\n",
            "  7.5   7.5   7.51  7.51  7.51  7.51  7.51  7.51  7.51  7.51  7.51  7.51\n",
            "  7.52  7.52  7.52  7.52  7.52  7.52  7.52  7.52  7.52  7.52  7.53  7.53\n",
            "  7.53  7.53  7.53  7.53  7.53  7.53  7.53  7.53  7.54  7.54  7.54  7.54\n",
            "  7.54  7.54  7.54  7.54  7.54  7.54  7.55  7.55  7.55  7.55  7.55  7.55\n",
            "  7.55  7.55  7.55  7.55  7.56  7.56  7.56  7.56  7.56  7.56  7.56  7.56\n",
            "  7.56  7.56  7.57  7.57  7.57  7.57  7.57  7.57  7.57  7.57  7.57  7.57\n",
            "  7.58  7.58  7.58  7.58  7.58  7.58  7.58  7.58  7.58  7.58  7.59  7.59\n",
            "  7.59  7.59  7.59  7.59  7.59  7.59  7.59  7.59  7.6   7.6   7.6   7.6\n",
            "  7.6   7.6   7.6   7.6   7.6   7.6   7.61  7.61  7.61  7.61  7.61  7.61\n",
            "  7.61  7.61  7.61  7.61  7.62  7.62  7.62  7.62  7.62  7.62  7.62  7.62\n",
            "  7.62  7.62  7.63  7.63  7.63  7.63  7.63  7.63  7.63  7.63  7.63  7.63\n",
            "  7.64  7.64  7.64  7.64  7.64  7.64  7.64  7.64  7.64  7.64  7.65  7.65\n",
            "  7.65  7.65  7.65  7.65  7.65  7.65  7.65  7.65  7.66  7.66  7.66  7.66\n",
            "  7.66  7.66  7.66  7.66  7.66  7.66  7.67  7.67  7.67  7.67  7.67  7.67\n",
            "  7.67  7.67  7.67  7.67  7.68  7.68  7.68  7.68  7.68  7.68  7.68  7.68\n",
            "  7.68  7.68  7.69  7.69  7.69  7.69  7.69  7.69  7.69  7.69  7.69  7.69\n",
            "  7.7   7.7   7.7   7.7   7.7   7.7   7.7   7.7   7.7   7.7   7.71  7.71\n",
            "  7.71  7.71  7.71  7.71  7.71  7.71  7.71  7.71  7.72  7.72  7.72  7.72\n",
            "  7.72  7.72  7.72  7.72  7.72  7.72  7.73  7.73  7.73  7.73  7.73  7.73\n",
            "  7.73  7.73  7.73  7.73  7.74  7.74  7.74  7.74  7.74  7.74  7.74  7.74\n",
            "  7.74  7.74  7.75  7.75  7.75  7.75  7.75  7.75  7.75  7.75  7.75  7.75\n",
            "  7.76  7.76  7.76  7.76  7.76  7.76  7.76  7.76  7.76  7.76  7.77  7.77\n",
            "  7.77  7.77  7.77  7.77  7.77  7.77  7.77  7.77  7.78  7.78  7.78  7.78\n",
            "  7.78  7.78  7.78  7.78  7.78  7.78  7.79  7.79  7.79  7.79  7.79  7.79\n",
            "  7.79  7.79  7.79  7.79  7.8   7.8   7.8   7.8   7.8   7.8   7.8   7.8\n",
            "  7.8   7.8   7.81  7.81  7.81  7.81  7.81  7.81  7.81  7.81  7.81  7.81\n",
            "  7.82  7.82  7.82  7.82  7.82  7.82  7.82  7.82  7.82  7.82  7.83  7.83\n",
            "  7.83  7.83  7.83  7.83  7.83  7.83  7.83  7.83  7.84  7.84  7.84  7.84\n",
            "  7.84  7.84  7.84  7.84  7.84  7.84  7.85  7.85  7.85  7.85  7.85  7.85\n",
            "  7.85  7.85  7.85  7.85  7.86  7.86  7.86  7.86  7.86  7.86  7.86  7.86\n",
            "  7.86  7.86  7.87  7.87  7.87  7.87  7.87  7.87  7.87  7.87  7.87  7.87\n",
            "  7.88  7.88  7.88  7.88  7.88  7.88  7.88  7.88  7.88  7.88  7.89  7.89\n",
            "  7.89  7.89  7.89  7.89  7.89  7.89  7.89  7.89  7.9   7.9   7.9   7.9\n",
            "  7.9   7.9   7.9   7.9   7.9   7.9   7.91  7.91  7.91  7.91  7.91  7.91\n",
            "  7.91  7.91  7.91  7.91  7.92  7.92  7.92  7.92  7.92  7.92  7.92  7.92\n",
            "  7.92  7.92  7.93  7.93  7.93  7.93  7.93  7.93  7.93  7.93  7.93  7.93\n",
            "  7.94  7.94  7.94  7.94  7.94  7.94  7.94  7.94  7.94  7.94  7.95  7.95\n",
            "  7.95  7.95  7.95  7.95  7.95  7.95  7.95  7.95  7.96  7.96  7.96  7.96\n",
            "  7.96  7.96  7.96  7.96  7.96  7.96  7.97  7.97  7.97  7.97  7.97  7.97\n",
            "  7.97  7.97  7.97  7.97  7.98  7.98  7.98  7.98  7.98  7.98  7.98  7.98\n",
            "  7.98  7.98  7.99  7.99  7.99  7.99  7.99  7.99  7.99  7.99  7.99  7.99\n",
            "  8.    8.    8.    8.    8.    8.    8.    8.    8.    8.    8.01  8.01\n",
            "  8.01  8.01  8.01  8.01  8.01  8.01  8.01  8.01  8.02  8.02  8.02  8.02\n",
            "  8.02  8.02  8.02  8.02  8.02  8.02  8.03  8.03  8.03  8.03  8.03  8.03\n",
            "  8.03  8.03  8.03  8.03  8.04  8.04  8.04  8.04  8.04  8.04  8.04  8.04\n",
            "  8.04  8.04  8.05  8.05  8.05  8.05  8.05  8.05  8.05  8.05  8.05  8.05\n",
            "  8.06  8.06  8.06  8.06  8.06  8.06  8.06  8.06  8.06  8.06  8.07  8.07\n",
            "  8.07  8.07  8.07  8.07  8.07  8.07  8.07  8.07  8.08  8.08  8.08  8.08\n",
            "  8.08  8.08  8.08  8.08  8.08  8.08  8.09  8.09  8.09  8.09  8.09  8.09\n",
            "  8.09  8.09  8.09  8.09  8.1   8.1   8.1   8.1   8.1   8.1   8.1   8.1\n",
            "  8.1   8.1   8.11  8.11  8.11  8.11  8.11  8.11  8.11  8.11  8.11  8.11\n",
            "  8.12  8.12  8.12  8.12  8.12  8.12  8.12  8.12  8.12  8.12  8.13  8.13\n",
            "  8.13  8.13  8.13  8.13  8.13  8.13  8.13  8.13  8.14  8.14  8.14  8.14\n",
            "  8.14  8.14  8.14  8.14  8.14  8.14  8.15  8.15  8.15  8.15  8.15  8.15\n",
            "  8.15  8.15  8.15  8.15  8.16  8.16  8.16  8.16  8.16  8.16  8.16  8.16\n",
            "  8.16  8.16  8.17  8.17  8.17  8.17  8.17  8.17  8.17  8.17  8.17  8.17\n",
            "  8.18  8.18  8.18  8.18  8.18  8.18  8.18  8.18  8.18  8.18  8.19  8.19\n",
            "  8.19  8.19  8.19  8.19  8.19  8.19  8.19  8.19  8.2   8.2   8.2   8.2\n",
            "  8.2   8.2   8.2   8.2   8.2   8.2   8.21  8.21  8.21  8.21  8.21  8.21\n",
            "  8.21  8.21  8.21  8.21  8.22  8.22  8.22  8.22  8.22  8.22  8.22  8.22\n",
            "  8.22  8.22  8.23  8.23  8.23  8.23  8.23  8.23  8.23  8.23  8.23  8.23\n",
            "  8.24  8.24  8.24  8.24  8.24  8.24  8.24  8.24  8.24  8.24  8.25  8.25\n",
            "  8.25  8.25  8.25  8.25  8.25  8.25  8.25  8.25  8.26  8.26  8.26  8.26\n",
            "  8.26  8.26  8.26  8.26  8.26  8.26  8.27  8.27  8.27  8.27  8.27  8.27\n",
            "  8.27  8.27  8.27  8.27  8.28  8.28  8.28  8.28  8.28  8.28  8.28  8.28\n",
            "  8.28  8.28  8.29  8.29  8.29  8.29  8.29  8.29  8.29  8.29  8.29  8.29\n",
            "  8.3   8.3   8.3   8.3   8.3   8.3   8.3   8.3   8.3   8.3   8.31  8.31\n",
            "  8.31  8.31  8.31  8.31  8.31  8.31  8.31  8.31  8.32  8.32  8.32  8.32\n",
            "  8.32  8.32  8.32  8.32  8.32  8.32  8.33  8.33  8.33  8.33  8.33  8.33\n",
            "  8.33  8.33  8.33  8.33  8.34  8.34  8.34  8.34  8.34  8.34  8.34  8.34\n",
            "  8.34  8.34  8.35  8.35  8.35  8.35  8.35  8.35  8.35  8.35  8.35  8.35\n",
            "  8.36  8.36  8.36  8.36  8.36  8.36  8.36  8.36  8.36  8.36  8.37  8.37\n",
            "  8.37  8.37  8.37  8.37  8.37  8.37  8.37  8.37  8.38  8.38  8.38  8.38\n",
            "  8.38  8.38  8.38  8.38  8.38  8.38  8.39  8.39  8.39  8.39  8.39  8.39\n",
            "  8.39  8.39  8.39  8.39  8.4   8.4   8.4   8.4   8.4   8.4   8.4   8.4\n",
            "  8.4   8.4   8.41  8.41  8.41  8.41  8.41  8.41  8.41  8.41  8.41  8.41\n",
            "  8.42  8.42  8.42  8.42  8.42  8.42  8.42  8.42  8.42  8.42  8.43  8.43\n",
            "  8.43  8.43  8.43  8.43  8.43  8.43  8.43  8.43  8.44  8.44  8.44  8.44\n",
            "  8.44  8.44  8.44  8.44  8.44  8.44  8.45  8.45  8.45  8.45  8.45  8.45\n",
            "  8.45  8.45  8.45  8.45  8.46  8.46  8.46  8.46  8.46  8.46  8.46  8.46\n",
            "  8.46  8.46  8.47  8.47  8.47  8.47  8.47  8.47  8.47  8.47  8.47  8.47\n",
            "  8.48  8.48  8.48  8.48  8.48  8.48  8.48  8.48  8.48  8.48  8.49  8.49\n",
            "  8.49  8.49  8.49  8.49  8.49  8.49  8.49  8.49  8.5   8.5   8.5   8.5\n",
            "  8.5   8.5   8.5   8.5   8.5   8.5   8.51  8.51  8.51  8.51  8.51  8.51\n",
            "  8.51  8.51  8.51  8.51  8.52  8.52  8.52  8.52  8.52  8.52  8.52  8.52\n",
            "  8.52  8.52  8.53  8.53  8.53  8.53  8.53  8.53  8.53  8.53  8.53  8.53\n",
            "  8.54  8.54  8.54  8.54  8.54  8.54  8.54  8.54  8.54  8.54  8.55  8.55\n",
            "  8.55  8.55  8.55  8.55  8.55  8.55  8.55  8.55  8.56  8.56  8.56  8.56\n",
            "  8.56  8.56  8.56  8.56  8.56  8.56  8.57  8.57  8.57  8.57  8.57  8.57\n",
            "  8.57  8.57  8.57  8.57  8.58  8.58  8.58  8.58  8.58  8.58  8.58  8.58\n",
            "  8.58  8.58  8.59  8.59  8.59  8.59  8.59  8.59  8.59  8.59  8.59  8.59\n",
            "  8.6   8.6   8.6   8.6   8.6   8.6   8.6   8.6   8.6   8.6   8.61  8.61\n",
            "  8.61  8.61  8.61  8.61  8.61  8.61  8.61  8.61  8.62  8.62  8.62  8.62\n",
            "  8.62  8.62  8.62  8.62  8.62  8.62  8.63  8.63  8.63  8.63  8.63  8.63\n",
            "  8.63  8.63  8.63  8.63  8.64  8.64  8.64  8.64  8.64  8.64  8.64  8.64\n",
            "  8.64  8.64  8.65  8.65  8.65  8.65  8.65  8.65  8.65  8.65  8.65  8.65\n",
            "  8.66  8.66  8.66  8.66  8.66  8.66  8.66  8.66  8.66  8.66  8.67  8.67\n",
            "  8.67  8.67  8.67  8.67  8.67  8.67  8.67  8.67  8.68  8.68  8.68  8.68\n",
            "  8.68  8.68  8.68  8.68  8.68  8.68  8.69  8.69  8.69  8.69  8.69  8.69\n",
            "  8.69  8.69  8.69  8.69  8.7   8.7   8.7   8.7   8.7   8.7   8.7   8.7\n",
            "  8.7   8.7   8.71  8.71  8.71  8.71  8.71  8.71  8.71  8.71  8.71  8.71\n",
            "  8.72  8.72  8.72  8.72  8.72  8.72  8.72  8.72  8.72  8.72  8.73  8.73\n",
            "  8.73  8.73  8.73  8.73  8.73  8.73  8.73  8.73  8.74  8.74  8.74  8.74\n",
            "  8.74  8.74  8.74  8.74  8.74  8.74  8.75  8.75  8.75  8.75  8.75  8.75\n",
            "  8.75  8.75  8.75  8.75  8.76  8.76  8.76  8.76  8.76  8.76  8.76  8.76\n",
            "  8.76  8.76  8.77  8.77  8.77  8.77  8.77  8.77  8.77  8.77  8.77  8.77\n",
            "  8.78  8.78  8.78  8.78  8.78  8.78  8.78  8.78  8.78  8.78  8.79  8.79\n",
            "  8.79  8.79  8.79  8.79  8.79  8.79  8.79  8.79  8.8   8.8   8.8   8.8\n",
            "  8.8   8.8   8.8   8.8   8.8   8.8   8.81  8.81  8.81  8.81  8.81  8.81\n",
            "  8.81  8.81  8.81  8.81  8.82  8.82  8.82  8.82  8.82  8.82  8.82  8.82\n",
            "  8.82  8.82  8.83  8.83  8.83  8.83  8.83  8.83  8.83  8.83  8.83  8.83\n",
            "  8.84  8.84  8.84  8.84  8.84  8.84  8.84  8.84  8.84  8.84  8.85  8.85\n",
            "  8.85  8.85  8.85  8.85  8.85  8.85  8.85  8.85  8.86  8.86  8.86  8.86\n",
            "  8.86  8.86  8.86  8.86  8.86  8.86  8.87  8.87  8.87  8.87  8.87  8.87\n",
            "  8.87  8.87  8.87  8.87  8.88  8.88  8.88  8.88  8.88  8.88  8.88  8.88\n",
            "  8.88  8.88  8.89  8.89  8.89  8.89  8.89  8.89  8.89  8.89  8.89  8.89\n",
            "  8.9   8.9   8.9   8.9   8.9   8.9   8.9   8.9   8.9   8.9   8.91  8.91\n",
            "  8.91  8.91  8.91  8.91  8.91  8.91  8.91  8.91  8.92  8.92  8.92  8.92\n",
            "  8.92  8.92  8.92  8.92  8.92  8.92  8.93  8.93  8.93  8.93  8.93  8.93\n",
            "  8.93  8.93  8.93  8.93  8.94  8.94  8.94  8.94  8.94  8.94  8.94  8.94\n",
            "  8.94  8.94  8.95  8.95  8.95  8.95  8.95  8.95  8.95  8.95  8.95  8.95\n",
            "  8.96  8.96  8.96  8.96  8.96  8.96  8.96  8.96  8.96  8.96  8.97  8.97\n",
            "  8.97  8.97  8.97  8.97  8.97  8.97  8.97  8.97  8.98  8.98  8.98  8.98\n",
            "  8.98  8.98  8.98  8.98  8.98  8.98  8.99  8.99  8.99  8.99  8.99  8.99\n",
            "  8.99  8.99  8.99  8.99  9.    9.    9.    9.    9.    9.    9.    9.\n",
            "  9.    9.    9.01  9.01  9.01  9.01  9.01  9.01  9.01  9.01  9.01  9.01\n",
            "  9.02  9.02  9.02  9.02  9.02  9.02  9.02  9.02  9.02  9.02  9.03  9.03\n",
            "  9.03  9.03  9.03  9.03  9.03  9.03  9.03  9.03  9.04  9.04  9.04  9.04\n",
            "  9.04  9.04  9.04  9.04  9.04  9.04  9.05  9.05  9.05  9.05  9.05  9.05\n",
            "  9.05  9.05  9.05  9.05  9.06  9.06  9.06  9.06  9.06  9.06  9.06  9.06\n",
            "  9.06  9.06  9.07  9.07  9.07  9.07  9.07  9.07  9.07  9.07  9.07  9.07\n",
            "  9.08  9.08  9.08  9.08  9.08  9.08  9.08  9.08  9.08  9.08  9.09  9.09\n",
            "  9.09  9.09  9.09  9.09  9.09  9.09  9.09  9.09  9.1   9.1   9.1   9.1\n",
            "  9.1   9.1   9.1   9.1   9.1   9.1   9.11  9.11  9.11  9.11  9.11  9.11\n",
            "  9.11  9.11  9.11  9.11  9.12  9.12  9.12  9.12  9.12  9.12  9.12  9.12\n",
            "  9.12  9.12  9.13  9.13  9.13  9.13  9.13  9.13  9.13  9.13  9.13  9.13\n",
            "  9.14  9.14  9.14  9.14  9.14  9.14  9.14  9.14  9.14  9.14  9.15  9.15\n",
            "  9.15  9.15  9.15  9.15  9.15  9.15  9.15  9.15  9.16  9.16  9.16  9.16\n",
            "  9.16  9.16  9.16  9.16  9.16  9.16  9.17  9.17  9.17  9.17  9.17  9.17\n",
            "  9.17  9.17  9.17  9.17  9.18  9.18  9.18  9.18  9.18  9.18  9.18  9.18\n",
            "  9.18  9.18  9.19  9.19  9.19  9.19  9.19  9.19  9.19  9.19  9.19  9.19\n",
            "  9.2   9.2   9.2   9.2   9.2   9.2   9.2   9.2   9.2   9.2   9.21  9.21\n",
            "  9.21  9.21  9.21  9.21  9.21  9.21  9.21  9.21  9.22  9.22  9.22  9.22\n",
            "  9.22  9.22  9.22  9.22  9.22  9.22  9.23  9.23  9.23  9.23  9.23  9.23\n",
            "  9.23  9.23  9.23  9.23  9.24  9.24  9.24  9.24  9.24  9.24  9.24  9.24\n",
            "  9.24  9.24  9.25  9.25  9.25  9.25  9.25  9.25  9.25  9.25  9.25  9.25\n",
            "  9.26  9.26  9.26  9.26  9.26  9.26  9.26  9.26  9.26  9.26  9.27  9.27\n",
            "  9.27  9.27  9.27  9.27  9.27  9.27  9.27  9.27  9.28  9.28  9.28  9.28\n",
            "  9.28  9.28  9.28  9.28  9.28  9.28  9.29  9.29  9.29  9.29  9.29  9.29\n",
            "  9.29  9.29  9.29  9.29  9.3   9.3   9.3   9.3   9.3   9.3   9.3   9.3\n",
            "  9.3   9.3   9.31  9.31  9.31  9.31  9.31  9.31  9.31  9.31  9.31  9.31\n",
            "  9.32  9.32  9.32  9.32  9.32  9.32  9.32  9.32  9.32  9.32  9.33  9.33\n",
            "  9.33  9.33  9.33  9.33  9.33  9.33  9.33  9.33  9.34  9.34  9.34  9.34\n",
            "  9.34  9.34  9.34  9.34  9.34  9.34  9.35  9.35  9.35  9.35  9.35  9.35\n",
            "  9.35  9.35  9.35  9.35  9.36  9.36  9.36  9.36  9.36  9.36  9.36  9.36\n",
            "  9.36  9.36  9.37  9.37  9.37  9.37  9.37  9.37  9.37  9.37  9.37  9.37\n",
            "  9.38  9.38  9.38  9.38  9.38  9.38  9.38  9.38  9.38  9.38  9.39  9.39\n",
            "  9.39  9.39  9.39  9.39  9.39  9.39  9.39  9.39  9.4   9.4   9.4   9.4\n",
            "  9.4   9.4   9.4   9.4   9.4   9.4   9.41  9.41  9.41  9.41  9.41  9.41\n",
            "  9.41  9.41  9.41  9.41  9.42  9.42  9.42  9.42  9.42  9.42  9.42  9.42\n",
            "  9.42  9.42  9.43  9.43  9.43  9.43  9.43  9.43  9.43  9.43  9.43  9.43\n",
            "  9.44  9.44  9.44  9.44  9.44  9.44  9.44  9.44  9.44  9.44  9.45  9.45\n",
            "  9.45  9.45  9.45  9.45  9.45  9.45  9.45  9.45  9.46  9.46  9.46  9.46\n",
            "  9.46  9.46  9.46  9.46  9.46  9.46  9.47  9.47  9.47  9.47  9.47  9.47\n",
            "  9.47  9.47  9.47  9.47  9.48  9.48  9.48  9.48  9.48  9.48  9.48  9.48\n",
            "  9.48  9.48  9.49  9.49  9.49  9.49  9.49  9.49  9.49  9.49  9.49  9.49\n",
            "  9.5   9.5   9.5   9.5   9.5   9.5   9.5   9.5   9.5   9.5   9.51  9.51\n",
            "  9.51  9.51  9.51  9.51  9.51  9.51  9.51  9.51  9.52  9.52  9.52  9.52\n",
            "  9.52  9.52  9.52  9.52  9.52  9.52  9.53  9.53  9.53  9.53  9.53  9.53\n",
            "  9.53  9.53  9.53  9.53  9.54  9.54  9.54  9.54  9.54  9.54  9.54  9.54\n",
            "  9.54  9.54  9.55  9.55  9.55  9.55  9.55  9.55  9.55  9.55  9.55  9.55\n",
            "  9.56  9.56  9.56  9.56  9.56  9.56  9.56  9.56  9.56  9.56  9.57  9.57\n",
            "  9.57  9.57  9.57  9.57  9.57  9.57  9.57  9.57  9.58  9.58  9.58  9.58\n",
            "  9.58  9.58  9.58  9.58  9.58  9.58  9.59  9.59  9.59  9.59  9.59  9.59\n",
            "  9.59  9.59  9.59  9.59  9.6   9.6   9.6   9.6   9.6   9.6   9.6   9.6\n",
            "  9.6   9.6   9.61  9.61  9.61  9.61  9.61  9.61  9.61  9.61  9.61  9.61\n",
            "  9.62  9.62  9.62  9.62  9.62  9.62  9.62  9.62  9.62  9.62  9.63  9.63\n",
            "  9.63  9.63  9.63  9.63  9.63  9.63  9.63  9.63  9.64  9.64  9.64  9.64\n",
            "  9.64  9.64  9.64  9.64  9.64  9.64  9.65  9.65  9.65  9.65  9.65  9.65\n",
            "  9.65  9.65  9.65  9.65  9.66  9.66  9.66  9.66  9.66  9.66  9.66  9.66\n",
            "  9.66  9.66  9.67  9.67  9.67  9.67  9.67  9.67  9.67  9.67  9.67  9.67\n",
            "  9.68  9.68  9.68  9.68  9.68  9.68  9.68  9.68  9.68  9.68  9.69  9.69\n",
            "  9.69  9.69  9.69  9.69  9.69  9.69  9.69  9.69  9.7   9.7   9.7   9.7\n",
            "  9.7   9.7   9.7   9.7   9.7   9.7   9.71  9.71  9.71  9.71  9.71  9.71\n",
            "  9.71  9.71  9.71  9.71  9.72  9.72  9.72  9.72  9.72  9.72  9.72  9.72\n",
            "  9.72  9.72  9.73  9.73  9.73  9.73  9.73  9.73  9.73  9.73  9.73  9.73\n",
            "  9.74  9.74  9.74  9.74  9.74  9.74  9.74  9.74  9.74  9.74  9.75  9.75\n",
            "  9.75  9.75  9.75  9.75  9.75  9.75  9.75  9.75  9.76  9.76  9.76  9.76\n",
            "  9.76  9.76  9.76  9.76  9.76  9.76  9.77  9.77  9.77  9.77  9.77  9.77\n",
            "  9.77  9.77  9.77  9.77  9.78  9.78  9.78  9.78  9.78  9.78  9.78  9.78\n",
            "  9.78  9.78  9.79  9.79  9.79  9.79  9.79  9.79  9.79  9.79  9.79  9.79\n",
            "  9.8   9.8   9.8   9.8   9.8   9.8   9.8   9.8   9.8   9.8   9.81  9.81\n",
            "  9.81  9.81  9.81  9.81  9.81  9.81  9.81  9.81  9.82  9.82  9.82  9.82\n",
            "  9.82  9.82  9.82  9.82  9.82  9.82  9.83  9.83  9.83  9.83  9.83  9.83\n",
            "  9.83  9.83  9.83  9.83  9.84  9.84  9.84  9.84  9.84  9.84  9.84  9.84\n",
            "  9.84  9.84  9.85  9.85  9.85  9.85  9.85  9.85  9.85  9.85  9.85  9.85\n",
            "  9.86  9.86  9.86  9.86  9.86  9.86  9.86  9.86  9.86  9.86  9.87  9.87\n",
            "  9.87  9.87  9.87  9.87  9.87  9.87  9.87  9.87  9.88  9.88  9.88  9.88\n",
            "  9.88  9.88  9.88  9.88  9.88  9.88  9.89  9.89  9.89  9.89  9.89  9.89\n",
            "  9.89  9.89  9.89  9.89  9.9   9.9   9.9   9.9   9.9   9.9   9.9   9.9\n",
            "  9.9   9.9   9.91  9.91  9.91  9.91  9.91  9.91  9.91  9.91  9.91  9.91\n",
            "  9.92  9.92  9.92  9.92  9.92  9.92  9.92  9.92  9.92  9.92  9.93  9.93\n",
            "  9.93  9.93  9.93  9.93  9.93  9.93  9.93  9.93  9.94  9.94  9.94  9.94\n",
            "  9.94  9.94  9.94  9.94  9.94  9.94  9.95  9.95  9.95  9.95  9.95  9.95\n",
            "  9.95  9.95  9.95  9.95  9.96  9.96  9.96  9.96  9.96  9.96  9.96  9.96\n",
            "  9.96  9.96  9.97  9.97  9.97  9.97  9.97  9.97  9.97  9.97  9.97  9.97\n",
            "  9.98  9.98  9.98  9.98  9.98  9.98  9.98  9.98  9.98  9.98  9.99  9.99\n",
            "  9.99  9.99  9.99  9.99  9.99  9.99  9.99  9.99 10.   10.   10.   10.  ]\n"
          ]
        }
      ]
    },
    {
      "cell_type": "code",
      "metadata": {
        "ExecuteTime": {
          "end_time": "2020-10-11T07:27:40.578268Z",
          "start_time": "2020-10-11T07:27:40.575268Z"
        },
        "id": "XU9yt3yvx4kz",
        "colab": {
          "base_uri": "https://localhost:8080/"
        },
        "outputId": "b5b924e6-4489-4b7d-f75c-4ca05c215db7"
      },
      "source": [
        "np.set_printoptions(threshold=1000, precision=8) # вернем параметры по умолчанию\n",
        "print(a)"
      ],
      "execution_count": null,
      "outputs": [
        {
          "output_type": "stream",
          "name": "stdout",
          "text": [
            "[1.    1.001 1.002 ... 9.997 9.998 9.999]\n"
          ]
        }
      ]
    },
    {
      "cell_type": "markdown",
      "metadata": {
        "id": "YAW6vaHIx4kz"
      },
      "source": [
        "## Базовые операции"
      ]
    },
    {
      "cell_type": "markdown",
      "metadata": {
        "id": "fTLhy7pNx4kz"
      },
      "source": [
        "Основные математические операции над массивами выполняются поэлементно. Создается новый массив, который заполняется результатами."
      ]
    },
    {
      "cell_type": "markdown",
      "metadata": {
        "id": "ZFUiPf7ox4k0"
      },
      "source": [
        "Для выполнения этих операций массивы должны быть одинаковой формы. Если будут разной -  получим ошибку."
      ]
    },
    {
      "cell_type": "code",
      "metadata": {
        "ExecuteTime": {
          "end_time": "2020-10-11T07:27:40.747278Z",
          "start_time": "2020-10-11T07:27:40.743277Z"
        },
        "id": "uu_VWK3Ix4k0",
        "colab": {
          "base_uri": "https://localhost:8080/"
        },
        "outputId": "ef42aed1-32fe-4822-f688-3973d944b723"
      },
      "source": [
        "a = np.array([20, 30, 40, 50]) # создадим один массив\n",
        "a"
      ],
      "execution_count": null,
      "outputs": [
        {
          "output_type": "execute_result",
          "data": {
            "text/plain": [
              "array([20, 30, 40, 50])"
            ]
          },
          "metadata": {},
          "execution_count": 55
        }
      ]
    },
    {
      "cell_type": "code",
      "metadata": {
        "ExecuteTime": {
          "end_time": "2020-10-11T07:27:40.797280Z",
          "start_time": "2020-10-11T07:27:40.793280Z"
        },
        "id": "wsB9w82qx4k0",
        "colab": {
          "base_uri": "https://localhost:8080/"
        },
        "outputId": "c9ae9abf-e43f-4cdd-a605-a8837d80b459"
      },
      "source": [
        "b = np.arange(4) # создадим другой массив\n",
        "b"
      ],
      "execution_count": null,
      "outputs": [
        {
          "output_type": "execute_result",
          "data": {
            "text/plain": [
              "array([0, 1, 2, 3])"
            ]
          },
          "metadata": {},
          "execution_count": 56
        }
      ]
    },
    {
      "cell_type": "code",
      "metadata": {
        "ExecuteTime": {
          "end_time": "2020-10-11T07:27:40.848283Z",
          "start_time": "2020-10-11T07:27:40.844283Z"
        },
        "id": "E6wcGek0x4k0",
        "colab": {
          "base_uri": "https://localhost:8080/"
        },
        "outputId": "75f2c00a-6874-4cf9-b5ef-1849200e6e5c"
      },
      "source": [
        "с=a+b # сложим их\n",
        "с"
      ],
      "execution_count": null,
      "outputs": [
        {
          "output_type": "execute_result",
          "data": {
            "text/plain": [
              "array([20, 31, 42, 53])"
            ]
          },
          "metadata": {},
          "execution_count": 57
        }
      ]
    },
    {
      "cell_type": "code",
      "source": [
        "d=np.array([2,5])"
      ],
      "metadata": {
        "id": "cEGTkeWzdDwi"
      },
      "execution_count": null,
      "outputs": []
    },
    {
      "cell_type": "code",
      "source": [
        "a+d # размер не подходит для расширения"
      ],
      "metadata": {
        "id": "cWcHXt-ddMYA",
        "colab": {
          "base_uri": "https://localhost:8080/",
          "height": 145
        },
        "outputId": "b6804e39-70ea-43c0-ab7b-dbb8ebe0387b"
      },
      "execution_count": null,
      "outputs": [
        {
          "output_type": "error",
          "ename": "ValueError",
          "evalue": "operands could not be broadcast together with shapes (4,) (2,) ",
          "traceback": [
            "\u001b[0;31m---------------------------------------------------------------------------\u001b[0m",
            "\u001b[0;31mValueError\u001b[0m                                Traceback (most recent call last)",
            "\u001b[0;32m<ipython-input-59-0368ff28784a>\u001b[0m in \u001b[0;36m<cell line: 1>\u001b[0;34m()\u001b[0m\n\u001b[0;32m----> 1\u001b[0;31m \u001b[0ma\u001b[0m\u001b[0;34m+\u001b[0m\u001b[0md\u001b[0m \u001b[0;31m# размер не подходит для расширения\u001b[0m\u001b[0;34m\u001b[0m\u001b[0;34m\u001b[0m\u001b[0m\n\u001b[0m",
            "\u001b[0;31mValueError\u001b[0m: operands could not be broadcast together with shapes (4,) (2,) "
          ]
        }
      ]
    },
    {
      "cell_type": "code",
      "metadata": {
        "ExecuteTime": {
          "end_time": "2020-10-11T07:27:40.899286Z",
          "start_time": "2020-10-11T07:27:40.895286Z"
        },
        "id": "Xodm7hjkx4k1",
        "colab": {
          "base_uri": "https://localhost:8080/"
        },
        "outputId": "c82ad127-2b9a-4554-d7ef-5f34a4f5df55"
      },
      "source": [
        "с=a - b # вычтем\n",
        "с"
      ],
      "execution_count": null,
      "outputs": [
        {
          "output_type": "execute_result",
          "data": {
            "text/plain": [
              "array([20, 29, 38, 47])"
            ]
          },
          "metadata": {},
          "execution_count": 60
        }
      ]
    },
    {
      "cell_type": "code",
      "metadata": {
        "ExecuteTime": {
          "end_time": "2020-10-11T07:27:40.949289Z",
          "start_time": "2020-10-11T07:27:40.946289Z"
        },
        "id": "IylsLPIHx4k1",
        "colab": {
          "base_uri": "https://localhost:8080/"
        },
        "outputId": "a026e862-56fc-4449-825c-9106b57c1790"
      },
      "source": [
        "с=a*b # умножим поэлементно\n",
        "с"
      ],
      "execution_count": null,
      "outputs": [
        {
          "output_type": "execute_result",
          "data": {
            "text/plain": [
              "array([  0,  30,  80, 150])"
            ]
          },
          "metadata": {},
          "execution_count": 61
        }
      ]
    },
    {
      "cell_type": "code",
      "metadata": {
        "ExecuteTime": {
          "end_time": "2020-10-11T07:27:41.003292Z",
          "start_time": "2020-10-11T07:27:40.995292Z"
        },
        "id": "1XjR_rAXx4k2",
        "colab": {
          "base_uri": "https://localhost:8080/"
        },
        "outputId": "a4bfa0d1-fa31-4b83-83c2-7cc3fc512df0"
      },
      "source": [
        "с=a/b # поделим поэлементно\n",
        "с"
      ],
      "execution_count": null,
      "outputs": [
        {
          "output_type": "stream",
          "name": "stderr",
          "text": [
            "<ipython-input-62-e43254edbba7>:1: RuntimeWarning: divide by zero encountered in divide\n",
            "  с=a/b # поделим поэлементно\n"
          ]
        },
        {
          "output_type": "execute_result",
          "data": {
            "text/plain": [
              "array([        inf, 30.        , 20.        , 16.66666667])"
            ]
          },
          "metadata": {},
          "execution_count": 62
        }
      ]
    },
    {
      "cell_type": "markdown",
      "metadata": {
        "id": "alundxmmx4k2"
      },
      "source": [
        "Ой-ой, что это, мы поделили на 0! Но NumPy справился с этим и вернул нам для такого случая специальное число - бесконечность `inf`. Бесконечности тоже числа, хоть и ненастоящие. Их можно складывать, вычитать,  умножать ...\n",
        "\n",
        "Попробуйте сами и определите, что получается."
      ]
    },
    {
      "cell_type": "code",
      "metadata": {
        "ExecuteTime": {
          "end_time": "2020-10-11T07:27:41.092297Z",
          "start_time": "2020-10-11T07:27:41.089297Z"
        },
        "id": "-NsCmkqHx4k2",
        "colab": {
          "base_uri": "https://localhost:8080/"
        },
        "outputId": "125977a0-371d-41f2-c1c8-e8e0383d48c5"
      },
      "source": [
        "np.inf + np.inf"
      ],
      "execution_count": null,
      "outputs": [
        {
          "output_type": "execute_result",
          "data": {
            "text/plain": [
              "inf"
            ]
          },
          "metadata": {},
          "execution_count": 63
        }
      ]
    },
    {
      "cell_type": "code",
      "source": [
        "-1*np.inf"
      ],
      "metadata": {
        "id": "PZthI-Fp_098",
        "colab": {
          "base_uri": "https://localhost:8080/"
        },
        "outputId": "b72637f8-35d6-40c9-9fec-724d09cdf50d"
      },
      "execution_count": null,
      "outputs": [
        {
          "output_type": "execute_result",
          "data": {
            "text/plain": [
              "-inf"
            ]
          },
          "metadata": {},
          "execution_count": 64
        }
      ]
    },
    {
      "cell_type": "code",
      "metadata": {
        "ExecuteTime": {
          "end_time": "2020-10-11T07:27:41.142300Z",
          "start_time": "2020-10-11T07:27:41.139300Z"
        },
        "id": "wn3BiYx3x4k2",
        "colab": {
          "base_uri": "https://localhost:8080/"
        },
        "outputId": "adc61a61-b0bd-4e09-ead8-db0a29e0530f"
      },
      "source": [
        "np.inf * np.inf"
      ],
      "execution_count": null,
      "outputs": [
        {
          "output_type": "execute_result",
          "data": {
            "text/plain": [
              "inf"
            ]
          },
          "metadata": {},
          "execution_count": 65
        }
      ]
    },
    {
      "cell_type": "code",
      "metadata": {
        "ExecuteTime": {
          "end_time": "2020-10-11T07:27:41.191303Z",
          "start_time": "2020-10-11T07:27:41.187303Z"
        },
        "id": "bdDkZBpTx4k3",
        "colab": {
          "base_uri": "https://localhost:8080/"
        },
        "outputId": "5e97bd21-923d-4faa-fdbb-28fabe68b13b"
      },
      "source": [
        "np.inf - np.inf"
      ],
      "execution_count": null,
      "outputs": [
        {
          "output_type": "execute_result",
          "data": {
            "text/plain": [
              "nan"
            ]
          },
          "metadata": {},
          "execution_count": 66
        }
      ]
    },
    {
      "cell_type": "markdown",
      "metadata": {
        "id": "53zd0Nqux4k3"
      },
      "source": [
        "При попытке вычесть одну бесконечность `inf` из другой мы тоже что-то получили.\n",
        "А вы знаете сколько будет бесконечность минус бесконечность? А NumPy знает: будет `nan` - не число (not a number).\n",
        "\n",
        "`nan` тоже ненастоящее число, и с ним можно делать математические операции.\n",
        "\n",
        "Попробуйте сами и определите, что получается.\n",
        "\n",
        "Все эти ненастоящие числа нужны чтобы облегчить программирование, но на самом деле они смысла не имеют, и если у вас такое число получилось - что-то не так. Поэтому иногда надо проверять результат, чтобы там не было бесконечностей или \"нечисел\".   "
      ]
    },
    {
      "cell_type": "code",
      "source": [
        "np.nan*(-1)"
      ],
      "metadata": {
        "id": "vDqDAG_eJE0H",
        "colab": {
          "base_uri": "https://localhost:8080/"
        },
        "outputId": "bd159f68-c978-425d-e7e4-c2ef1c407578"
      },
      "execution_count": null,
      "outputs": [
        {
          "output_type": "execute_result",
          "data": {
            "text/plain": [
              "nan"
            ]
          },
          "metadata": {},
          "execution_count": 67
        }
      ]
    },
    {
      "cell_type": "code",
      "metadata": {
        "ExecuteTime": {
          "end_time": "2020-10-11T07:27:41.286308Z",
          "start_time": "2020-10-11T07:27:41.282308Z"
        },
        "id": "L6oeyD88x4k3",
        "colab": {
          "base_uri": "https://localhost:8080/"
        },
        "outputId": "f341410f-f045-43d6-c445-6ddf7e6494ff"
      },
      "source": [
        "np.nan+np.nan"
      ],
      "execution_count": null,
      "outputs": [
        {
          "output_type": "execute_result",
          "data": {
            "text/plain": [
              "nan"
            ]
          },
          "metadata": {},
          "execution_count": 68
        }
      ]
    },
    {
      "cell_type": "code",
      "source": [
        "np.nan+5"
      ],
      "metadata": {
        "id": "yntlBkF3P6JG",
        "colab": {
          "base_uri": "https://localhost:8080/"
        },
        "outputId": "bbaf7e29-606e-4823-d6bc-13cbb3892344"
      },
      "execution_count": null,
      "outputs": [
        {
          "output_type": "execute_result",
          "data": {
            "text/plain": [
              "nan"
            ]
          },
          "metadata": {},
          "execution_count": 69
        }
      ]
    },
    {
      "cell_type": "code",
      "metadata": {
        "ExecuteTime": {
          "end_time": "2020-10-11T07:27:41.337311Z",
          "start_time": "2020-10-11T07:27:41.333311Z"
        },
        "id": "M8ZkfAeax4k3",
        "colab": {
          "base_uri": "https://localhost:8080/"
        },
        "outputId": "32c4c5ea-4535-47e5-ffd2-290486c122e4"
      },
      "source": [
        "a ** b # возведение в степень, первый аргумент - основание, второй - степень."
      ],
      "execution_count": null,
      "outputs": [
        {
          "output_type": "execute_result",
          "data": {
            "text/plain": [
              "array([     1,     30,   1600, 125000])"
            ]
          },
          "metadata": {},
          "execution_count": 70
        }
      ]
    },
    {
      "cell_type": "code",
      "metadata": {
        "ExecuteTime": {
          "end_time": "2020-10-11T07:27:41.390314Z",
          "start_time": "2020-10-11T07:27:41.386314Z"
        },
        "id": "FtKYI2czx4k3",
        "colab": {
          "base_uri": "https://localhost:8080/"
        },
        "outputId": "e8fb88af-a89a-48f4-a3fd-fb55d90f8605"
      },
      "source": [
        "a % b  # Взятие остатка от деления (при взятии остатка от деления на 0 возвращается 0)"
      ],
      "execution_count": null,
      "outputs": [
        {
          "output_type": "stream",
          "name": "stderr",
          "text": [
            "<ipython-input-71-90e17d18130c>:1: RuntimeWarning: divide by zero encountered in remainder\n",
            "  a % b  # Взятие остатка от деления (при взятии остатка от деления на 0 возвращается 0)\n"
          ]
        },
        {
          "output_type": "execute_result",
          "data": {
            "text/plain": [
              "array([0, 0, 0, 2])"
            ]
          },
          "metadata": {},
          "execution_count": 71
        }
      ]
    },
    {
      "cell_type": "markdown",
      "metadata": {
        "id": "8J-OjPhdx4k4"
      },
      "source": [
        "Как мы уже отметили, формы массивов должны быть одинаковые (попробуйте что будет если нет).\n",
        "(*Там выше было*)\n",
        "Но есть исключение - когда один из аргументов - скаляр. Тогда он автоматически будет применяться к каждому элементу массива."
      ]
    },
    {
      "cell_type": "code",
      "metadata": {
        "ExecuteTime": {
          "end_time": "2020-10-11T07:27:41.487320Z",
          "start_time": "2020-10-11T07:27:41.483320Z"
        },
        "id": "XP4XIj8mx4k4",
        "colab": {
          "base_uri": "https://localhost:8080/"
        },
        "outputId": "9d89b795-aca8-47cd-af76-fbbfbe78527f"
      },
      "source": [
        "a + 1"
      ],
      "execution_count": null,
      "outputs": [
        {
          "output_type": "execute_result",
          "data": {
            "text/plain": [
              "array([21, 31, 41, 51])"
            ]
          },
          "metadata": {},
          "execution_count": 46
        }
      ]
    },
    {
      "cell_type": "code",
      "metadata": {
        "ExecuteTime": {
          "end_time": "2020-10-11T07:27:41.539323Z",
          "start_time": "2020-10-11T07:27:41.535323Z"
        },
        "id": "21FCXQxgx4k4",
        "colab": {
          "base_uri": "https://localhost:8080/"
        },
        "outputId": "eacd9083-c903-4d10-dcb3-71bcdb4bbf71"
      },
      "source": [
        "1 + b"
      ],
      "execution_count": null,
      "outputs": [
        {
          "output_type": "execute_result",
          "data": {
            "text/plain": [
              "array([1, 2, 3, 4])"
            ]
          },
          "metadata": {},
          "execution_count": 47
        }
      ]
    },
    {
      "cell_type": "code",
      "metadata": {
        "ExecuteTime": {
          "end_time": "2020-10-11T07:27:41.590326Z",
          "start_time": "2020-10-11T07:27:41.586326Z"
        },
        "id": "maMJ_dKDx4k5",
        "colab": {
          "base_uri": "https://localhost:8080/"
        },
        "outputId": "83f335ac-0994-4668-d35b-cf8980e8327e"
      },
      "source": [
        "a ** 3"
      ],
      "execution_count": null,
      "outputs": [
        {
          "output_type": "execute_result",
          "data": {
            "text/plain": [
              "array([  8000,  27000,  64000, 125000])"
            ]
          },
          "metadata": {},
          "execution_count": 48
        }
      ]
    },
    {
      "cell_type": "code",
      "metadata": {
        "ExecuteTime": {
          "end_time": "2020-10-11T07:27:41.647329Z",
          "start_time": "2020-10-11T07:27:41.643329Z"
        },
        "id": "q5Qan1P5x4k5",
        "colab": {
          "base_uri": "https://localhost:8080/"
        },
        "outputId": "4ea08603-ebcd-4194-830a-c6d3ef073b18"
      },
      "source": [
        "2 ** b"
      ],
      "execution_count": null,
      "outputs": [
        {
          "output_type": "execute_result",
          "data": {
            "text/plain": [
              "array([1, 2, 4, 8])"
            ]
          },
          "metadata": {},
          "execution_count": 50
        }
      ]
    },
    {
      "cell_type": "code",
      "source": [
        "a=np.ones((3,1))\n",
        "print(a)"
      ],
      "metadata": {
        "id": "KTJqLUH-N31G",
        "colab": {
          "base_uri": "https://localhost:8080/"
        },
        "outputId": "2c649cd4-9d27-4c73-f6cd-8d8c823ea080"
      },
      "execution_count": 9,
      "outputs": [
        {
          "output_type": "stream",
          "name": "stdout",
          "text": [
            "[[1.]\n",
            " [1.]\n",
            " [1.]]\n"
          ]
        }
      ]
    },
    {
      "cell_type": "code",
      "source": [
        "b=2*np.transpose(a)\n",
        "print(b)"
      ],
      "metadata": {
        "id": "mrL8Yj4XOAeB",
        "colab": {
          "base_uri": "https://localhost:8080/"
        },
        "outputId": "39298244-6bcd-46e9-86a6-6c41045a84db"
      },
      "execution_count": 11,
      "outputs": [
        {
          "output_type": "stream",
          "name": "stdout",
          "text": [
            "[[2. 2. 2.]]\n"
          ]
        }
      ]
    },
    {
      "cell_type": "code",
      "source": [
        "print(a.shape, b.shape)"
      ],
      "metadata": {
        "id": "Bc7y4XgZOJZW",
        "colab": {
          "base_uri": "https://localhost:8080/"
        },
        "outputId": "26e23c7c-3587-45e9-aee8-01a8db52426c"
      },
      "execution_count": 12,
      "outputs": [
        {
          "output_type": "stream",
          "name": "stdout",
          "text": [
            "(3, 1) (1, 3)\n"
          ]
        }
      ]
    },
    {
      "cell_type": "code",
      "source": [
        "a*b # ?????"
      ],
      "metadata": {
        "id": "HTIgcXNVOOwm",
        "colab": {
          "base_uri": "https://localhost:8080/"
        },
        "outputId": "8eb5b949-74ca-48d0-92e8-7b41a48794fa"
      },
      "execution_count": 13,
      "outputs": [
        {
          "output_type": "execute_result",
          "data": {
            "text/plain": [
              "array([[2., 2., 2.],\n",
              "       [2., 2., 2.],\n",
              "       [2., 2., 2.]])"
            ]
          },
          "metadata": {},
          "execution_count": 13
        }
      ]
    },
    {
      "cell_type": "code",
      "source": [
        "a=3*np.ones((4,4))\n",
        "b=-1*np.ones((4,1))\n",
        "c=a+b\n",
        "c"
      ],
      "metadata": {
        "colab": {
          "base_uri": "https://localhost:8080/"
        },
        "id": "-fzY-h-nU57j",
        "outputId": "b514c006-40bf-4070-92bc-28543877e601"
      },
      "execution_count": null,
      "outputs": [
        {
          "output_type": "execute_result",
          "data": {
            "text/plain": [
              "array([[2., 2., 2., 2.],\n",
              "       [2., 2., 2., 2.],\n",
              "       [2., 2., 2., 2.],\n",
              "       [2., 2., 2., 2.]])"
            ]
          },
          "metadata": {},
          "execution_count": 76
        }
      ]
    },
    {
      "cell_type": "markdown",
      "metadata": {
        "id": "QMfeT9c_x4k5"
      },
      "source": [
        "## Тригонометрия, округления\n",
        "В `numpy` как и в `math` реализованы многочисленные тригонометрические операции.\n",
        "\n",
        "Они работают с массивами поэлементно.\n",
        "\n",
        "Округлений гораздо больше, самых разных типов:\n",
        "`ceil()`, `floor()`, но и другие `round()` - округление до заданного числа знаков после запятой, `fix()` - округление до ближайшего целого со стороны нуля.\n",
        "\n",
        "Поупражняйтесь с разными способами округления, сравните.\n"
      ]
    },
    {
      "cell_type": "code",
      "metadata": {
        "ExecuteTime": {
          "end_time": "2020-10-11T07:27:41.749335Z",
          "start_time": "2020-10-11T07:27:41.745335Z"
        },
        "id": "gz1CRhbJx4k5",
        "colab": {
          "base_uri": "https://localhost:8080/"
        },
        "outputId": "20f4950e-4213-47d8-d200-4d55dbd7aaf1"
      },
      "source": [
        "np.cos(a) # косинус"
      ],
      "execution_count": null,
      "outputs": [
        {
          "output_type": "execute_result",
          "data": {
            "text/plain": [
              "array([[-0.9899925, -0.9899925, -0.9899925, -0.9899925],\n",
              "       [-0.9899925, -0.9899925, -0.9899925, -0.9899925],\n",
              "       [-0.9899925, -0.9899925, -0.9899925, -0.9899925],\n",
              "       [-0.9899925, -0.9899925, -0.9899925, -0.9899925]])"
            ]
          },
          "metadata": {},
          "execution_count": 77
        }
      ]
    },
    {
      "cell_type": "code",
      "metadata": {
        "ExecuteTime": {
          "end_time": "2020-10-11T07:27:41.800338Z",
          "start_time": "2020-10-11T07:27:41.797338Z"
        },
        "id": "PWNCsk2fx4k6",
        "colab": {
          "base_uri": "https://localhost:8080/"
        },
        "outputId": "d39ecf51-5cab-4435-fd1b-c4ad50646f0c"
      },
      "source": [
        "np.arctan(a) # арктангенс, название отличается от модуля math"
      ],
      "execution_count": null,
      "outputs": [
        {
          "output_type": "execute_result",
          "data": {
            "text/plain": [
              "array([[1.24904577, 1.24904577, 1.24904577, 1.24904577],\n",
              "       [1.24904577, 1.24904577, 1.24904577, 1.24904577],\n",
              "       [1.24904577, 1.24904577, 1.24904577, 1.24904577],\n",
              "       [1.24904577, 1.24904577, 1.24904577, 1.24904577]])"
            ]
          },
          "metadata": {},
          "execution_count": 78
        }
      ]
    },
    {
      "cell_type": "code",
      "metadata": {
        "ExecuteTime": {
          "end_time": "2020-10-11T07:27:41.852341Z",
          "start_time": "2020-10-11T07:27:41.848341Z"
        },
        "id": "RbKWX1zdx4k6",
        "colab": {
          "base_uri": "https://localhost:8080/"
        },
        "outputId": "95ba4419-fc5c-4ccf-d3be-2aa0d16134b0"
      },
      "source": [
        "np.tanh(a) # гипертангенс"
      ],
      "execution_count": null,
      "outputs": [
        {
          "output_type": "execute_result",
          "data": {
            "text/plain": [
              "array([[0.99505475, 0.99505475, 0.99505475, 0.99505475],\n",
              "       [0.99505475, 0.99505475, 0.99505475, 0.99505475],\n",
              "       [0.99505475, 0.99505475, 0.99505475, 0.99505475],\n",
              "       [0.99505475, 0.99505475, 0.99505475, 0.99505475]])"
            ]
          },
          "metadata": {},
          "execution_count": 79
        }
      ]
    },
    {
      "cell_type": "code",
      "metadata": {
        "ExecuteTime": {
          "end_time": "2020-10-11T07:27:41.903344Z",
          "start_time": "2020-10-11T07:27:41.899344Z"
        },
        "id": "hZZctLz6x4k6",
        "colab": {
          "base_uri": "https://localhost:8080/"
        },
        "outputId": "a391cfc5-9ae6-4f89-92a5-280ee32c5146"
      },
      "source": [
        "c=5*np.cos(a) #\n",
        "c"
      ],
      "execution_count": null,
      "outputs": [
        {
          "output_type": "execute_result",
          "data": {
            "text/plain": [
              "array([[-4.94996248, -4.94996248, -4.94996248, -4.94996248],\n",
              "       [-4.94996248, -4.94996248, -4.94996248, -4.94996248],\n",
              "       [-4.94996248, -4.94996248, -4.94996248, -4.94996248],\n",
              "       [-4.94996248, -4.94996248, -4.94996248, -4.94996248]])"
            ]
          },
          "metadata": {},
          "execution_count": 80
        }
      ]
    },
    {
      "cell_type": "code",
      "metadata": {
        "ExecuteTime": {
          "end_time": "2020-10-11T07:27:41.956347Z",
          "start_time": "2020-10-11T07:27:41.951346Z"
        },
        "id": "DxuPBXdDx4k7",
        "colab": {
          "base_uri": "https://localhost:8080/"
        },
        "outputId": "df4663da-332e-4c5f-ae3c-b4a05181e07a"
      },
      "source": [
        "np.round(c,2)"
      ],
      "execution_count": null,
      "outputs": [
        {
          "output_type": "execute_result",
          "data": {
            "text/plain": [
              "array([[-4.95, -4.95, -4.95, -4.95],\n",
              "       [-4.95, -4.95, -4.95, -4.95],\n",
              "       [-4.95, -4.95, -4.95, -4.95],\n",
              "       [-4.95, -4.95, -4.95, -4.95]])"
            ]
          },
          "metadata": {},
          "execution_count": 81
        }
      ]
    },
    {
      "cell_type": "code",
      "metadata": {
        "ExecuteTime": {
          "end_time": "2020-10-11T07:27:42.006350Z",
          "start_time": "2020-10-11T07:27:42.002349Z"
        },
        "id": "dLLubtRax4k8",
        "colab": {
          "base_uri": "https://localhost:8080/"
        },
        "outputId": "00753546-c0c4-4fcd-aeea-0f4bfb70abba"
      },
      "source": [
        "np.ceil(c)"
      ],
      "execution_count": null,
      "outputs": [
        {
          "output_type": "execute_result",
          "data": {
            "text/plain": [
              "array([[-4., -4., -4., -4.],\n",
              "       [-4., -4., -4., -4.],\n",
              "       [-4., -4., -4., -4.],\n",
              "       [-4., -4., -4., -4.]])"
            ]
          },
          "metadata": {},
          "execution_count": 82
        }
      ]
    },
    {
      "cell_type": "code",
      "metadata": {
        "ExecuteTime": {
          "end_time": "2020-10-11T07:27:42.058353Z",
          "start_time": "2020-10-11T07:27:42.054352Z"
        },
        "id": "ysalKI8Hx4k9",
        "colab": {
          "base_uri": "https://localhost:8080/"
        },
        "outputId": "21bc604a-ac25-4230-d227-f3e631abee86"
      },
      "source": [
        "np.fix(c)"
      ],
      "execution_count": null,
      "outputs": [
        {
          "output_type": "execute_result",
          "data": {
            "text/plain": [
              "array([[-4., -4., -4., -4.],\n",
              "       [-4., -4., -4., -4.],\n",
              "       [-4., -4., -4., -4.],\n",
              "       [-4., -4., -4., -4.]])"
            ]
          },
          "metadata": {},
          "execution_count": 83
        }
      ]
    },
    {
      "cell_type": "markdown",
      "metadata": {
        "id": "-RWVR4_Px4k9"
      },
      "source": [
        "## Агрегирующие функции.\n",
        "Можно совместно обрабатывать все элементы массивов, а не каждый по отдельности. Такие функции называются агрегирующими."
      ]
    },
    {
      "cell_type": "code",
      "metadata": {
        "ExecuteTime": {
          "end_time": "2020-10-11T07:27:42.157358Z",
          "start_time": "2020-10-11T07:27:42.152358Z"
        },
        "id": "g_WRzsLxx4k9",
        "colab": {
          "base_uri": "https://localhost:8080/"
        },
        "outputId": "932b8d9f-9e9e-41fb-be7f-5e2efb001554"
      },
      "source": [
        "a = np.array([[1, 2, 3], [4, 5, 6]]) # создадим массив\n",
        "a"
      ],
      "execution_count": null,
      "outputs": [
        {
          "output_type": "execute_result",
          "data": {
            "text/plain": [
              "array([[1, 2, 3],\n",
              "       [4, 5, 6]])"
            ]
          },
          "metadata": {},
          "execution_count": 88
        }
      ]
    },
    {
      "cell_type": "code",
      "metadata": {
        "ExecuteTime": {
          "end_time": "2020-10-11T07:27:42.209361Z",
          "start_time": "2020-10-11T07:27:42.205361Z"
        },
        "id": "i1xMplKkx4k9",
        "colab": {
          "base_uri": "https://localhost:8080/"
        },
        "outputId": "3f893412-2910-464c-90fd-a7ffb05933ab"
      },
      "source": [
        "np.sum(a) # суммирование всех элементов массива между собой"
      ],
      "execution_count": null,
      "outputs": [
        {
          "output_type": "execute_result",
          "data": {
            "text/plain": [
              "21"
            ]
          },
          "metadata": {},
          "execution_count": 89
        }
      ]
    },
    {
      "cell_type": "markdown",
      "metadata": {
        "id": "KW3_zEEwx4k9"
      },
      "source": [
        "или"
      ]
    },
    {
      "cell_type": "code",
      "metadata": {
        "ExecuteTime": {
          "end_time": "2020-10-11T07:27:42.305367Z",
          "start_time": "2020-10-11T07:27:42.301367Z"
        },
        "id": "LJVJ1-k7x4k9",
        "colab": {
          "base_uri": "https://localhost:8080/"
        },
        "outputId": "54c61f92-629a-44c2-a6ff-ad4af93ee766"
      },
      "source": [
        "a.sum() # другой способ вызова той же функции суммирования"
      ],
      "execution_count": null,
      "outputs": [
        {
          "output_type": "execute_result",
          "data": {
            "text/plain": [
              "21"
            ]
          },
          "metadata": {},
          "execution_count": 90
        }
      ]
    },
    {
      "cell_type": "code",
      "metadata": {
        "ExecuteTime": {
          "end_time": "2020-10-11T07:27:42.356370Z",
          "start_time": "2020-10-11T07:27:42.352369Z"
        },
        "id": "qzggbxImx4k-",
        "colab": {
          "base_uri": "https://localhost:8080/"
        },
        "outputId": "8d8bbcb2-dab1-4d1e-e90a-36173f28da2d"
      },
      "source": [
        "a.min() # минимальный элемент массива"
      ],
      "execution_count": null,
      "outputs": [
        {
          "output_type": "execute_result",
          "data": {
            "text/plain": [
              "1"
            ]
          },
          "metadata": {},
          "execution_count": 91
        }
      ]
    },
    {
      "cell_type": "code",
      "metadata": {
        "ExecuteTime": {
          "end_time": "2020-10-11T07:27:42.409373Z",
          "start_time": "2020-10-11T07:27:42.405372Z"
        },
        "id": "7G1_idHtx4k-",
        "colab": {
          "base_uri": "https://localhost:8080/"
        },
        "outputId": "8306324f-1ee3-4d3a-fc46-a85f938ce384"
      },
      "source": [
        "a.max() # максимальный элемент массива"
      ],
      "execution_count": null,
      "outputs": [
        {
          "output_type": "execute_result",
          "data": {
            "text/plain": [
              "6"
            ]
          },
          "metadata": {},
          "execution_count": 92
        }
      ]
    },
    {
      "cell_type": "markdown",
      "metadata": {
        "id": "I6ZWH6CTx4k-"
      },
      "source": [
        "По умолчанию, эти операции применяются к массиву, как если бы он был списком чисел, независимо от его формы. Однако, указав параметр `axis`, можно применить операцию для указанной оси (размерности) массива. Оси нумеруются начиная с 0 (первая ось имеет номер ноль)."
      ]
    },
    {
      "cell_type": "code",
      "metadata": {
        "ExecuteTime": {
          "end_time": "2020-10-11T07:27:42.506378Z",
          "start_time": "2020-10-11T07:27:42.502378Z"
        },
        "id": "9dkpTP17x4k-",
        "colab": {
          "base_uri": "https://localhost:8080/"
        },
        "outputId": "ba60aa90-0ef4-41e1-8edf-59033e6a0236"
      },
      "source": [
        "a.min(axis=1) # минимум по строкам для каждого столбца"
      ],
      "execution_count": null,
      "outputs": [
        {
          "output_type": "execute_result",
          "data": {
            "text/plain": [
              "array([1, 4])"
            ]
          },
          "metadata": {},
          "execution_count": 93
        }
      ]
    },
    {
      "cell_type": "code",
      "metadata": {
        "ExecuteTime": {
          "end_time": "2020-10-11T07:27:42.558381Z",
          "start_time": "2020-10-11T07:27:42.554381Z"
        },
        "id": "lAZwSbXvx4k-",
        "colab": {
          "base_uri": "https://localhost:8080/"
        },
        "outputId": "aaa4b849-62a6-453e-a0ec-1e91aa64508d"
      },
      "source": [
        "a.min(axis=0) # минимум по столбцам для каждой строки"
      ],
      "execution_count": null,
      "outputs": [
        {
          "output_type": "execute_result",
          "data": {
            "text/plain": [
              "array([1, 2, 3])"
            ]
          },
          "metadata": {},
          "execution_count": 94
        }
      ]
    },
    {
      "cell_type": "markdown",
      "metadata": {
        "id": "QVRRrIbHx4k_"
      },
      "source": [
        "Вообще, указание осей (особенно в случае тензоров - многомерных массивов) очень важно для таких функций. Мы будем часто пользоваться этим, когда будем изучать нейронные сети."
      ]
    },
    {
      "cell_type": "markdown",
      "metadata": {
        "id": "ygNqJsx9x4k_"
      },
      "source": [
        "## Индексы, срезы, итерации\n",
        "\n",
        "До сих пор мы обрабатывали все элементы массива, которые в нем есть. Но часто нужно работать только с некоторыми из них. Для этого надо узнать эти элементы. Например, хотим узнать какой в матрице первый элемент. Для этого нужно обратиться к этому элементу по его индексу (номеру).\n",
        "В Python индексы начинаются с нуля, т.е. первый элемент имеет индекс 0.\n",
        "\n",
        "Обращение к элементам, или как говорят *индексация*, массива выполняется с помощью квадратных скобок [] внутри которых мы указываем __срез__ тех индексов элементов, к которым хотим обратиться. Вспомним что такое __срез__ из уроков по основам Python. Это последовательность целых чисел, которую можно задать, например, использую оператор __начало:конец:шаг__\n"
      ]
    },
    {
      "cell_type": "code",
      "metadata": {
        "ExecuteTime": {
          "end_time": "2020-10-11T07:27:42.700389Z",
          "start_time": "2020-10-11T07:27:42.696389Z"
        },
        "id": "OfSq8lqtx4k_",
        "colab": {
          "base_uri": "https://localhost:8080/"
        },
        "outputId": "afaaeb94-0ded-417b-93c3-48ccf160cc13"
      },
      "source": [
        "a = np.arange(10) ** 3 # создадим массив. Какая у него форма?\n",
        "a"
      ],
      "execution_count": null,
      "outputs": [
        {
          "output_type": "execute_result",
          "data": {
            "text/plain": [
              "array([  0,   1,   8,  27,  64, 125, 216, 343, 512, 729])"
            ]
          },
          "metadata": {},
          "execution_count": 95
        }
      ]
    },
    {
      "cell_type": "code",
      "metadata": {
        "ExecuteTime": {
          "end_time": "2020-10-11T07:27:42.752392Z",
          "start_time": "2020-10-11T07:27:42.748392Z"
        },
        "id": "JBL6_jxCx4k_",
        "colab": {
          "base_uri": "https://localhost:8080/"
        },
        "outputId": "429cb4f8-ed55-414d-c2b9-ce14cc47d927"
      },
      "source": [
        "a[4] # Посмотрим на первый элемент этого массива, помним что первый элемент имеет индекс 0."
      ],
      "execution_count": null,
      "outputs": [
        {
          "output_type": "execute_result",
          "data": {
            "text/plain": [
              "64"
            ]
          },
          "metadata": {},
          "execution_count": 96
        }
      ]
    },
    {
      "cell_type": "code",
      "source": [],
      "metadata": {
        "id": "sdNb4n8dSEVd"
      },
      "execution_count": null,
      "outputs": []
    },
    {
      "cell_type": "code",
      "metadata": {
        "ExecuteTime": {
          "end_time": "2020-10-11T07:27:42.803395Z",
          "start_time": "2020-10-11T07:27:42.799395Z"
        },
        "id": "c9H0m1u2x4lA",
        "colab": {
          "base_uri": "https://localhost:8080/"
        },
        "outputId": "8a839c3d-079d-4971-888c-6eb3670712eb"
      },
      "source": [
        "a[3:5] # Посмотрим сразу на четвертый и пятый элементы. Помним что в срезах конец не входит в диапазон, поэтому шестой элемент мы не получим"
      ],
      "execution_count": null,
      "outputs": [
        {
          "output_type": "execute_result",
          "data": {
            "text/plain": [
              "array([27, 64])"
            ]
          },
          "metadata": {},
          "execution_count": 98
        }
      ]
    },
    {
      "cell_type": "code",
      "source": [
        "a[[3,7]]\n"
      ],
      "metadata": {
        "id": "eCiErIQrAD4D",
        "colab": {
          "base_uri": "https://localhost:8080/"
        },
        "outputId": "cddf97a9-4c68-4042-8caa-50ff8ee93685"
      },
      "execution_count": null,
      "outputs": [
        {
          "output_type": "execute_result",
          "data": {
            "text/plain": [
              "array([ 27, 343])"
            ]
          },
          "metadata": {},
          "execution_count": 97
        }
      ]
    },
    {
      "cell_type": "code",
      "source": [
        "a[[7,3]]"
      ],
      "metadata": {
        "colab": {
          "base_uri": "https://localhost:8080/"
        },
        "id": "Ig-cJYnlk9vw",
        "outputId": "999bd953-034b-4961-9879-398622d22536"
      },
      "execution_count": null,
      "outputs": [
        {
          "output_type": "execute_result",
          "data": {
            "text/plain": [
              "array([343,  27])"
            ]
          },
          "metadata": {},
          "execution_count": 101
        }
      ]
    },
    {
      "cell_type": "code",
      "source": [
        "a[[3,3]]"
      ],
      "metadata": {
        "id": "gj7xrwQlSMkD",
        "colab": {
          "base_uri": "https://localhost:8080/"
        },
        "outputId": "ab45b5a7-1b8c-4d82-f069-9fd6cd900422"
      },
      "execution_count": null,
      "outputs": [
        {
          "output_type": "execute_result",
          "data": {
            "text/plain": [
              "array([27, 27])"
            ]
          },
          "metadata": {},
          "execution_count": 100
        }
      ]
    },
    {
      "cell_type": "markdown",
      "metadata": {
        "id": "yMptqVWix4lA"
      },
      "source": [
        "изменим четвертый и пятый элементы. Вообще, при изменении формы объектов слева и справа от знака присвоения = должны быть одинаковые. Но для скаляра это исключение."
      ]
    },
    {
      "cell_type": "code",
      "metadata": {
        "ExecuteTime": {
          "end_time": "2020-10-11T07:27:42.899401Z",
          "start_time": "2020-10-11T07:27:42.895400Z"
        },
        "id": "pv40XK_3x4lA",
        "colab": {
          "base_uri": "https://localhost:8080/"
        },
        "outputId": "4ab2dc09-6ad5-4e63-b0f7-dc9c33236da8"
      },
      "source": [
        "a[3:5] = 2 # изменяем\n",
        "a"
      ],
      "execution_count": null,
      "outputs": [
        {
          "output_type": "execute_result",
          "data": {
            "text/plain": [
              "array([  0,   1,   8,   2,   2, 125, 216, 343, 512, 729])"
            ]
          },
          "metadata": {},
          "execution_count": 102
        }
      ]
    },
    {
      "cell_type": "markdown",
      "metadata": {
        "id": "ldyGJEkox4lA"
      },
      "source": [
        "А если вот так сделать, что получится?"
      ]
    },
    {
      "cell_type": "code",
      "source": [
        "a[0.5] # такие индексы невозможны"
      ],
      "metadata": {
        "id": "tLeIHNyYAv1p",
        "colab": {
          "base_uri": "https://localhost:8080/",
          "height": 145
        },
        "outputId": "547735cc-de2f-4ae5-b19e-f3a0695fedd8"
      },
      "execution_count": null,
      "outputs": [
        {
          "output_type": "error",
          "ename": "IndexError",
          "evalue": "only integers, slices (`:`), ellipsis (`...`), numpy.newaxis (`None`) and integer or boolean arrays are valid indices",
          "traceback": [
            "\u001b[0;31m---------------------------------------------------------------------------\u001b[0m",
            "\u001b[0;31mIndexError\u001b[0m                                Traceback (most recent call last)",
            "\u001b[0;32m<ipython-input-103-7a577bf306cf>\u001b[0m in \u001b[0;36m<cell line: 1>\u001b[0;34m()\u001b[0m\n\u001b[0;32m----> 1\u001b[0;31m \u001b[0ma\u001b[0m\u001b[0;34m[\u001b[0m\u001b[0;36m0.5\u001b[0m\u001b[0;34m]\u001b[0m \u001b[0;31m# такие индексы невозможны\u001b[0m\u001b[0;34m\u001b[0m\u001b[0;34m\u001b[0m\u001b[0m\n\u001b[0m",
            "\u001b[0;31mIndexError\u001b[0m: only integers, slices (`:`), ellipsis (`...`), numpy.newaxis (`None`) and integer or boolean arrays are valid indices"
          ]
        }
      ]
    },
    {
      "cell_type": "code",
      "metadata": {
        "ExecuteTime": {
          "end_time": "2020-10-11T07:27:42.994406Z",
          "start_time": "2020-10-11T07:27:42.990406Z"
        },
        "id": "wfaSP4lzx4lA",
        "colab": {
          "base_uri": "https://localhost:8080/"
        },
        "outputId": "76e7ed1b-1c07-4cc8-d158-3c19b2d03a7a"
      },
      "source": [
        "a[::-1] # Что здесь происходит?"
      ],
      "execution_count": null,
      "outputs": [
        {
          "output_type": "execute_result",
          "data": {
            "text/plain": [
              "array([729, 512, 343, 216, 125,   2,   2,   8,   1,   0])"
            ]
          },
          "metadata": {},
          "execution_count": 104
        }
      ]
    },
    {
      "cell_type": "code",
      "source": [
        "a"
      ],
      "metadata": {
        "id": "u1IkGlLkTXgh"
      },
      "execution_count": null,
      "outputs": []
    },
    {
      "cell_type": "code",
      "source": [
        "a[-1]"
      ],
      "metadata": {
        "id": "jUjuxtcPXgr7",
        "colab": {
          "base_uri": "https://localhost:8080/"
        },
        "outputId": "7dde7bb8-7248-4600-c8e0-70f0c84b9883"
      },
      "execution_count": null,
      "outputs": [
        {
          "output_type": "execute_result",
          "data": {
            "text/plain": [
              "729"
            ]
          },
          "metadata": {},
          "execution_count": 105
        }
      ]
    },
    {
      "cell_type": "code",
      "source": [
        "a[-100]"
      ],
      "metadata": {
        "colab": {
          "base_uri": "https://localhost:8080/",
          "height": 145
        },
        "id": "V9jBo5dvmHtm",
        "outputId": "021df817-d15f-4bee-8261-d36f2f28f62a"
      },
      "execution_count": null,
      "outputs": [
        {
          "output_type": "error",
          "ename": "IndexError",
          "evalue": "index -100 is out of bounds for axis 0 with size 10",
          "traceback": [
            "\u001b[0;31m---------------------------------------------------------------------------\u001b[0m",
            "\u001b[0;31mIndexError\u001b[0m                                Traceback (most recent call last)",
            "\u001b[0;32m<ipython-input-108-eb11e02712b5>\u001b[0m in \u001b[0;36m<cell line: 1>\u001b[0;34m()\u001b[0m\n\u001b[0;32m----> 1\u001b[0;31m \u001b[0ma\u001b[0m\u001b[0;34m[\u001b[0m\u001b[0;34m-\u001b[0m\u001b[0;36m100\u001b[0m\u001b[0;34m]\u001b[0m\u001b[0;34m\u001b[0m\u001b[0;34m\u001b[0m\u001b[0m\n\u001b[0m",
            "\u001b[0;31mIndexError\u001b[0m: index -100 is out of bounds for axis 0 with size 10"
          ]
        }
      ]
    },
    {
      "cell_type": "markdown",
      "metadata": {
        "id": "A5JqBaM3x4lB"
      },
      "source": [
        "Вспомнив,  как создаются срезы, понимаем, что здесь __начало, конец__ опущены, а значит будут использованы значения по умолчанию, а __шаг = -1__. В результате получили массив, в котором элементы переставлены в обратном порядке."
      ]
    },
    {
      "cell_type": "markdown",
      "metadata": {
        "id": "qzhjQbFMx4lB"
      },
      "source": [
        "У *многомерных* массивов на каждую ось приходится один индекс. Индексы передаются в виде последовательности чисел, разделенных запятыми (кортежами):"
      ]
    },
    {
      "cell_type": "code",
      "metadata": {
        "ExecuteTime": {
          "end_time": "2020-10-11T07:27:43.146415Z",
          "start_time": "2020-10-11T07:27:43.141415Z"
        },
        "id": "wGjK4BH8x4lC",
        "colab": {
          "base_uri": "https://localhost:8080/"
        },
        "outputId": "f97d9116-7032-4dcb-e21f-ae9e0f59cb2f"
      },
      "source": [
        "b = np.array([[ 0,  1,  2,  3],\n",
        "...           [10, 11, 12, 13],\n",
        "...           [20, 21, 22, 23],\n",
        "...           [30, 31, 32, 33],\n",
        "...           [40, 41, 42, 43]]) # создадим двумерный массив\n",
        "b"
      ],
      "execution_count": null,
      "outputs": [
        {
          "output_type": "execute_result",
          "data": {
            "text/plain": [
              "array([[ 0,  1,  2,  3],\n",
              "       [10, 11, 12, 13],\n",
              "       [20, 21, 22, 23],\n",
              "       [30, 31, 32, 33],\n",
              "       [40, 41, 42, 43]])"
            ]
          },
          "metadata": {},
          "execution_count": 109
        }
      ]
    },
    {
      "cell_type": "code",
      "metadata": {
        "ExecuteTime": {
          "end_time": "2020-10-11T07:27:43.205418Z",
          "start_time": "2020-10-11T07:27:43.202418Z"
        },
        "id": "W-EKr6xRx4lC",
        "colab": {
          "base_uri": "https://localhost:8080/"
        },
        "outputId": "f9d602a7-03ce-49a0-beb5-bfdd2622f514"
      },
      "source": [
        "b[2,3] # обратимся к элементу на третьей строке в четвертом столбце\n"
      ],
      "execution_count": null,
      "outputs": [
        {
          "output_type": "execute_result",
          "data": {
            "text/plain": [
              "23"
            ]
          },
          "metadata": {},
          "execution_count": 112
        }
      ]
    },
    {
      "cell_type": "markdown",
      "metadata": {
        "id": "lJ0XvGztx4lC"
      },
      "source": [
        "тоже самое можно получить и так:"
      ]
    },
    {
      "cell_type": "code",
      "metadata": {
        "ExecuteTime": {
          "end_time": "2020-10-11T07:27:43.309424Z",
          "start_time": "2020-10-11T07:27:43.305424Z"
        },
        "id": "jsmAKBs_x4lC",
        "colab": {
          "base_uri": "https://localhost:8080/"
        },
        "outputId": "dafc3f6e-193a-46b9-c0ed-dbb13f7bb060"
      },
      "source": [
        "b[(2,3)]"
      ],
      "execution_count": null,
      "outputs": [
        {
          "output_type": "execute_result",
          "data": {
            "text/plain": [
              "23"
            ]
          },
          "metadata": {},
          "execution_count": 116
        }
      ]
    },
    {
      "cell_type": "code",
      "source": [
        "b[[2,3],3]"
      ],
      "metadata": {
        "id": "PVt1dahOSbZF",
        "colab": {
          "base_uri": "https://localhost:8080/"
        },
        "outputId": "5a5bb3ec-df83-455a-c614-a7cb534be938"
      },
      "execution_count": null,
      "outputs": [
        {
          "output_type": "execute_result",
          "data": {
            "text/plain": [
              "array([23, 33])"
            ]
          },
          "metadata": {},
          "execution_count": 113
        }
      ]
    },
    {
      "cell_type": "code",
      "source": [
        "b[[2,3],[2,3]]"
      ],
      "metadata": {
        "colab": {
          "base_uri": "https://localhost:8080/"
        },
        "id": "GR0wh9tYn3fW",
        "outputId": "76b1d4bc-b454-465e-c222-84b7f98811aa"
      },
      "execution_count": null,
      "outputs": [
        {
          "output_type": "execute_result",
          "data": {
            "text/plain": [
              "array([22, 33])"
            ]
          },
          "metadata": {},
          "execution_count": 126
        }
      ]
    },
    {
      "cell_type": "code",
      "source": [
        "b[2:4,1:4]"
      ],
      "metadata": {
        "colab": {
          "base_uri": "https://localhost:8080/"
        },
        "id": "g0VTgKycorva",
        "outputId": "3b033aaf-4bbb-4d3a-8d7e-ab32e30542e2"
      },
      "execution_count": null,
      "outputs": [
        {
          "output_type": "execute_result",
          "data": {
            "text/plain": [
              "array([[21, 22, 23],\n",
              "       [31, 32, 33]])"
            ]
          },
          "metadata": {},
          "execution_count": 123
        }
      ]
    },
    {
      "cell_type": "markdown",
      "metadata": {
        "id": "yN_Cr6mTx4lC"
      },
      "source": [
        "или даже так"
      ]
    },
    {
      "cell_type": "code",
      "source": [
        "b[2]"
      ],
      "metadata": {
        "id": "WM5jH0nLg9WH",
        "colab": {
          "base_uri": "https://localhost:8080/"
        },
        "outputId": "c325d3b9-58d6-4af3-9c29-3f2fc2b424ff"
      },
      "execution_count": null,
      "outputs": [
        {
          "output_type": "execute_result",
          "data": {
            "text/plain": [
              "array([20, 21, 22, 23])"
            ]
          },
          "metadata": {},
          "execution_count": 117
        }
      ]
    },
    {
      "cell_type": "code",
      "metadata": {
        "ExecuteTime": {
          "end_time": "2020-10-11T07:27:43.413430Z",
          "start_time": "2020-10-11T07:27:43.410430Z"
        },
        "id": "b_YLI-ILx4lC",
        "colab": {
          "base_uri": "https://localhost:8080/"
        },
        "outputId": "2ef4ff89-d781-44fb-999b-8f988a7dec00"
      },
      "source": [
        "b[2][3]"
      ],
      "execution_count": null,
      "outputs": [
        {
          "output_type": "execute_result",
          "data": {
            "text/plain": [
              "23"
            ]
          },
          "metadata": {},
          "execution_count": 118
        }
      ]
    },
    {
      "cell_type": "markdown",
      "metadata": {
        "id": "DZGT_cYIx4lD"
      },
      "source": [
        "Но не следует путать"
      ]
    },
    {
      "cell_type": "code",
      "metadata": {
        "ExecuteTime": {
          "end_time": "2020-10-11T07:27:43.517436Z",
          "start_time": "2020-10-11T07:27:43.514436Z"
        },
        "id": "rPXDbL7wx4lD",
        "colab": {
          "base_uri": "https://localhost:8080/"
        },
        "outputId": "2e8840cc-ff05-4123-f561-82261d1bf486"
      },
      "source": [
        "b[:,2] # это третий столбец целиком (все строки)"
      ],
      "execution_count": null,
      "outputs": [
        {
          "output_type": "execute_result",
          "data": {
            "text/plain": [
              "array([ 2, 12, 22, 32, 42])"
            ]
          },
          "metadata": {},
          "execution_count": 127
        }
      ]
    },
    {
      "cell_type": "code",
      "source": [
        "b[:]"
      ],
      "metadata": {
        "id": "UX9G4micHb7F",
        "colab": {
          "base_uri": "https://localhost:8080/"
        },
        "outputId": "8b0b8c4a-ecba-4ca8-fb7c-356307f3f6bb"
      },
      "execution_count": null,
      "outputs": [
        {
          "output_type": "execute_result",
          "data": {
            "text/plain": [
              "array([[ 0,  1,  2,  3],\n",
              "       [10, 11, 12, 13],\n",
              "       [20, 21, 22, 23],\n",
              "       [30, 31, 32, 33],\n",
              "       [40, 41, 42, 43]])"
            ]
          },
          "metadata": {},
          "execution_count": 128
        }
      ]
    },
    {
      "cell_type": "markdown",
      "metadata": {
        "id": "yR91w6Dix4lD"
      },
      "source": [
        "и"
      ]
    },
    {
      "cell_type": "code",
      "metadata": {
        "ExecuteTime": {
          "end_time": "2020-10-11T07:27:43.627442Z",
          "start_time": "2020-10-11T07:27:43.623442Z"
        },
        "id": "Da5z8FGBx4lE",
        "colab": {
          "base_uri": "https://localhost:8080/"
        },
        "outputId": "0f1ceb55-2b6e-406e-9dd3-1e648c11a9b6"
      },
      "source": [
        "b[: 2] # это первая и вторая строки массива"
      ],
      "execution_count": null,
      "outputs": [
        {
          "output_type": "execute_result",
          "data": {
            "text/plain": [
              "array([[ 0,  1,  2,  3],\n",
              "       [10, 11, 12, 13]])"
            ]
          },
          "metadata": {},
          "execution_count": 129
        }
      ]
    },
    {
      "cell_type": "code",
      "source": [],
      "metadata": {
        "id": "28moJfOPH4wm"
      },
      "execution_count": null,
      "outputs": []
    },
    {
      "cell_type": "markdown",
      "metadata": {
        "id": "fDTwmZ2rx4lE"
      },
      "source": [
        "Тут мы запятую не поставили, и NumPy считает, что мы указываем только один индекс, самый первый - индекс строк. А для столбцов индекс (по умолчанию) - все.\n",
        "\n",
        "Теперь разгадайте вот такую индексацию:"
      ]
    },
    {
      "cell_type": "code",
      "metadata": {
        "ExecuteTime": {
          "end_time": "2020-10-11T07:27:43.727448Z",
          "start_time": "2020-10-11T07:27:43.723448Z"
        },
        "id": "8TdDpu1Cx4lF",
        "colab": {
          "base_uri": "https://localhost:8080/"
        },
        "outputId": "6066b7cc-27db-4b86-c8a4-4ed171b5969a"
      },
      "source": [
        "b[1:3, : : ] # что это за смайлик?"
      ],
      "execution_count": null,
      "outputs": [
        {
          "output_type": "execute_result",
          "data": {
            "text/plain": [
              "array([[10, 11, 12, 13],\n",
              "       [20, 21, 22, 23]])"
            ]
          },
          "metadata": {},
          "execution_count": 88
        }
      ]
    },
    {
      "cell_type": "markdown",
      "metadata": {
        "id": "qWG43FGWx4lF"
      },
      "source": [
        "Мы указали *два* индекса, один для строк: `1:3`, т.е. вторая и третья строки,\n",
        "\n",
        "другой для столбцов: ` : : ` здесь __начало, конец, шаг__ опущены и использованы значения по умолчанию. __начало = 0 , конец = \"длина объекта\" = 4 , шаг = 1__ т.е. первый, второй, третий и четвертый столбцы.\n",
        "\n",
        "А что будет, если обратиться к элементу номер 100? Проверьте."
      ]
    },
    {
      "cell_type": "code",
      "source": [
        "b"
      ],
      "metadata": {
        "id": "525QA1tcV-84"
      },
      "execution_count": null,
      "outputs": []
    },
    {
      "cell_type": "code",
      "source": [
        "b[2:3][0] #????"
      ],
      "metadata": {
        "id": "ozJ9PVWwWBY_",
        "colab": {
          "base_uri": "https://localhost:8080/"
        },
        "outputId": "825b7bb2-bff5-48e9-ae0e-99d3fddf274a"
      },
      "execution_count": null,
      "outputs": [
        {
          "output_type": "execute_result",
          "data": {
            "text/plain": [
              "array([20, 21, 22, 23])"
            ]
          },
          "metadata": {},
          "execution_count": 130
        }
      ]
    },
    {
      "cell_type": "code",
      "source": [
        "e=np.ones((2,3,4,2,3,4))"
      ],
      "metadata": {
        "id": "jC2olia2X0Ft"
      },
      "execution_count": null,
      "outputs": []
    },
    {
      "cell_type": "code",
      "source": [
        "e[...,2] # даже такое работает, опустили все предыдущие индексы"
      ],
      "metadata": {
        "id": "IkRavghyX9st",
        "colab": {
          "base_uri": "https://localhost:8080/"
        },
        "outputId": "c0dc5503-890c-4ce8-95ab-753be070a983"
      },
      "execution_count": null,
      "outputs": [
        {
          "output_type": "execute_result",
          "data": {
            "text/plain": [
              "array([[[[[1., 1., 1.],\n",
              "          [1., 1., 1.]],\n",
              "\n",
              "         [[1., 1., 1.],\n",
              "          [1., 1., 1.]],\n",
              "\n",
              "         [[1., 1., 1.],\n",
              "          [1., 1., 1.]],\n",
              "\n",
              "         [[1., 1., 1.],\n",
              "          [1., 1., 1.]]],\n",
              "\n",
              "\n",
              "        [[[1., 1., 1.],\n",
              "          [1., 1., 1.]],\n",
              "\n",
              "         [[1., 1., 1.],\n",
              "          [1., 1., 1.]],\n",
              "\n",
              "         [[1., 1., 1.],\n",
              "          [1., 1., 1.]],\n",
              "\n",
              "         [[1., 1., 1.],\n",
              "          [1., 1., 1.]]],\n",
              "\n",
              "\n",
              "        [[[1., 1., 1.],\n",
              "          [1., 1., 1.]],\n",
              "\n",
              "         [[1., 1., 1.],\n",
              "          [1., 1., 1.]],\n",
              "\n",
              "         [[1., 1., 1.],\n",
              "          [1., 1., 1.]],\n",
              "\n",
              "         [[1., 1., 1.],\n",
              "          [1., 1., 1.]]]],\n",
              "\n",
              "\n",
              "\n",
              "       [[[[1., 1., 1.],\n",
              "          [1., 1., 1.]],\n",
              "\n",
              "         [[1., 1., 1.],\n",
              "          [1., 1., 1.]],\n",
              "\n",
              "         [[1., 1., 1.],\n",
              "          [1., 1., 1.]],\n",
              "\n",
              "         [[1., 1., 1.],\n",
              "          [1., 1., 1.]]],\n",
              "\n",
              "\n",
              "        [[[1., 1., 1.],\n",
              "          [1., 1., 1.]],\n",
              "\n",
              "         [[1., 1., 1.],\n",
              "          [1., 1., 1.]],\n",
              "\n",
              "         [[1., 1., 1.],\n",
              "          [1., 1., 1.]],\n",
              "\n",
              "         [[1., 1., 1.],\n",
              "          [1., 1., 1.]]],\n",
              "\n",
              "\n",
              "        [[[1., 1., 1.],\n",
              "          [1., 1., 1.]],\n",
              "\n",
              "         [[1., 1., 1.],\n",
              "          [1., 1., 1.]],\n",
              "\n",
              "         [[1., 1., 1.],\n",
              "          [1., 1., 1.]],\n",
              "\n",
              "         [[1., 1., 1.],\n",
              "          [1., 1., 1.]]]]])"
            ]
          },
          "metadata": {},
          "execution_count": 132
        }
      ]
    },
    {
      "cell_type": "markdown",
      "source": [
        "Еще больше информации и примеров по индексации можно найти в [документации](https://numpy.org/devdocs/user/basics.indexing.html)."
      ],
      "metadata": {
        "id": "E6Os6kNWY8zG"
      }
    },
    {
      "cell_type": "markdown",
      "metadata": {
        "id": "jOuRVpK-x4lF"
      },
      "source": [
        "### Итерирование массивов\n",
        "Зададим массив посложней. Узнаем его форму используя атрибут `shape`. Это трехмерный массив, 2 строки, 2 столбца, 3 третьих измерения (им не придумали названия)."
      ]
    },
    {
      "cell_type": "code",
      "source": [
        "import numpy as np"
      ],
      "metadata": {
        "id": "WZ988ampZZhe"
      },
      "execution_count": null,
      "outputs": []
    },
    {
      "cell_type": "code",
      "metadata": {
        "ExecuteTime": {
          "end_time": "2020-10-11T07:27:43.867456Z",
          "start_time": "2020-10-11T07:27:43.864456Z"
        },
        "id": "02aLs6X-x4lF"
      },
      "source": [
        "a = np.array(([[0, 1, 2], [10, 12, 13]], [[100, 101, 102], [110, 112, 113]]))"
      ],
      "execution_count": null,
      "outputs": []
    },
    {
      "cell_type": "code",
      "metadata": {
        "ExecuteTime": {
          "end_time": "2020-10-11T07:27:43.917459Z",
          "start_time": "2020-10-11T07:27:43.913459Z"
        },
        "colab": {
          "base_uri": "https://localhost:8080/"
        },
        "id": "fKU6QxArx4lF",
        "outputId": "227673ee-4278-4a39-9b41-997235c09376"
      },
      "source": [
        "a"
      ],
      "execution_count": null,
      "outputs": [
        {
          "output_type": "execute_result",
          "data": {
            "text/plain": [
              "array([[[  0,   1,   2],\n",
              "        [ 10,  12,  13]],\n",
              "\n",
              "       [[100, 101, 102],\n",
              "        [110, 112, 113]]])"
            ]
          },
          "metadata": {},
          "execution_count": 135
        }
      ]
    },
    {
      "cell_type": "code",
      "metadata": {
        "ExecuteTime": {
          "end_time": "2020-10-11T07:27:43.965462Z",
          "start_time": "2020-10-11T07:27:43.961461Z"
        },
        "colab": {
          "base_uri": "https://localhost:8080/"
        },
        "id": "ARNcedNGx4lG",
        "outputId": "61b2e18d-ac3e-40cf-9d63-ce11fdf386f5"
      },
      "source": [
        "a.shape"
      ],
      "execution_count": null,
      "outputs": [
        {
          "output_type": "execute_result",
          "data": {
            "text/plain": [
              "(2, 2, 3)"
            ]
          },
          "metadata": {},
          "execution_count": 136
        }
      ]
    },
    {
      "cell_type": "markdown",
      "metadata": {
        "id": "LDbXPrXEx4lG"
      },
      "source": [
        "Итерирование многомерных массивов ведется по первой оси (т.е. строкам).\n",
        "\n",
        "Изменяется номер строки, а все остальные индексы берутся \"все\".\n",
        "\n",
        "В результате выполнится __две__ итерации (число строк равно двум).\n",
        "\n",
        "Объект `row` будет массивом, который содержит:\n",
        "* на первой итерации элементы из первой строки, всех столбцов и всех третьих измерений массива __a__.\n",
        "* на второй итерации элементы из второй строки, всех столбцов и всех третьих измерений массива __a__."
      ]
    },
    {
      "cell_type": "code",
      "metadata": {
        "ExecuteTime": {
          "end_time": "2020-10-11T07:27:44.060467Z",
          "start_time": "2020-10-11T07:27:44.057467Z"
        },
        "colab": {
          "base_uri": "https://localhost:8080/"
        },
        "id": "Xb_p8R19x4lG",
        "outputId": "1b3d4234-036b-4322-9994-90d7879b5959"
      },
      "source": [
        "for row in a:\n",
        "   print(row)\n",
        "   print(' ')\n"
      ],
      "execution_count": null,
      "outputs": [
        {
          "output_type": "stream",
          "name": "stdout",
          "text": [
            "[[ 0  1  2]\n",
            " [10 12 13]]\n",
            " \n",
            "[[100 101 102]\n",
            " [110 112 113]]\n",
            " \n"
          ]
        }
      ]
    },
    {
      "cell_type": "markdown",
      "metadata": {
        "id": "rbaubSXzx4lG"
      },
      "source": [
        "Если нужно перебрать поэлементно весь массив, как если бы он был одномерным, для этого можно использовать `flat`. При этом наиболее быстро изменяется последний индекс, в нашем случае третий, потом второй (столбцы) и только в конце первый (строки).\n",
        "\n",
        "Значит первая половина результата - это элементы с первой строки. Вторая половина - элементы со второй строки.\n",
        "\n",
        "`flat` это итератор, он привязан к самому массиву, если изменим массив, то и его итератор поменяется, он _не_ делает копию массива. Если нужна копия объекта используйте `flatten` ."
      ]
    },
    {
      "cell_type": "code",
      "source": [
        "a.flat"
      ],
      "metadata": {
        "colab": {
          "base_uri": "https://localhost:8080/"
        },
        "id": "o4jztvpLD7l9",
        "outputId": "4b249bca-ce48-4466-db74-9d8ea2f1a629"
      },
      "execution_count": null,
      "outputs": [
        {
          "output_type": "execute_result",
          "data": {
            "text/plain": [
              "<numpy.flatiter at 0x5a63d9342f50>"
            ]
          },
          "metadata": {},
          "execution_count": 138
        }
      ]
    },
    {
      "cell_type": "code",
      "metadata": {
        "ExecuteTime": {
          "end_time": "2020-10-11T07:27:44.160473Z",
          "start_time": "2020-10-11T07:27:44.156473Z"
        },
        "colab": {
          "base_uri": "https://localhost:8080/"
        },
        "id": "EhYKKl8ux4lG",
        "outputId": "b1eafbb8-deee-4d74-9d7b-55598abb0eb2"
      },
      "source": [
        "for el in a.flat:\n",
        "    print(el)\n"
      ],
      "execution_count": null,
      "outputs": [
        {
          "output_type": "stream",
          "name": "stdout",
          "text": [
            "0\n",
            "1\n",
            "2\n",
            "10\n",
            "12\n",
            "13\n",
            "100\n",
            "101\n",
            "102\n",
            "110\n",
            "112\n",
            "113\n"
          ]
        }
      ]
    },
    {
      "cell_type": "code",
      "source": [
        "a\n"
      ],
      "metadata": {
        "id": "LESEc6mJJV3v"
      },
      "execution_count": null,
      "outputs": []
    },
    {
      "cell_type": "markdown",
      "metadata": {
        "id": "5qcRo2PDx4lG"
      },
      "source": [
        "\n",
        "Форма массива может быть изменена с помощью различных команд, результаты некоторых привязаны к самому массиву, изменив его изменится и результат, копии массива не создаются."
      ]
    },
    {
      "cell_type": "code",
      "metadata": {
        "ExecuteTime": {
          "end_time": "2020-10-11T07:27:44.258478Z",
          "start_time": "2020-10-11T07:27:44.255478Z"
        },
        "colab": {
          "base_uri": "https://localhost:8080/"
        },
        "id": "wDBGhFsex4lG",
        "outputId": "b1b05bfd-554f-484f-cf56-c554528cade5"
      },
      "source": [
        "a.ravel()  # Делает массив плоским, но сам массив не изменяется\n"
      ],
      "execution_count": null,
      "outputs": [
        {
          "output_type": "execute_result",
          "data": {
            "text/plain": [
              "array([  0,   1,   2,  10,  12,  13, 100, 101, 102, 110, 112, 113])"
            ]
          },
          "metadata": {},
          "execution_count": 140
        }
      ]
    },
    {
      "cell_type": "code",
      "metadata": {
        "ExecuteTime": {
          "end_time": "2020-10-11T07:27:44.310481Z",
          "start_time": "2020-10-11T07:27:44.306481Z"
        },
        "id": "K4esrvivx4lG",
        "colab": {
          "base_uri": "https://localhost:8080/"
        },
        "outputId": "ccf66418-d026-45e0-a28c-66b23b895dbc"
      },
      "source": [
        "a"
      ],
      "execution_count": null,
      "outputs": [
        {
          "output_type": "execute_result",
          "data": {
            "text/plain": [
              "array([[[  0,   1,   2],\n",
              "        [ 10,  12,  13]],\n",
              "\n",
              "       [[100, 101, 102],\n",
              "        [110, 112, 113]]])"
            ]
          },
          "metadata": {},
          "execution_count": 141
        }
      ]
    },
    {
      "cell_type": "code",
      "source": [
        "a.shape"
      ],
      "metadata": {
        "colab": {
          "base_uri": "https://localhost:8080/"
        },
        "id": "brDrsGqOsosP",
        "outputId": "12c65bcf-621e-4c3d-f386-3b5627ca9a64"
      },
      "execution_count": null,
      "outputs": [
        {
          "output_type": "execute_result",
          "data": {
            "text/plain": [
              "(2, 2, 3)"
            ]
          },
          "metadata": {},
          "execution_count": 142
        }
      ]
    },
    {
      "cell_type": "code",
      "metadata": {
        "ExecuteTime": {
          "end_time": "2020-10-11T07:27:44.363484Z",
          "start_time": "2020-10-11T07:27:44.359484Z"
        },
        "colab": {
          "base_uri": "https://localhost:8080/"
        },
        "id": "kbLyReHHx4lH",
        "outputId": "fe548169-e26b-4627-9929-2586b2523439"
      },
      "source": [
        "a.shape = (6, 2)  # Изменение формы, сам массив изменяется\n",
        "a\n"
      ],
      "execution_count": null,
      "outputs": [
        {
          "output_type": "execute_result",
          "data": {
            "text/plain": [
              "array([[  0,   1],\n",
              "       [  2,  10],\n",
              "       [ 12,  13],\n",
              "       [100, 101],\n",
              "       [102, 110],\n",
              "       [112, 113]])"
            ]
          },
          "metadata": {},
          "execution_count": 143
        }
      ]
    },
    {
      "cell_type": "code",
      "source": [
        "a"
      ],
      "metadata": {
        "colab": {
          "base_uri": "https://localhost:8080/"
        },
        "id": "FsFLXulytXHk",
        "outputId": "296ce5a1-a485-4ab2-9886-73dbc0b46c79"
      },
      "execution_count": null,
      "outputs": [
        {
          "output_type": "execute_result",
          "data": {
            "text/plain": [
              "array([[[  0,   1,   2],\n",
              "        [ 10,  12,  13]],\n",
              "\n",
              "       [[100, 101, 102],\n",
              "        [110, 112, 113]]])"
            ]
          },
          "metadata": {},
          "execution_count": 153
        }
      ]
    },
    {
      "cell_type": "code",
      "metadata": {
        "ExecuteTime": {
          "end_time": "2020-10-11T07:27:44.415487Z",
          "start_time": "2020-10-11T07:27:44.411487Z"
        },
        "colab": {
          "base_uri": "https://localhost:8080/"
        },
        "id": "MOJR2rr8x4lH",
        "outputId": "ff904b7a-3ec2-4f7e-c228-ace656e21a06"
      },
      "source": [
        "a.transpose()  # Транспонирование, сам массив не изменяется"
      ],
      "execution_count": null,
      "outputs": [
        {
          "output_type": "execute_result",
          "data": {
            "text/plain": [
              "array([[[  0, 100],\n",
              "        [ 10, 110]],\n",
              "\n",
              "       [[  1, 101],\n",
              "        [ 12, 112]],\n",
              "\n",
              "       [[  2, 102],\n",
              "        [ 13, 113]]])"
            ]
          },
          "metadata": {},
          "execution_count": 154
        }
      ]
    },
    {
      "cell_type": "code",
      "metadata": {
        "ExecuteTime": {
          "end_time": "2020-10-11T07:27:44.467490Z",
          "start_time": "2020-10-11T07:27:44.463490Z"
        },
        "id": "XlO-Bn2Hx4lI",
        "colab": {
          "base_uri": "https://localhost:8080/"
        },
        "outputId": "15c4f407-8484-415a-e350-88d39962cd7d"
      },
      "source": [
        "a"
      ],
      "execution_count": null,
      "outputs": [
        {
          "output_type": "execute_result",
          "data": {
            "text/plain": [
              "array([[[  0,   1,   2],\n",
              "        [ 10,  12,  13]],\n",
              "\n",
              "       [[100, 101, 102],\n",
              "        [110, 112, 113]]])"
            ]
          },
          "metadata": {},
          "execution_count": 155
        }
      ]
    },
    {
      "cell_type": "code",
      "metadata": {
        "ExecuteTime": {
          "end_time": "2020-10-11T07:27:44.518493Z",
          "start_time": "2020-10-11T07:27:44.514493Z"
        },
        "colab": {
          "base_uri": "https://localhost:8080/"
        },
        "id": "nrHfG5Uhx4lI",
        "outputId": "474dfa58-53ae-41ea-e24b-51fa8904cddf"
      },
      "source": [
        "a.reshape((3, 4))  # Изменение формы, но сам массив не изменяется"
      ],
      "execution_count": null,
      "outputs": [
        {
          "output_type": "execute_result",
          "data": {
            "text/plain": [
              "array([[  0,   1,   2,  10],\n",
              "       [ 12,  13, 100, 101],\n",
              "       [102, 110, 112, 113]])"
            ]
          },
          "metadata": {},
          "execution_count": 151
        }
      ]
    },
    {
      "cell_type": "code",
      "metadata": {
        "ExecuteTime": {
          "end_time": "2020-10-11T07:27:44.569496Z",
          "start_time": "2020-10-11T07:27:44.565496Z"
        },
        "id": "8W956boxx4lI",
        "colab": {
          "base_uri": "https://localhost:8080/"
        },
        "outputId": "849ddf80-244f-4639-cfd9-021ab75b738f"
      },
      "source": [
        "a"
      ],
      "execution_count": null,
      "outputs": [
        {
          "output_type": "execute_result",
          "data": {
            "text/plain": [
              "array([[[  0,   1,   2],\n",
              "        [ 10,  12,  13]],\n",
              "\n",
              "       [[100, 101, 102],\n",
              "        [110, 112, 113]]])"
            ]
          },
          "metadata": {},
          "execution_count": 152
        }
      ]
    },
    {
      "cell_type": "markdown",
      "metadata": {
        "id": "SF68Sk9hx4lI"
      },
      "source": [
        "### Объединение и разбиение массивов\n",
        "Несколько массивов могут быть объединены вместе вдоль разных осей с помощью функций `hstack` и `vstack`.\n",
        "\n",
        "`hstack()` — объединяет массивы по вторым осям (горизонтально),\n",
        "\n",
        "`vstack()` — по первым (вертикально).\n",
        "\n",
        "Есть функция `stack()` для объединения по любой оси и другие функции."
      ]
    },
    {
      "cell_type": "code",
      "metadata": {
        "ExecuteTime": {
          "end_time": "2020-10-11T07:27:44.668502Z",
          "start_time": "2020-10-11T07:27:44.664502Z"
        },
        "colab": {
          "base_uri": "https://localhost:8080/"
        },
        "id": "tDPfGMkvx4lI",
        "outputId": "5fd6acf4-ea78-473c-e87c-8df9193dc2d3"
      },
      "source": [
        "a = np.array([[1, 2], [3, 4]])\n",
        "a"
      ],
      "execution_count": null,
      "outputs": [
        {
          "output_type": "execute_result",
          "data": {
            "text/plain": [
              "array([[1, 2],\n",
              "       [3, 4]])"
            ]
          },
          "metadata": {},
          "execution_count": 105
        }
      ]
    },
    {
      "cell_type": "code",
      "metadata": {
        "ExecuteTime": {
          "end_time": "2020-10-11T07:27:44.721505Z",
          "start_time": "2020-10-11T07:27:44.716505Z"
        },
        "colab": {
          "base_uri": "https://localhost:8080/"
        },
        "id": "oOnMaXYTx4lI",
        "outputId": "123c11e7-e82d-4289-a2d3-2f65af781b81"
      },
      "source": [
        "b = np.array([[5, 6], [7, 8]])\n",
        "b"
      ],
      "execution_count": null,
      "outputs": [
        {
          "output_type": "execute_result",
          "data": {
            "text/plain": [
              "array([[5, 6],\n",
              "       [7, 8]])"
            ]
          },
          "metadata": {},
          "execution_count": 106
        }
      ]
    },
    {
      "cell_type": "code",
      "metadata": {
        "ExecuteTime": {
          "end_time": "2020-10-11T07:27:44.772508Z",
          "start_time": "2020-10-11T07:27:44.768508Z"
        },
        "colab": {
          "base_uri": "https://localhost:8080/"
        },
        "id": "B00Opa7Vx4lJ",
        "outputId": "839e6f5d-a3e2-44fe-837d-8f7963fb52f0"
      },
      "source": [
        "np.vstack((a, b))"
      ],
      "execution_count": null,
      "outputs": [
        {
          "output_type": "execute_result",
          "data": {
            "text/plain": [
              "array([[1, 2],\n",
              "       [3, 4],\n",
              "       [5, 6],\n",
              "       [7, 8]])"
            ]
          },
          "metadata": {},
          "execution_count": 107
        }
      ]
    },
    {
      "cell_type": "code",
      "metadata": {
        "ExecuteTime": {
          "end_time": "2020-10-11T07:27:44.823511Z",
          "start_time": "2020-10-11T07:27:44.819511Z"
        },
        "colab": {
          "base_uri": "https://localhost:8080/"
        },
        "id": "j9hMnnw1x4lJ",
        "outputId": "8a750be4-4de0-458c-d33f-2eb61159d3ae"
      },
      "source": [
        "np.hstack((a, b))\n"
      ],
      "execution_count": null,
      "outputs": [
        {
          "output_type": "execute_result",
          "data": {
            "text/plain": [
              "array([[1, 2, 5, 6],\n",
              "       [3, 4, 7, 8]])"
            ]
          },
          "metadata": {},
          "execution_count": 108
        }
      ]
    },
    {
      "cell_type": "code",
      "metadata": {
        "ExecuteTime": {
          "end_time": "2020-10-11T07:27:44.874514Z",
          "start_time": "2020-10-11T07:27:44.870513Z"
        },
        "colab": {
          "base_uri": "https://localhost:8080/"
        },
        "id": "THZqCPylx4lJ",
        "outputId": "914474c2-1586-4080-cce1-c4573e7e754d"
      },
      "source": [
        "np.column_stack((a, b))"
      ],
      "execution_count": null,
      "outputs": [
        {
          "output_type": "execute_result",
          "data": {
            "text/plain": [
              "array([[1, 2, 5, 6],\n",
              "       [3, 4, 7, 8]])"
            ]
          },
          "metadata": {},
          "execution_count": 109
        }
      ]
    },
    {
      "cell_type": "code",
      "metadata": {
        "ExecuteTime": {
          "end_time": "2020-10-11T07:27:44.927517Z",
          "start_time": "2020-10-11T07:27:44.923516Z"
        },
        "colab": {
          "base_uri": "https://localhost:8080/"
        },
        "id": "Hmfbp2-Fx4lK",
        "outputId": "02dae2ce-e327-45a0-e643-5feee9df5ae6"
      },
      "source": [
        "np.row_stack((a, b))"
      ],
      "execution_count": null,
      "outputs": [
        {
          "output_type": "execute_result",
          "data": {
            "text/plain": [
              "array([[1, 2],\n",
              "       [3, 4],\n",
              "       [5, 6],\n",
              "       [7, 8]])"
            ]
          },
          "metadata": {},
          "execution_count": 110
        }
      ]
    },
    {
      "cell_type": "markdown",
      "metadata": {
        "id": "GpL08udBx4lK"
      },
      "source": [
        "Используя `hsplit()` можно разбить массив по горизонтальной (второй, столбцы) оси, указав либо число возвращаемых массивов одинаковой формы, либо номера столбцов, после которых массив разрезается \"ножницами\".\n",
        "\n",
        "Аналогично `vsplit()` разрезает массивы по вертикальной (первой, строки) оси."
      ]
    },
    {
      "cell_type": "code",
      "metadata": {
        "ExecuteTime": {
          "end_time": "2020-10-11T07:27:45.038523Z",
          "start_time": "2020-10-11T07:27:45.035523Z"
        },
        "id": "--7APviUx4lK"
      },
      "source": [
        "a = np.arange(12).reshape((2, 6))"
      ],
      "execution_count": null,
      "outputs": []
    },
    {
      "cell_type": "code",
      "metadata": {
        "ExecuteTime": {
          "end_time": "2020-10-11T07:27:45.088526Z",
          "start_time": "2020-10-11T07:27:45.085526Z"
        },
        "id": "WgreWNBkx4lK",
        "colab": {
          "base_uri": "https://localhost:8080/"
        },
        "outputId": "76c31da3-ad73-4970-999e-2f0de66865fe"
      },
      "source": [
        "a"
      ],
      "execution_count": null,
      "outputs": [
        {
          "output_type": "execute_result",
          "data": {
            "text/plain": [
              "array([[ 0,  1,  2,  3,  4,  5],\n",
              "       [ 6,  7,  8,  9, 10, 11]])"
            ]
          },
          "metadata": {},
          "execution_count": 112
        }
      ]
    },
    {
      "cell_type": "code",
      "metadata": {
        "ExecuteTime": {
          "end_time": "2020-10-11T07:27:45.139529Z",
          "start_time": "2020-10-11T07:27:45.134529Z"
        },
        "id": "cTHdnO6fx4lK"
      },
      "source": [
        "z1,z2,z3=np.hsplit(a, 3)  # Разбить на 3 части по столбцам"
      ],
      "execution_count": null,
      "outputs": []
    },
    {
      "cell_type": "code",
      "source": [
        "z1"
      ],
      "metadata": {
        "id": "uEGib9HdLA-D"
      },
      "execution_count": null,
      "outputs": []
    },
    {
      "cell_type": "code",
      "metadata": {
        "ExecuteTime": {
          "end_time": "2020-10-11T07:27:45.190532Z",
          "start_time": "2020-10-11T07:27:45.186532Z"
        },
        "colab": {
          "base_uri": "https://localhost:8080/"
        },
        "id": "9r5MTV_Gx4lL",
        "outputId": "47fdb615-9471-447d-ce21-4798ea2008cf"
      },
      "source": [
        "np.hsplit(a, (3, 4))  # Разрезать a после третьего и четвёртого столбца"
      ],
      "execution_count": null,
      "outputs": [
        {
          "output_type": "execute_result",
          "data": {
            "text/plain": [
              "[array([[0, 1, 2],\n",
              "        [6, 7, 8]]),\n",
              " array([[3],\n",
              "        [9]]),\n",
              " array([[ 4,  5],\n",
              "        [10, 11]])]"
            ]
          },
          "metadata": {},
          "execution_count": 114
        }
      ]
    },
    {
      "cell_type": "code",
      "metadata": {
        "ExecuteTime": {
          "end_time": "2020-10-11T07:27:45.245535Z",
          "start_time": "2020-10-11T07:27:45.241535Z"
        },
        "colab": {
          "base_uri": "https://localhost:8080/"
        },
        "id": "ir_Qyv4nx4lM",
        "outputId": "6d039c3f-1178-449a-ac7c-7ac12bb30762"
      },
      "source": [
        "np.vsplit(a, 2)  # Разбить на 2 части по строкам"
      ],
      "execution_count": null,
      "outputs": [
        {
          "output_type": "execute_result",
          "data": {
            "text/plain": [
              "[array([[0, 1, 2, 3, 4, 5]]), array([[ 6,  7,  8,  9, 10, 11]])]"
            ]
          },
          "metadata": {},
          "execution_count": 30
        }
      ]
    },
    {
      "cell_type": "markdown",
      "metadata": {
        "id": "BqyEQv9fx4lM"
      },
      "source": [
        "## Копии и представления"
      ]
    },
    {
      "cell_type": "markdown",
      "metadata": {
        "id": "SWt_JF96x4lM"
      },
      "source": [
        "Простое присваивание __не создает__ копии массива:"
      ]
    },
    {
      "cell_type": "code",
      "metadata": {
        "ExecuteTime": {
          "end_time": "2020-10-11T07:27:45.384543Z",
          "start_time": "2020-10-11T07:27:45.381543Z"
        },
        "id": "pGa9gTyPx4lM"
      },
      "source": [
        "a = np.arange(12)"
      ],
      "execution_count": null,
      "outputs": []
    },
    {
      "cell_type": "code",
      "metadata": {
        "ExecuteTime": {
          "end_time": "2020-10-11T07:27:45.436546Z",
          "start_time": "2020-10-11T07:27:45.432546Z"
        },
        "colab": {
          "base_uri": "https://localhost:8080/"
        },
        "id": "X1oWQf60x4lM",
        "outputId": "09e9a4b2-e534-4f4d-938d-37ba1fd577f1"
      },
      "source": [
        "a"
      ],
      "execution_count": null,
      "outputs": [
        {
          "output_type": "execute_result",
          "data": {
            "text/plain": [
              "array([ 0,  1,  2,  3,  4,  5,  6,  7,  8,  9, 10, 11])"
            ]
          },
          "metadata": {},
          "execution_count": 157
        }
      ]
    },
    {
      "cell_type": "code",
      "metadata": {
        "ExecuteTime": {
          "end_time": "2020-10-11T07:27:45.486549Z",
          "start_time": "2020-10-11T07:27:45.483549Z"
        },
        "id": "v9hmgMsQx4lM"
      },
      "source": [
        "b = a"
      ],
      "execution_count": null,
      "outputs": []
    },
    {
      "cell_type": "code",
      "metadata": {
        "ExecuteTime": {
          "end_time": "2020-10-11T07:27:45.538552Z",
          "start_time": "2020-10-11T07:27:45.534551Z"
        },
        "colab": {
          "base_uri": "https://localhost:8080/"
        },
        "id": "OhN0PfxSx4lM",
        "outputId": "a59d1eb4-4c5d-4164-cdf9-f38a12920887"
      },
      "source": [
        "b"
      ],
      "execution_count": null,
      "outputs": [
        {
          "output_type": "execute_result",
          "data": {
            "text/plain": [
              "array([ 0,  1,  2,  3,  4,  5,  6,  7,  8,  9, 10, 11])"
            ]
          },
          "metadata": {},
          "execution_count": 159
        }
      ]
    },
    {
      "cell_type": "markdown",
      "metadata": {
        "id": "SoWYM6Clx4lM"
      },
      "source": [
        "__a__ и __b__ это два имени для одного и того же объекта ndarray, нового объекта не было создано.\n",
        "\n",
        "Поменяв __a__, поменяется и __b__.\n",
        "\n",
        "Чтобы проверить что это один и тот же объект можно использовать команду `is`\n",
        "\n",
        "Она вернет *истину* (True) или *ложь* (False)"
      ]
    },
    {
      "cell_type": "code",
      "metadata": {
        "ExecuteTime": {
          "end_time": "2020-10-11T07:27:45.635557Z",
          "start_time": "2020-10-11T07:27:45.631557Z"
        },
        "colab": {
          "base_uri": "https://localhost:8080/"
        },
        "id": "3vFdj1tCx4lM",
        "outputId": "3531b908-4682-4f16-b293-0a5c9ddca730"
      },
      "source": [
        "b is a # проверим что это один и тот же объект"
      ],
      "execution_count": null,
      "outputs": [
        {
          "output_type": "execute_result",
          "data": {
            "text/plain": [
              "True"
            ]
          },
          "metadata": {},
          "execution_count": 170
        }
      ]
    },
    {
      "cell_type": "code",
      "metadata": {
        "ExecuteTime": {
          "end_time": "2020-10-11T07:27:45.687560Z",
          "start_time": "2020-10-11T07:27:45.683560Z"
        },
        "colab": {
          "base_uri": "https://localhost:8080/"
        },
        "id": "Z-jcwTIrx4lN",
        "outputId": "657acffd-40e0-47ce-8395-faa6c0e5f540"
      },
      "source": [
        "b.shape"
      ],
      "execution_count": null,
      "outputs": [
        {
          "output_type": "execute_result",
          "data": {
            "text/plain": [
              "(12,)"
            ]
          },
          "metadata": {},
          "execution_count": 171
        }
      ]
    },
    {
      "cell_type": "code",
      "metadata": {
        "ExecuteTime": {
          "end_time": "2020-10-11T07:27:45.738563Z",
          "start_time": "2020-10-11T07:27:45.736563Z"
        },
        "id": "fRgRQMqkx4lN"
      },
      "source": [
        "b.shape = (3,4) # изменим массив b"
      ],
      "execution_count": null,
      "outputs": []
    },
    {
      "cell_type": "code",
      "metadata": {
        "ExecuteTime": {
          "end_time": "2020-10-11T07:27:45.791566Z",
          "start_time": "2020-10-11T07:27:45.787566Z"
        },
        "colab": {
          "base_uri": "https://localhost:8080/"
        },
        "id": "nmjJ40fnx4lN",
        "outputId": "15711981-3efe-488b-cb8d-2e1e79d7f1f7"
      },
      "source": [
        "a.shape # при этом изменился и массив а"
      ],
      "execution_count": null,
      "outputs": [
        {
          "output_type": "execute_result",
          "data": {
            "text/plain": [
              "(3, 4)"
            ]
          },
          "metadata": {},
          "execution_count": 173
        }
      ]
    },
    {
      "cell_type": "markdown",
      "metadata": {
        "id": "LlhQ5Tidx4lN"
      },
      "source": [
        "`view()` создаст __представление__ массива __a__.\n",
        "\n",
        "Представление - это другой объект, он находится в другом месте памяти, но он связан с исходным массивом. Если поменяем массив __a__, то и его представление __c__ тоже поменяется.\n",
        "\n",
        "Себе вы можете представить это так, мы смотрим на стол одним глазом и другим. Глаза разные, находятся в разных местах, но если стол поменяется, то обоими глазами мы увидим эти изменения.\n",
        "\n"
      ]
    },
    {
      "cell_type": "code",
      "metadata": {
        "ExecuteTime": {
          "end_time": "2020-10-11T07:27:45.887572Z",
          "start_time": "2020-10-11T07:27:45.884571Z"
        },
        "id": "9fPw1L8ix4lN"
      },
      "source": [
        "c = a.view()"
      ],
      "execution_count": null,
      "outputs": []
    },
    {
      "cell_type": "code",
      "source": [
        "c"
      ],
      "metadata": {
        "colab": {
          "base_uri": "https://localhost:8080/"
        },
        "id": "zOw52qqnMI04",
        "outputId": "2d8f27aa-f537-4a3c-fa3e-001534ebb462"
      },
      "execution_count": null,
      "outputs": [
        {
          "output_type": "execute_result",
          "data": {
            "text/plain": [
              "array([[ 0,  1,  2,  3],\n",
              "       [ 4,  5,  6,  7],\n",
              "       [ 8,  9, 10, 11]])"
            ]
          },
          "metadata": {},
          "execution_count": 175
        }
      ]
    },
    {
      "cell_type": "code",
      "metadata": {
        "ExecuteTime": {
          "end_time": "2020-10-11T07:27:45.939575Z",
          "start_time": "2020-10-11T07:27:45.935574Z"
        },
        "colab": {
          "base_uri": "https://localhost:8080/"
        },
        "id": "28DCmJqYx4lN",
        "outputId": "40d54efb-41be-435c-e04e-af77ec31fffc"
      },
      "source": [
        "c is a"
      ],
      "execution_count": null,
      "outputs": [
        {
          "output_type": "execute_result",
          "data": {
            "text/plain": [
              "False"
            ]
          },
          "metadata": {},
          "execution_count": 176
        }
      ]
    },
    {
      "cell_type": "code",
      "metadata": {
        "ExecuteTime": {
          "end_time": "2020-10-11T07:27:45.993578Z",
          "start_time": "2020-10-11T07:27:45.989577Z"
        },
        "colab": {
          "base_uri": "https://localhost:8080/"
        },
        "id": "irx-10Czx4lO",
        "outputId": "010d820a-2f05-4ec9-80f0-c9d6efbe46e6"
      },
      "source": [
        "a[0,0]=100500 # изменим массив a\n",
        "c # изменилось и его представление c"
      ],
      "execution_count": null,
      "outputs": [
        {
          "output_type": "execute_result",
          "data": {
            "text/plain": [
              "array([[100500,      1,      2,      3],\n",
              "       [     4,      5,      6,      7],\n",
              "       [     8,      9,     10,     11]])"
            ]
          },
          "metadata": {},
          "execution_count": 177
        }
      ]
    },
    {
      "cell_type": "code",
      "metadata": {
        "ExecuteTime": {
          "end_time": "2020-10-11T07:27:46.047581Z",
          "start_time": "2020-10-11T07:27:46.043581Z"
        },
        "colab": {
          "base_uri": "https://localhost:8080/"
        },
        "id": "FQBga6yyx4lO",
        "outputId": "5b73ec79-fc21-4673-e9eb-572bcda29d6e"
      },
      "source": [
        "c[1,1]=-100500 # поменяем с\n",
        "c # оно конечно изменилось"
      ],
      "execution_count": null,
      "outputs": [
        {
          "output_type": "execute_result",
          "data": {
            "text/plain": [
              "array([[ 100500,       1,       2,       3],\n",
              "       [      4, -100500,       6,       7],\n",
              "       [      8,       9,      10,      11]])"
            ]
          },
          "metadata": {},
          "execution_count": 178
        }
      ]
    },
    {
      "cell_type": "code",
      "metadata": {
        "ExecuteTime": {
          "end_time": "2020-10-11T07:27:46.100584Z",
          "start_time": "2020-10-11T07:27:46.096584Z"
        },
        "colab": {
          "base_uri": "https://localhost:8080/"
        },
        "id": "Xl19kI9Fx4lO",
        "outputId": "a44c97fb-196a-4957-e6e5-832fb557688d"
      },
      "source": [
        "a # и а тоже изменилось"
      ],
      "execution_count": null,
      "outputs": [
        {
          "output_type": "execute_result",
          "data": {
            "text/plain": [
              "array([[ 100500,       1,       2,       3],\n",
              "       [      4, -100500,       6,       7],\n",
              "       [      8,       9,      10,      11]])"
            ]
          },
          "metadata": {},
          "execution_count": 128
        }
      ]
    },
    {
      "cell_type": "markdown",
      "metadata": {
        "id": "SnFM0QdNx4lP"
      },
      "source": [
        "Если нужно создать копию массива, которая будет независима от самого массива, но содержать те же данные, то используем `copy()`.\n"
      ]
    },
    {
      "cell_type": "code",
      "metadata": {
        "ExecuteTime": {
          "end_time": "2020-10-11T07:27:46.197589Z",
          "start_time": "2020-10-11T07:27:46.193589Z"
        },
        "colab": {
          "base_uri": "https://localhost:8080/"
        },
        "id": "djmqALDax4lP",
        "outputId": "55448147-6192-426a-d329-54367b8e88b5"
      },
      "source": [
        "d = a.copy()  # создается новый объект массива\n",
        "d           # данные в нем такие же"
      ],
      "execution_count": null,
      "outputs": [
        {
          "output_type": "execute_result",
          "data": {
            "text/plain": [
              "array([[ 0,  1,  2,  3],\n",
              "       [ 4,  5,  6,  7],\n",
              "       [ 8,  9, 10, 11]])"
            ]
          },
          "metadata": {},
          "execution_count": 164
        }
      ]
    },
    {
      "cell_type": "code",
      "metadata": {
        "ExecuteTime": {
          "end_time": "2020-10-11T07:27:46.249592Z",
          "start_time": "2020-10-11T07:27:46.246592Z"
        },
        "colab": {
          "base_uri": "https://localhost:8080/"
        },
        "id": "gucb7lWrx4lP",
        "outputId": "7c4018f7-f8c1-4931-b14b-d23b03aa0751"
      },
      "source": [
        "d is a # Это тот же объект? Нет"
      ],
      "execution_count": null,
      "outputs": [
        {
          "output_type": "execute_result",
          "data": {
            "text/plain": [
              "False"
            ]
          },
          "metadata": {},
          "execution_count": 165
        }
      ]
    },
    {
      "cell_type": "code",
      "metadata": {
        "ExecuteTime": {
          "end_time": "2020-10-11T07:27:46.304595Z",
          "start_time": "2020-10-11T07:27:46.300595Z"
        },
        "colab": {
          "base_uri": "https://localhost:8080/"
        },
        "id": "ozht6qwqx4lP",
        "outputId": "9ba7db69-e6ea-4e57-b646-b157ee4dd03a"
      },
      "source": [
        "a[0,0]=-1 # изменим массив a\n",
        "a"
      ],
      "execution_count": null,
      "outputs": [
        {
          "output_type": "execute_result",
          "data": {
            "text/plain": [
              "array([[-1,  1,  2,  3],\n",
              "       [ 4,  5,  6,  7],\n",
              "       [ 8,  9, 10, 11]])"
            ]
          },
          "metadata": {},
          "execution_count": 166
        }
      ]
    },
    {
      "cell_type": "code",
      "metadata": {
        "ExecuteTime": {
          "end_time": "2020-10-11T07:27:46.357599Z",
          "start_time": "2020-10-11T07:27:46.353598Z"
        },
        "colab": {
          "base_uri": "https://localhost:8080/"
        },
        "id": "oloEwvKrx4lP",
        "outputId": "b8cf2ece-9328-4f57-e2eb-3aa8c55dc58d"
      },
      "source": [
        "d        # изменился ли массив d? Нет."
      ],
      "execution_count": null,
      "outputs": [
        {
          "output_type": "execute_result",
          "data": {
            "text/plain": [
              "array([[ 0,  1,  2,  3],\n",
              "       [ 4,  5,  6,  7],\n",
              "       [ 8,  9, 10, 11]])"
            ]
          },
          "metadata": {},
          "execution_count": 167
        }
      ]
    },
    {
      "cell_type": "markdown",
      "metadata": {
        "id": "vQ7m_63Jx4lQ"
      },
      "source": [
        "### Случайные числа в numpy\n",
        "\n",
        "Очень часто для работы нужны *случайные* числа. Это числа, которые каждый раз принимают разные значения. Сегодня одно, завтра другое. На случайности построено много алгоритмов, а иногда качество такой случайности очень сильно влияет на работу.\n",
        "\n",
        "В обычных компьютерах нет настоящих случайных чисел, это слишком дорого. Поэтому все пользуются __псевдослучайными__ числами, которые похожи на случайные, но на самом деле были один раз записаны и сохранены. В компьютерах есть большие таблицы псевдослучайных чисел, из которых они и выбираются (таблицы могут создаваться специальными алгоритмами-генераторами, см. например, [Вихрь Мерсена]( https://ru.wikipedia.org/wiki/Вихрь_Мерсенна) ).\n",
        "\n",
        "Случайные числа описываются *распределением*, функцией, которая примерно показывает сколько разных случайных чисел каждого значения используется.\n",
        "\n",
        "* Равномерное распределение (на отрезке [0 , 1]) означает что есть примерно одинаковое количество чисел каждого значения из этого отрезка. Например, 1000 штук со значением 0, 1005 штук со значением 0.1, 998 штук со значением 0.2 и т.д.\n",
        "\n",
        "* Нормальное распределение  - если нарисовать функцию такого распределения, то она похожа на колокольчик, который расположен в нуле (точная формула нам сейчас не интересна). Это значит, что есть очень много чисел близких к нулю, но есть мало больших чисел, и чем больше число, тем меньше таких чисел в распределении.\n",
        "\n",
        "Случайные числа из распределений выбираются наугад.\n",
        "\n",
        "Для работы со случайными числами нам потребуются модули [`random`](https://pythonworld.ru/moduli/modul-random.html) и [`numpy.random`](https://pythonworld.ru/numpy/3.html).\n"
      ]
    },
    {
      "cell_type": "code",
      "metadata": {
        "ExecuteTime": {
          "end_time": "2020-10-11T07:27:46.458604Z",
          "start_time": "2020-10-11T07:27:46.456604Z"
        },
        "id": "GkbEUhzPx4lQ"
      },
      "source": [
        "import random"
      ],
      "execution_count": null,
      "outputs": []
    },
    {
      "cell_type": "code",
      "metadata": {
        "ExecuteTime": {
          "end_time": "2020-10-11T07:27:46.511607Z",
          "start_time": "2020-10-11T07:27:46.508607Z"
        },
        "id": "SN0fx5t3x4lQ"
      },
      "source": [
        "import numpy as np\n",
        "import numpy.random as rand"
      ],
      "execution_count": null,
      "outputs": []
    },
    {
      "cell_type": "markdown",
      "metadata": {
        "id": "yY_YWvA-x4lQ"
      },
      "source": [
        "Самый простой способ задать массив со случайными элементами - использовать функцию `sample()` (или `random()`, или `random_sample()`, или `ranf()` - это всё одна и та же функция). Ей мы сообщаем размеры массива, который хотим создать. Эта функция берет случайные числа из равномерного распределения на интервале [0, 1) (это значит, что ноль может выпасть, а единичка нет)\n",
        "\n",
        "Позапускайте код ниже несколько раз, каждый раз будут другие числа возвращаться.\n",
        "\n",
        "Если нужны случайные числа из другого диапазона, то их нужно сделать из этих. Сместить, растянуть диапазон."
      ]
    },
    {
      "cell_type": "code",
      "metadata": {
        "ExecuteTime": {
          "end_time": "2020-10-11T07:27:46.611613Z",
          "start_time": "2020-10-11T07:27:46.606613Z"
        },
        "colab": {
          "base_uri": "https://localhost:8080/"
        },
        "id": "1jN-g9Oex4lQ",
        "outputId": "c60fc0e1-93b7-4443-9df5-7451e5281690"
      },
      "source": [
        "np.random.sample() # одно случайное число"
      ],
      "execution_count": null,
      "outputs": [
        {
          "output_type": "execute_result",
          "data": {
            "text/plain": [
              "0.9842622970735164"
            ]
          },
          "metadata": {},
          "execution_count": 181
        }
      ]
    },
    {
      "cell_type": "code",
      "metadata": {
        "ExecuteTime": {
          "end_time": "2020-10-11T07:27:46.664616Z",
          "start_time": "2020-10-11T07:27:46.660616Z"
        },
        "colab": {
          "base_uri": "https://localhost:8080/"
        },
        "id": "x14CMhFHx4lR",
        "outputId": "67451ad4-0781-48d9-b6fb-7c8815b9e654"
      },
      "source": [
        "a=-3\n",
        "b=5\n",
        "a+(b-a)*np.random.sample() # одно случайное число из диапазона [a,b)"
      ],
      "execution_count": null,
      "outputs": [
        {
          "output_type": "execute_result",
          "data": {
            "text/plain": [
              "3.709163867919962"
            ]
          },
          "metadata": {},
          "execution_count": 182
        }
      ]
    },
    {
      "cell_type": "code",
      "metadata": {
        "ExecuteTime": {
          "end_time": "2020-10-11T07:27:46.718619Z",
          "start_time": "2020-10-11T07:27:46.714619Z"
        },
        "colab": {
          "base_uri": "https://localhost:8080/"
        },
        "id": "maoPkimvx4lR",
        "outputId": "e2cfb289-f0cf-4598-d5d5-5488ddd41e14"
      },
      "source": [
        "np.random.sample(5) # Массив из 5 случайных чисел"
      ],
      "execution_count": null,
      "outputs": [
        {
          "output_type": "execute_result",
          "data": {
            "text/plain": [
              "array([0.95184453, 0.2496442 , 0.45934483, 0.38241671, 0.79443612])"
            ]
          },
          "metadata": {},
          "execution_count": 184
        }
      ]
    },
    {
      "cell_type": "code",
      "metadata": {
        "ExecuteTime": {
          "end_time": "2020-10-11T07:27:46.771622Z",
          "start_time": "2020-10-11T07:27:46.766622Z"
        },
        "colab": {
          "base_uri": "https://localhost:8080/"
        },
        "id": "11TB-CTSx4lR",
        "outputId": "891f137b-3b00-4550-ae0c-2860cf9f247f"
      },
      "source": [
        "np.random.sample((1, 1, 4)) # 4 случайных числа в трехмерном массиве"
      ],
      "execution_count": null,
      "outputs": [
        {
          "output_type": "execute_result",
          "data": {
            "text/plain": [
              "array([[[0.37523341, 0.07950184, 0.10085678, 0.41788813]]])"
            ]
          },
          "metadata": {},
          "execution_count": 185
        }
      ]
    },
    {
      "cell_type": "markdown",
      "metadata": {
        "id": "jPuk1iWQx4lR"
      },
      "source": [
        "С помощью функции `randint()` или `random_integers()` можно создать массив из __целых__ случайных чисел.\n",
        "Указываем аргументы: `low`, `high`, `size`: от какого `low`, до какого `high` числа (`randint` не включает в себя это число, а `random_integers` включает), и `size` - размеры массива."
      ]
    },
    {
      "cell_type": "code",
      "metadata": {
        "ExecuteTime": {
          "end_time": "2020-10-11T07:27:46.866628Z",
          "start_time": "2020-10-11T07:27:46.861627Z"
        },
        "colab": {
          "base_uri": "https://localhost:8080/"
        },
        "id": "ojdbGpVEx4lS",
        "outputId": "fb2f730f-11e0-4f02-bc79-304842f440a8"
      },
      "source": [
        "np.random.randint(0, 3, 10)# массив из 10 случайных целых чисел от 0 до 2 (3 не включается)"
      ],
      "execution_count": null,
      "outputs": [
        {
          "output_type": "execute_result",
          "data": {
            "text/plain": [
              "array([1, 2, 2, 1, 1, 1, 0, 1, 2, 2])"
            ]
          },
          "metadata": {},
          "execution_count": 186
        }
      ]
    },
    {
      "cell_type": "code",
      "metadata": {
        "ExecuteTime": {
          "end_time": "2020-10-11T07:27:46.919631Z",
          "start_time": "2020-10-11T07:27:46.912630Z"
        },
        "colab": {
          "base_uri": "https://localhost:8080/"
        },
        "id": "Puhqw8tWx4lS",
        "outputId": "a3ef9bfc-8475-4273-99b4-6d4796452687"
      },
      "source": [
        "np.random.random_integers(0, 3, 10)# массив из 10 случайных целых чисел от 0 до 3 (3 включается)"
      ],
      "execution_count": null,
      "outputs": [
        {
          "output_type": "stream",
          "name": "stderr",
          "text": [
            "<ipython-input-187-b8d9942d7909>:1: DeprecationWarning: This function is deprecated. Please call randint(0, 3 + 1) instead\n",
            "  np.random.random_integers(0, 3, 10)# массив из 10 случайных целых чисел от 0 до 3 (3 включается)\n"
          ]
        },
        {
          "output_type": "execute_result",
          "data": {
            "text/plain": [
              "array([1, 2, 0, 3, 3, 0, 0, 0, 3, 0])"
            ]
          },
          "metadata": {},
          "execution_count": 187
        }
      ]
    },
    {
      "cell_type": "code",
      "metadata": {
        "ExecuteTime": {
          "end_time": "2020-10-11T07:27:46.968633Z",
          "start_time": "2020-10-11T07:27:46.964633Z"
        },
        "colab": {
          "base_uri": "https://localhost:8080/"
        },
        "id": "9FpdTLM8x4lS",
        "outputId": "23fc93c9-097e-432e-b481-87253bc27906"
      },
      "source": [
        "np.random.randint(0, 3, (2, 10))# двумерный массив случайных чисел от 0 до 2."
      ],
      "execution_count": null,
      "outputs": [
        {
          "output_type": "execute_result",
          "data": {
            "text/plain": [
              "array([[1, 2, 2, 0, 1, 2, 0, 0, 2, 2],\n",
              "       [0, 2, 0, 0, 2, 1, 2, 1, 2, 0]])"
            ]
          },
          "metadata": {},
          "execution_count": 190
        }
      ]
    },
    {
      "cell_type": "markdown",
      "metadata": {
        "id": "06g8Urtlx4lT"
      },
      "source": [
        "Можно генерировать числа согласно различным распределениям (Гаусса, Парето и другие). Если понадобятся - см. документацию.\n",
        "\n",
        "Чаще всего нужно равномерное распределение, которое можно получить с помощь функции `uniform()` , смысл аргументов такой же как у `random_integers`, начало и конец могут быть дробными."
      ]
    },
    {
      "cell_type": "code",
      "metadata": {
        "ExecuteTime": {
          "end_time": "2020-10-11T07:27:47.066639Z",
          "start_time": "2020-10-11T07:27:47.061639Z"
        },
        "colab": {
          "base_uri": "https://localhost:8080/"
        },
        "id": "W2B_r5o4x4lT",
        "outputId": "7290eb11-9bad-452b-e7ab-2983bf6032fd"
      },
      "source": [
        "np.random.uniform(2, 8, (2, 10)) # двумерный массив со случайными числами от 2 до 8"
      ],
      "execution_count": null,
      "outputs": [
        {
          "output_type": "execute_result",
          "data": {
            "text/plain": [
              "array([[2.60420891, 5.06988159, 2.11401064, 5.90862811, 2.88228849,\n",
              "        6.34048722, 7.05601303, 5.24385444, 2.19527102, 2.49302537],\n",
              "       [2.19615285, 6.66926387, 6.75892285, 4.13814228, 5.49827409,\n",
              "        4.41220419, 6.98129335, 2.52605067, 2.43608621, 4.63105991]])"
            ]
          },
          "metadata": {},
          "execution_count": 191
        }
      ]
    },
    {
      "cell_type": "markdown",
      "metadata": {
        "id": "MjzF7Wdjx4lT"
      },
      "source": [
        "Случайно перемешать массив можно с помощью функции `shuffle()`. Изменится сам массив."
      ]
    },
    {
      "cell_type": "code",
      "metadata": {
        "ExecuteTime": {
          "end_time": "2020-10-11T07:27:47.158644Z",
          "start_time": "2020-10-11T07:27:47.155644Z"
        },
        "id": "5_lcaYDFx4lT"
      },
      "source": [
        "a = np.arange(10)"
      ],
      "execution_count": null,
      "outputs": []
    },
    {
      "cell_type": "code",
      "source": [
        "a=np.random.randint(0,5,(2,3))"
      ],
      "metadata": {
        "id": "yyXtD5Cu-NoC"
      },
      "execution_count": null,
      "outputs": []
    },
    {
      "cell_type": "code",
      "metadata": {
        "ExecuteTime": {
          "end_time": "2020-10-11T07:27:47.208647Z",
          "start_time": "2020-10-11T07:27:47.204647Z"
        },
        "colab": {
          "base_uri": "https://localhost:8080/"
        },
        "id": "A8F05-W1x4lT",
        "outputId": "de8a92af-1fc6-4a32-a559-21ceaad53f06"
      },
      "source": [
        "a"
      ],
      "execution_count": null,
      "outputs": [
        {
          "output_type": "execute_result",
          "data": {
            "text/plain": [
              "array([[2, 1, 0],\n",
              "       [3, 4, 0]])"
            ]
          },
          "metadata": {},
          "execution_count": 195
        }
      ]
    },
    {
      "cell_type": "code",
      "metadata": {
        "ExecuteTime": {
          "end_time": "2020-10-11T07:27:47.258650Z",
          "start_time": "2020-10-11T07:27:47.255650Z"
        },
        "id": "U5Xh_rd5x4lU"
      },
      "source": [
        "np.random.shuffle(a)"
      ],
      "execution_count": null,
      "outputs": []
    },
    {
      "cell_type": "code",
      "metadata": {
        "ExecuteTime": {
          "end_time": "2020-10-11T07:27:47.309653Z",
          "start_time": "2020-10-11T07:27:47.305653Z"
        },
        "colab": {
          "base_uri": "https://localhost:8080/"
        },
        "id": "zBzWCVIDx4lV",
        "outputId": "f1e8ba4e-4fa6-4956-fa74-ba8c8a014a86"
      },
      "source": [
        "a"
      ],
      "execution_count": null,
      "outputs": [
        {
          "output_type": "execute_result",
          "data": {
            "text/plain": [
              "array([[3, 3, 4],\n",
              "       [2, 4, 3]])"
            ]
          },
          "metadata": {},
          "execution_count": 155
        }
      ]
    },
    {
      "cell_type": "markdown",
      "metadata": {
        "id": "X933AJoax4lV"
      },
      "source": [
        "#### Инициализация генератора случайных чисел\n",
        "\n",
        "Случайные числа берутся из таблицы случайных чисел, можно принудительно заставить компьютер брать случайные числа из одной и той же части таблицы, или из разных.\n",
        "\n",
        "Первое может понадобиться, когда хотим, чтобы вычисления были одинаковыми.\n",
        "\n",
        "Установить, с какого места таблицы начинать брать случайные числа можно с помощью `random.seed()`\n",
        "\n",
        "Попробуйте сделать одинаковые и разные места и сравните результаты.\n",
        "\n",
        "Увеличивайте число `seed` в 100 раз, пока не возникнет ошибка, так примерно узнаете какой размер таблицы."
      ]
    },
    {
      "cell_type": "code",
      "metadata": {
        "ExecuteTime": {
          "end_time": "2020-10-11T07:27:47.408659Z",
          "start_time": "2020-10-11T07:27:47.404658Z"
        },
        "colab": {
          "base_uri": "https://localhost:8080/"
        },
        "id": "d93oxv4zx4lV",
        "outputId": "4eaa2d82-91f7-4bd2-c470-ae083aa63402"
      },
      "source": [
        "np.random.seed(42) # начинаем с места №1000\n",
        "\n",
        "np.random.random(10) # берем 10 случайных чисел"
      ],
      "execution_count": null,
      "outputs": [
        {
          "output_type": "execute_result",
          "data": {
            "text/plain": [
              "array([0.37454012, 0.95071431, 0.73199394, 0.59865848, 0.15601864,\n",
              "       0.15599452, 0.05808361, 0.86617615, 0.60111501, 0.70807258])"
            ]
          },
          "metadata": {},
          "execution_count": 203
        }
      ]
    },
    {
      "cell_type": "code",
      "metadata": {
        "ExecuteTime": {
          "end_time": "2020-10-11T07:27:47.461662Z",
          "start_time": "2020-10-11T07:27:47.457661Z"
        },
        "colab": {
          "base_uri": "https://localhost:8080/"
        },
        "id": "uLPoX9rpx4lV",
        "outputId": "4a031f1d-890b-48f2-84fb-6bc0d6f39943"
      },
      "source": [
        "np.random.seed(100) # Начинаем с другого места №100\n",
        "\n",
        "np.random.random(10) # Берем 10 случайных чисел, они другие"
      ],
      "execution_count": null,
      "outputs": [
        {
          "output_type": "execute_result",
          "data": {
            "text/plain": [
              "array([0.54340494, 0.27836939, 0.42451759, 0.84477613, 0.00471886,\n",
              "       0.12156912, 0.67074908, 0.82585276, 0.13670659, 0.57509333])"
            ]
          },
          "metadata": {},
          "execution_count": 204
        }
      ]
    },
    {
      "cell_type": "code",
      "metadata": {
        "ExecuteTime": {
          "end_time": "2020-10-11T07:27:47.517665Z",
          "start_time": "2020-10-11T07:27:47.513665Z"
        },
        "colab": {
          "base_uri": "https://localhost:8080/"
        },
        "id": "mM7cGUyXx4lV",
        "outputId": "a8d3ab68-3d07-4024-f9f4-3589a06c83a6"
      },
      "source": [
        "np.random.seed(1000) # Начинаем с того же места №1000\n",
        "\n",
        "np.random.random(10) # Берем 10 случайных чисел, они такие же как в первом варианте"
      ],
      "execution_count": null,
      "outputs": [
        {
          "output_type": "execute_result",
          "data": {
            "text/plain": [
              "array([0.65358959, 0.11500694, 0.95028286, 0.4821914 , 0.87247454,\n",
              "       0.21233268, 0.04070962, 0.39719446, 0.2331322 , 0.84174072])"
            ]
          },
          "metadata": {},
          "execution_count": 205
        }
      ]
    },
    {
      "cell_type": "markdown",
      "metadata": {
        "id": "h9qFV6mNx4lV"
      },
      "source": [
        "## Пример из будущих уроков\n",
        "Мы будем часто выполнять операции с массивами, чтобы подготовить данные для наших расчетов.\n",
        "Ниже кусок кода, который нам еще не раз встретится, который показывает как правильно формировать данные для расчетов.\n",
        "\n",
        "Попробуйте по шагам объяснить, что тут происходит.\n",
        "\n",
        "Не получится - не беда, узнаем позже."
      ]
    },
    {
      "cell_type": "code",
      "metadata": {
        "ExecuteTime": {
          "end_time": "2020-10-11T07:27:47.626671Z",
          "start_time": "2020-10-11T07:27:47.622671Z"
        },
        "id": "4ad2mKHZx4lV"
      },
      "source": [
        "batchsize, maps, h, w = 1, 1, 3, 3\n",
        "data = (np.arange(batchsize * maps * h * w).reshape(batchsize, maps, h, w).astype(np.float32))"
      ],
      "execution_count": null,
      "outputs": []
    },
    {
      "cell_type": "code",
      "metadata": {
        "ExecuteTime": {
          "end_time": "2020-10-11T07:27:47.681674Z",
          "start_time": "2020-10-11T07:27:47.677674Z"
        },
        "id": "UHEx2Khpx4lW"
      },
      "source": [
        "data"
      ],
      "execution_count": null,
      "outputs": []
    },
    {
      "cell_type": "code",
      "metadata": {
        "id": "Ypl2z6gFx4lW"
      },
      "source": [],
      "execution_count": null,
      "outputs": []
    }
  ]
}